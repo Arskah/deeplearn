{
 "cells": [
  {
   "cell_type": "markdown",
   "metadata": {
    "deletable": false,
    "editable": false,
    "nbgrader": {
     "cell_type": "markdown",
     "checksum": "923fd3d0a498d8190291bf32231c221a",
     "grade": false,
     "grade_id": "cell-0a8316b039d048ad",
     "locked": true,
     "schema_version": 3,
     "solution": false
    }
   },
   "source": [
    "<div class=\"alert alert-block alert-info\">\n",
    "<b>Number of points for this notebook:</b> 0.8\n",
    "<br>\n",
    "<b>Deadline:</b> March 5, 2021 (Friday) 23:00\n",
    "</div>\n",
    "\n",
    "# Test exercise\n",
    "\n",
    "**IMPORTANT**:\n",
    "**In order to be admitted to the course, you need to solve this test exercise.**\n",
    "\n",
    "The goal of that exercise is to make sure that\n",
    "* you can write python code\n",
    "* you can understand the instructions in the notebooks of the course\n",
    "* you can understand documentation of machine learning libraries.\n",
    "\n",
    "The task is to train a logistic regression model using [`sklearn`](https://scikit-learn.org/stable/index.html) library."
   ]
  },
  {
   "cell_type": "code",
   "execution_count": 31,
   "metadata": {},
   "outputs": [],
   "source": [
    "skip_training = False  # Set this flag to True before validation and submission"
   ]
  },
  {
   "cell_type": "code",
   "execution_count": 32,
   "metadata": {
    "deletable": false,
    "editable": false,
    "nbgrader": {
     "cell_type": "code",
     "checksum": "65e2970339980ef7d85c3754662c4ee8",
     "grade": true,
     "grade_id": "evaluation_settings",
     "locked": true,
     "points": 0,
     "schema_version": 3,
     "solution": false
    }
   },
   "outputs": [],
   "source": [
    "# During evaluation, this cell sets skip_training to True\n",
    "# skip_training = True"
   ]
  },
  {
   "cell_type": "code",
   "execution_count": 33,
   "metadata": {},
   "outputs": [],
   "source": [
    "import pickle\n",
    "import numpy as np\n",
    "import matplotlib.pyplot as plt\n",
    "%matplotlib inline\n",
    "\n",
    "import tools\n",
    "import data"
   ]
  },
  {
   "cell_type": "code",
   "execution_count": 34,
   "metadata": {},
   "outputs": [
    {
     "name": "stdout",
     "output_type": "stream",
     "text": [
      "The data directory is ../data\n"
     ]
    }
   ],
   "source": [
    "# When running on your own computer, you can specify the data directory by:\n",
    "# data_dir = tools.select_data_dir('/your/local/data/directory')\n",
    "data_dir = tools.select_data_dir()"
   ]
  },
  {
   "cell_type": "markdown",
   "metadata": {
    "deletable": false,
    "editable": false,
    "nbgrader": {
     "cell_type": "markdown",
     "checksum": "9eaf295b610437d29888a148ebbf7c9c",
     "grade": false,
     "grade_id": "cell-ce13efdf413792bd",
     "locked": true,
     "schema_version": 3,
     "solution": false
    }
   },
   "source": [
    "# Data\n",
    "\n",
    "We will use the *winequality* dataset which contains red and white vinho verde wine samples rated by experts from 0 to 10 (obtained from [here](https://archive.ics.uci.edu/ml/datasets/wine+quality))."
   ]
  },
  {
   "cell_type": "code",
   "execution_count": 35,
   "metadata": {
    "deletable": false,
    "editable": false,
    "nbgrader": {
     "cell_type": "code",
     "checksum": "d889bee97dfcec2ef8b457a43cf2af67",
     "grade": false,
     "grade_id": "cell-4bba5619c4f19119",
     "locked": true,
     "schema_version": 3,
     "solution": false,
     "task": false
    }
   },
   "outputs": [],
   "source": [
    "trainset = data.WineQuality(data_dir, train=True, normalize=False)\n",
    "x_train, quality_train = [t.numpy() for t in trainset.tensors]\n",
    "\n",
    "testset = data.WineQuality(data_dir, train=False, normalize=False)\n",
    "x_test, quality_test = [t.numpy() for t in testset.tensors]"
   ]
  },
  {
   "cell_type": "code",
   "execution_count": 36,
   "metadata": {
    "deletable": false,
    "editable": false,
    "nbgrader": {
     "cell_type": "code",
     "checksum": "5419c9c967132788abb3c6868e538079",
     "grade": false,
     "grade_id": "cell-999fe4b00daea8c3",
     "locked": true,
     "schema_version": 3,
     "solution": false,
     "task": false
    }
   },
   "outputs": [],
   "source": [
    "# We will work with inputs normalized to zero mean and unit variance\n",
    "mean = x_train.mean(axis=0)\n",
    "std = x_train.std(axis=0)\n",
    "scaler = lambda x: (x - mean) / std\n",
    "\n",
    "x_train = scaler(x_train)\n",
    "x_test = scaler(x_test)"
   ]
  },
  {
   "cell_type": "markdown",
   "metadata": {
    "deletable": false,
    "editable": false,
    "nbgrader": {
     "cell_type": "markdown",
     "checksum": "bf01a4046518500cca48a3da4300084b",
     "grade": false,
     "grade_id": "cell-a560530c488feda3",
     "locked": true,
     "schema_version": 3,
     "solution": false,
     "task": false
    }
   },
   "source": [
    "We transform the learning task into a binary classification problem:\n",
    "* class 0 (bad wines) correspond to wines with the quality smaller than 7.\n",
    "* class 1 (good wines) correspond to the rest of the wines.\n",
    "\n",
    "Your task is to implement a function that performs such a transformation."
   ]
  },
  {
   "cell_type": "code",
   "execution_count": 37,
   "metadata": {
    "deletable": false,
    "nbgrader": {
     "cell_type": "code",
     "checksum": "ba48ed51f2ba6c66f205ca676bfa5515",
     "grade": false,
     "grade_id": "cell-1125b3591cf91eb8",
     "locked": false,
     "schema_version": 3,
     "solution": true,
     "task": false
    }
   },
   "outputs": [
    {
     "name": "stdout",
     "output_type": "stream",
     "text": [
      "[0. 1. 0. 0. 1.]\n"
     ]
    }
   ],
   "source": [
    "def binarize_targets(quality):\n",
    "    \"\"\"\n",
    "    Convert wine quality values to binary values.\n",
    "\n",
    "    Args:\n",
    "      quality of shape (n_samples,): Wine quality (integer values between 3 and 9).\n",
    "    \n",
    "    Returns:\n",
    "      targets of shape (n_samples,): Binary targets for the classification problem:\n",
    "                                      class 0: quality < 7 (bad wine)\n",
    "                                      class 1: quality >= 7 (good wine)\n",
    "    \"\"\"\n",
    "    res = np.array(np.where(quality >=7, 1, 0), dtype=np.float32)\n",
    "    return res\n",
    "\n",
    "\n",
    "def totally_unique_binarize_test():\n",
    "    input = np.array([3,7,5,4,10])\n",
    "    output = binarize_targets(input)\n",
    "    print(output)\n",
    "    assert (output == np.array([0,1,0,0,1])).all()\n",
    "    \n",
    "totally_unique_binarize_test()"
   ]
  },
  {
   "cell_type": "code",
   "execution_count": 38,
   "metadata": {
    "deletable": false,
    "editable": false,
    "nbgrader": {
     "cell_type": "code",
     "checksum": "d3ac06f49283de2a8d1fd651f143837f",
     "grade": false,
     "grade_id": "cell-6d2e5bf2bb02b9dd",
     "locked": true,
     "schema_version": 3,
     "solution": false,
     "task": false
    }
   },
   "outputs": [
    {
     "name": "stdout",
     "output_type": "stream",
     "text": [
      "Success\n"
     ]
    }
   ],
   "source": [
    "targets_train = binarize_targets(quality_train)\n",
    "targets_test = binarize_targets(quality_test)\n",
    "\n",
    "assert targets_train.dtype == np.float32\n",
    "assert targets_train.shape == quality_train.shape\n",
    "print('Success')"
   ]
  },
  {
   "cell_type": "code",
   "execution_count": 39,
   "metadata": {
    "deletable": false,
    "editable": false,
    "nbgrader": {
     "cell_type": "code",
     "checksum": "690aa766094291573d41c340c1793ae7",
     "grade": true,
     "grade_id": "cell-baad0ccbff4c291d",
     "locked": true,
     "points": 0.3,
     "schema_version": 3,
     "solution": false,
     "task": false
    }
   },
   "outputs": [],
   "source": [
    "# This cell tests function binarize_targets()"
   ]
  },
  {
   "cell_type": "markdown",
   "metadata": {
    "deletable": false,
    "editable": false,
    "nbgrader": {
     "cell_type": "markdown",
     "checksum": "f185b3d1f4553148a9d50c7287f056ea",
     "grade": false,
     "grade_id": "cell-fff001b57c687c28",
     "locked": true,
     "schema_version": 3,
     "solution": false
    }
   },
   "source": [
    "# Logistic regression classifier\n",
    "\n",
    "Your task is to train a logistic regression classifier using class [`LogisticRegression`](https://scikit-learn.org/stable/modules/generated/sklearn.linear_model.LogisticRegression.html) from sklearn.\n",
    "\n",
    "Note:\n",
    "* **The accuracy of the trained model should be greater than 0.78 on the test set.**"
   ]
  },
  {
   "cell_type": "code",
   "execution_count": 40,
   "metadata": {
    "deletable": false,
    "editable": false,
    "nbgrader": {
     "cell_type": "code",
     "checksum": "96701cfecaef0a6af96fba3cd68c8be9",
     "grade": false,
     "grade_id": "cell-5c8792dd4f0928e2",
     "locked": true,
     "schema_version": 3,
     "solution": false,
     "task": false
    }
   },
   "outputs": [],
   "source": [
    "from sklearn.linear_model import LogisticRegression"
   ]
  },
  {
   "cell_type": "markdown",
   "metadata": {
    "deletable": false,
    "editable": false,
    "nbgrader": {
     "cell_type": "markdown",
     "checksum": "c2d47f9d25ea6f26d92407428e1c7d37",
     "grade": false,
     "grade_id": "cell-2aca50a2adc32a3b",
     "locked": true,
     "schema_version": 3,
     "solution": false,
     "task": false
    }
   },
   "source": [
    "In the cell below, you need tp Implement a function that creates the model and trains it using the provided data."
   ]
  },
  {
   "cell_type": "code",
   "execution_count": 41,
   "metadata": {
    "deletable": false,
    "nbgrader": {
     "cell_type": "code",
     "checksum": "ac3ba78972289ab59030863a791074e6",
     "grade": false,
     "grade_id": "cell-a709dc017fa6a1b4",
     "locked": false,
     "schema_version": 3,
     "solution": true,
     "task": false
    }
   },
   "outputs": [
    {
     "name": "stdout",
     "output_type": "stream",
     "text": [
      "[[ 0.2881998  -0.11568914  1.7839901  ... -0.42316726  0.04787321\n",
      "  -1.0778744 ]\n",
      " [-1.177131   -0.6030071   1.0306467  ... -0.67084056 -0.48527375\n",
      "  -0.6288911 ]\n",
      " [ 0.2881998   0.12796997  0.8251893  ... -0.6089226  -0.68520385\n",
      "  -0.23603137]\n",
      " ...\n",
      " [ 0.5966906  -0.4811776  -0.2705831  ... -0.54700315 -0.21870038\n",
      "  -0.4043998 ]\n",
      " [ 2.5247574   1.5290087   1.1676183  ...  0.505602    0.1811598\n",
      "  -0.7411367 ]\n",
      " [-0.6372721  -0.05477427 -0.5445263  ...  0.8771097  -0.21870038\n",
      "  -0.99368984]]\n",
      "(100, 11)\n",
      "0.78\n"
     ]
    }
   ],
   "source": [
    "def create_and_train_logistic_regression(inputs, targets):\n",
    "    \"\"\"\n",
    "    Args:\n",
    "      inputs of shape (n_samples, n_inputs): Inputs in the training set.\n",
    "      targets of shape (n_samples,): Targets (integer values wither 0 or 1).\n",
    "    \n",
    "    Returns:\n",
    "      model: Trained model which is an instance of class LogisticRegression.\n",
    "    \"\"\"\n",
    "    model = LogisticRegression().fit(inputs, targets)\n",
    "    return model\n",
    "\n",
    "def totally_unique_model_test():\n",
    "    test_x = x_train[:100]\n",
    "    print(test_x)\n",
    "    print(test_x.shape)\n",
    "    test_y = targets_train[:100]\n",
    "    model = create_and_train_logistic_regression(x_train, targets_train)\n",
    "    score = model.score(test_x, test_y)\n",
    "    print(score)\n",
    "    assert score >= 0.78\n",
    "    \n",
    "totally_unique_model_test()"
   ]
  },
  {
   "cell_type": "code",
   "execution_count": 42,
   "metadata": {
    "code_folding": [],
    "deletable": false,
    "editable": false,
    "nbgrader": {
     "cell_type": "code",
     "checksum": "4fdf6982f2f75e64a70f9c98dedaa3b5",
     "grade": false,
     "grade_id": "cell-692ef1b990bd1bbc",
     "locked": true,
     "schema_version": 3,
     "solution": false,
     "task": false
    },
    "scrolled": true
   },
   "outputs": [],
   "source": [
    "if not skip_training:\n",
    "    model = create_and_train_logistic_regression(x_train, targets_train)"
   ]
  },
  {
   "cell_type": "code",
   "execution_count": 43,
   "metadata": {
    "deletable": false,
    "editable": false,
    "nbgrader": {
     "cell_type": "code",
     "checksum": "259865f28067803901adde075b27a1e9",
     "grade": false,
     "grade_id": "mlp_accuracy",
     "locked": true,
     "schema_version": 3,
     "solution": false,
     "task": false
    }
   },
   "outputs": [],
   "source": [
    "# Save the model to disk (the p-file will be submitted automatically together with your notebook)\n",
    "if not skip_training:\n",
    "    assert isinstance(model, LogisticRegression), 'model should be of type LogisticRegression.'\n",
    "    pickle.dump(model, open('2_logreg.p', 'wb'))\n",
    "else:\n",
    "    model = pickle.load(open('2_logreg.p', 'rb'))"
   ]
  },
  {
   "cell_type": "code",
   "execution_count": 44,
   "metadata": {
    "deletable": false,
    "editable": false,
    "nbgrader": {
     "cell_type": "code",
     "checksum": "0cafe52e3bb684feeb7ee10e64db3c3b",
     "grade": true,
     "grade_id": "cell-7f56154b186d5c0e",
     "locked": true,
     "points": 0.5,
     "schema_version": 3,
     "solution": false,
     "task": false
    }
   },
   "outputs": [],
   "source": [
    "# This cell tests your model"
   ]
  }
 ],
 "metadata": {
  "kernelspec": {
   "display_name": "Python 3",
   "language": "python",
   "name": "python3"
  },
  "language_info": {
   "codemirror_mode": {
    "name": "ipython",
    "version": 3
   },
   "file_extension": ".py",
   "mimetype": "text/x-python",
   "name": "python",
   "nbconvert_exporter": "python",
   "pygments_lexer": "ipython3",
   "version": "3.9.1"
  },
  "varInspector": {
   "cols": {
    "lenName": 16,
    "lenType": 16,
    "lenVar": 40
   },
   "kernels_config": {
    "python": {
     "delete_cmd_postfix": "",
     "delete_cmd_prefix": "del ",
     "library": "var_list.py",
     "varRefreshCmd": "print(var_dic_list())"
    },
    "r": {
     "delete_cmd_postfix": ") ",
     "delete_cmd_prefix": "rm(",
     "library": "var_list.r",
     "varRefreshCmd": "cat(var_dic_list()) "
    }
   },
   "types_to_exclude": [
    "module",
    "function",
    "builtin_function_or_method",
    "instance",
    "_Feature"
   ],
   "window_display": false
  }
 },
 "nbformat": 4,
 "nbformat_minor": 2
}
