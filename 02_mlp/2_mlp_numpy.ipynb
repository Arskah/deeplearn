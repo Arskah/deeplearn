{
 "cells": [
  {
   "cell_type": "markdown",
   "metadata": {
    "deletable": false,
    "editable": false,
    "nbgrader": {
     "cell_type": "markdown",
     "checksum": "99142d41f97264dcc021f5a16611ed44",
     "grade": false,
     "grade_id": "cell-87195ccb7e06731c",
     "locked": true,
     "schema_version": 3,
     "solution": false
    }
   },
   "source": [
    "<div class=\"alert alert-block alert-info\">\n",
    "<b>Number of points for this notebook:</b> 4\n",
    "<br>\n",
    "<b>Deadline:</b> March 10, 2021 (Wednesday) 23:00\n",
    "</div>\n",
    "\n",
    "# Exercise 1.2. Train a multilayer perceptron (MLP) network in numpy.\n",
    "\n",
    "In this exercise, we implement training of a multilayer perceptron network using the `numpy` library.\n",
    "* We implement forward and backward computations required for computing the gradients with backpropagation.\n",
    "* We train an MLP on a toy data set.\n",
    "\n",
    "We will implement an MLP with two hidden layers like shown in this figure:\n",
    "\n",
    "<img src=\"mlp.png\" width=300 style=\"float: top;\">\n",
    "\n",
    "We will build the following computational graph:\n",
    "\n",
    "<img src=\"mlp_compgraph.png\" width=600 style=\"float: top;\">\n",
    "\n",
    "Note that the computational graph contains a mean-squared error (MSE) loss because we solve a regression problem.\n",
    "\n",
    "Recall what we discussed in the lecture:\n",
    "\n",
    "<img src=\"backprop_software.png\" width=800 style=\"float: top;\">"
   ]
  },
  {
   "cell_type": "code",
   "execution_count": 1,
   "metadata": {
    "deletable": false,
    "editable": false,
    "nbgrader": {
     "cell_type": "code",
     "checksum": "9eed5501920d3e124c40a66dcee99fa7",
     "grade": false,
     "grade_id": "cell-cafdead5e95c3773",
     "locked": true,
     "schema_version": 3,
     "solution": false
    }
   },
   "outputs": [],
   "source": [
    "import numpy as np\n",
    "import matplotlib.pyplot as plt\n",
    "\n",
    "%matplotlib inline"
   ]
  },
  {
   "cell_type": "code",
   "execution_count": 2,
   "metadata": {},
   "outputs": [],
   "source": [
    "skip_training = False  # Set this flag to True before validation and submission"
   ]
  },
  {
   "cell_type": "code",
   "execution_count": 3,
   "metadata": {
    "deletable": false,
    "editable": false,
    "nbgrader": {
     "cell_type": "code",
     "checksum": "fe00604c3ac013b22df1df7f9c7f175c",
     "grade": true,
     "grade_id": "evaluation_settings",
     "locked": true,
     "points": 0,
     "schema_version": 3,
     "solution": false,
     "task": false
    }
   },
   "outputs": [],
   "source": [
    "# During grading, this cell sets skip_training to True\n",
    "# skip_training = True"
   ]
  },
  {
   "cell_type": "markdown",
   "metadata": {
    "deletable": false,
    "editable": false,
    "nbgrader": {
     "cell_type": "markdown",
     "checksum": "5d86acc1148120d049457fdc7439961d",
     "grade": false,
     "grade_id": "cell-1b57af4f7c548374",
     "locked": true,
     "schema_version": 3,
     "solution": false,
     "task": false
    }
   },
   "source": [
    "## 1. Gradient of the loss\n",
    "\n",
    "We start by implementing the last block of the computational graph which is the mean-squared error loss:\n",
    "$$\n",
    "c = \\frac{1}{N} \\sum_{i=1}^N (y_i - t_i)^2\n",
    "$$\n",
    "where $y_i$ are the elements of an input vector $\\mathbf{y}$ and $t_i$ are the elements of the target vector $\\mathbf{t}$.\n",
    "\n",
    "In the code below, we define a class that performs forward and backward computations of this loss function. Your task is to implement the `backward` function which should compute the gradient $\\frac{\\partial c}{\\partial \\mathbf{y}}$.\n",
    "\n",
    "Note that we process all $N$ training examples at the same time. Therefore, our implementation operates with two-dimensional arrays of shape `(n_samples, some_size)` where `n_samples` is the number $N$ of training samples and `some_size` is the size of an intermediate vector produced inside the MLP (e.g., the number of neurons in a hidden layer)."
   ]
  },
  {
   "cell_type": "code",
   "execution_count": 4,
   "metadata": {
    "deletable": false,
    "nbgrader": {
     "cell_type": "code",
     "checksum": "9559a39ad6bbb19c80e6001054fae18d",
     "grade": false,
     "grade_id": "MSELoss",
     "locked": false,
     "schema_version": 3,
     "solution": true,
     "task": false
    }
   },
   "outputs": [],
   "source": [
    "class MSELoss:\n",
    "    def forward(self, y, target):\n",
    "        \"\"\"\n",
    "        Args:\n",
    "          y of shape (n_samples, ysize): Inputs of the loss function (can be, e.g., an output of a neural network).\n",
    "          target of shape (n_samples, ysize): Targets.\n",
    "        \n",
    "        Returns:\n",
    "          loss (float): The loss value.\n",
    "        \"\"\"\n",
    "        self.diff = diff = y - target  # Keep this for backward computations\n",
    "        c = np.sum(np.square(diff)) / diff.size\n",
    "        return c\n",
    "\n",
    "    def backward(self):\n",
    "        \"\"\"\n",
    "        Returns:\n",
    "          dy of shape (n_samples, ysize): Gradient of the MSE loss wrt the inputs.\n",
    "        \"\"\"\n",
    "        assert hasattr(self, 'diff'), \"Need to call forward() first\"\n",
    "        return 2 * self.diff / self.diff.size \n",
    "        "
   ]
  },
  {
   "cell_type": "code",
   "execution_count": 5,
   "metadata": {
    "deletable": false,
    "editable": false,
    "nbgrader": {
     "cell_type": "code",
     "checksum": "b193d7a9befef960baae9a6809382fba",
     "grade": false,
     "grade_id": "cell-ea0f3206867f3d16",
     "locked": true,
     "schema_version": 3,
     "solution": false,
     "task": false
    }
   },
   "outputs": [
    {
     "output_type": "stream",
     "name": "stdout",
     "text": [
      "Success\n"
     ]
    }
   ],
   "source": [
    "def test_MSELoss_shapes():\n",
    "    y = np.random.randn(3)\n",
    "    target = np.zeros(3)  # Dummy target\n",
    "    loss = MSELoss()  # Create the loss\n",
    "    loss_value = loss.forward(y, target)  # Do forward computations\n",
    "    dy = loss.backward()  # Do backward computations\n",
    "    assert dy.shape == y.shape, f\"Bad dy.shape: {dy.shape}\"\n",
    "    print('Success')\n",
    "\n",
    "test_MSELoss_shapes()"
   ]
  },
  {
   "cell_type": "markdown",
   "metadata": {
    "deletable": false,
    "editable": false,
    "nbgrader": {
     "cell_type": "markdown",
     "checksum": "50b49f6bef0d311048eb9019ffb4e770",
     "grade": false,
     "grade_id": "cell-c1c40dfe278fb3c7",
     "locked": true,
     "schema_version": 3,
     "solution": false,
     "task": false
    }
   },
   "source": [
    "We can test our implementation by comparing the results of our backward computations with a [numerical estimate](https://en.wikipedia.org/wiki/Numerical_differentiation) of the gradient: Suppose we have function \n",
    "$f(\\mathbf{x})$ of a vector input $\\mathbf{x}$, then the gradient can be estimated numerically at a (randomly chosen) input $\\mathbf{x}$ by\n",
    "$$ \\nabla f(\\mathbf{x}) \\approx \\frac{f(\\mathbf{x} + \\epsilon) - f(\\mathbf{x} - \\epsilon)}{2\\epsilon}$$\n",
    "using small $\\epsilon$. Note that the numerical gradient is an approximation of the analytical one and therefore there will be a small numerical difference between them.\n",
    "\n",
    "The function that we import in the cell below implements numerical computations of the gradient of a given function."
   ]
  },
  {
   "cell_type": "code",
   "execution_count": 6,
   "metadata": {
    "deletable": false,
    "editable": false,
    "nbgrader": {
     "cell_type": "code",
     "checksum": "bdf411c2a8dd9bb465f4c00c7352cc27",
     "grade": false,
     "grade_id": "cell-2561d9e518b3b4bd",
     "locked": true,
     "schema_version": 3,
     "solution": false,
     "task": false
    }
   },
   "outputs": [],
   "source": [
    "from tests import numerical_gradient"
   ]
  },
  {
   "cell_type": "code",
   "execution_count": 7,
   "metadata": {
    "deletable": false,
    "editable": false,
    "nbgrader": {
     "cell_type": "code",
     "checksum": "a8824a44edc5561f43ce33c8e2a9c29f",
     "grade": false,
     "grade_id": "cell-ee82c925fae51626",
     "locked": true,
     "schema_version": 3,
     "solution": false,
     "task": false
    }
   },
   "outputs": [
    {
     "output_type": "stream",
     "name": "stdout",
     "text": [
      "Analytical gradient:\n [0.06838521 0.27518644 0.90305803]\nNumerical gradient:\n [0.06838521 0.27518644 0.90305803]\nSuccess\n"
     ]
    }
   ],
   "source": [
    "# We now compare our analytical computations of the gradient with its numerical estimate\n",
    "def test_MSELoss_backward():\n",
    "    y = np.random.randn(3)\n",
    "    target = np.zeros(3)  # Dummy target\n",
    "    loss = MSELoss()  # Create the loss\n",
    "    loss_value = loss.forward(y, target)  # Do forward computations\n",
    "\n",
    "    dy = loss.backward()\n",
    "    print('Analytical gradient:\\n', dy)\n",
    "    dy_num = numerical_gradient(lambda y: loss.forward(y, target), y)\n",
    "    print('Numerical gradient:\\n', dy_num[0])\n",
    "    assert np.allclose(dy, dy_num), 'Analytical and numerical results differ'\n",
    "    print('Success')\n",
    "\n",
    "test_MSELoss_backward()"
   ]
  },
  {
   "cell_type": "code",
   "execution_count": 8,
   "metadata": {
    "deletable": false,
    "editable": false,
    "nbgrader": {
     "cell_type": "code",
     "checksum": "9a24dff52a0e9e23c15ebd791e6e6605",
     "grade": true,
     "grade_id": "cell-c8af99b85700fd63",
     "locked": true,
     "points": 0,
     "schema_version": 3,
     "solution": false,
     "task": false
    }
   },
   "outputs": [],
   "source": [
    "# This cell tests MSELoss"
   ]
  },
  {
   "cell_type": "markdown",
   "metadata": {
    "deletable": false,
    "editable": false,
    "nbgrader": {
     "cell_type": "markdown",
     "checksum": "0d33f0fd41d4e3918c600dfe8f788fad",
     "grade": false,
     "grade_id": "cell-b71f50dda717743d",
     "locked": true,
     "schema_version": 3,
     "solution": false
    }
   },
   "source": [
    "## 2. Linear layer\n",
    "\n",
    "Next we implement a linear layer.\n",
    "\n",
    "The forward computations of the linear layer are\n",
    "$$\n",
    "\\mathbf{y} = \\mathbf{W} \\mathbf{x} + \\mathbf{b}.\n",
    "$$\n",
    "\n",
    "In the backward pass, the linear layer receives the gradients wrt to the outputs $\\frac{\\partial c}{\\partial \\mathbf{y}}$ and it needs to compute:\n",
    "* the gradients wrt the layer parameters $\\mathbf{W}$ and $\\mathbf{b}$\n",
    "* the gradient $\\frac{\\partial c}{\\partial \\mathbf{x}}$ wrt the inputs.\n",
    "\n",
    "In the cell below, we define a class that resembles class [`nn.Linear`](https://pytorch.org/docs/stable/generated/torch.nn.Linear.html?highlight=nn%20linear#torch.nn.Linear) of pytorch. It calls functions `linear_forward` and `linear_backward` that implement the forward and backward computations. We implmented it this way because it makes it easier to test `linear_forward` and `linear_backward`."
   ]
  },
  {
   "cell_type": "code",
   "execution_count": 9,
   "metadata": {
    "deletable": false,
    "editable": false,
    "nbgrader": {
     "cell_type": "code",
     "checksum": "f461dc0f31ffcad9657dc0e1427f57b8",
     "grade": false,
     "grade_id": "cell-422a5f3dad7faf7b",
     "locked": true,
     "schema_version": 3,
     "solution": false,
     "task": false
    }
   },
   "outputs": [],
   "source": [
    "class Linear:\n",
    "    def __init__(self, in_features, out_features):\n",
    "        \"\"\"\n",
    "        Args:\n",
    "          in_features (int): Number of input features which should be equal to xsize.\n",
    "          out_features (out): Number of output features which should be equal to ysize.\n",
    "        \"\"\"\n",
    "        self.in_features = in_features\n",
    "        self.out_features = out_features\n",
    "        \n",
    "        # Initialize the weights\n",
    "        bound = 3 / np.sqrt(in_features)\n",
    "        self.W = np.random.uniform(-bound, bound, (out_features, in_features))\n",
    "        bound = 1 / np.sqrt(in_features)\n",
    "        self.b = np.random.uniform(-bound, bound, out_features)\n",
    "\n",
    "        self.grad_W = None  # Attribute to store the gradients wrt W\n",
    "        self.grad_b = None  # Attribute to store the gradients wrt b\n",
    "\n",
    "    def forward(self, x):\n",
    "        \"\"\"\n",
    "        Args:\n",
    "          x of shape (n_samples, xsize): Inputs\n",
    "        \n",
    "        Returns:\n",
    "          y of shape (n_samples, ysize): Outputs of shape.\n",
    "        \"\"\"\n",
    "        self.x = x  # Keep this for backward computations\n",
    "        return linear_forward(x, self.W, self.b)\n",
    "\n",
    "    def backward(self, dy):\n",
    "        \"\"\"\n",
    "        Args:\n",
    "          dy of shape (n_samples, ysize): Gradient of a loss wrt outputs.\n",
    "        \n",
    "        Returns:\n",
    "          dx of shape (n_samples, xsize): Gradient of a loss wrt inputs.\n",
    "        \"\"\"\n",
    "        assert hasattr(self, 'x'), \"Need to call forward() first\"\n",
    "        assert dy.ndim == 2 and dy.shape[1] == self.W.shape[0]\n",
    "        dx, self.grad_W, self.grad_b = linear_backward(dy, self.x, self.W, self.b)\n",
    "        return dx"
   ]
  },
  {
   "cell_type": "markdown",
   "metadata": {
    "deletable": false,
    "editable": false,
    "nbgrader": {
     "cell_type": "markdown",
     "checksum": "52c10d9d190c43559fe2ed272ac34dbb",
     "grade": false,
     "grade_id": "cell-c7ec54dadaa14e7b",
     "locked": true,
     "schema_version": 3,
     "solution": false,
     "task": false
    }
   },
   "source": [
    "Your task is to implement `linear_forward` and `linear_backward`."
   ]
  },
  {
   "cell_type": "code",
   "execution_count": 10,
   "metadata": {
    "deletable": false,
    "nbgrader": {
     "cell_type": "code",
     "checksum": "39b4025a5ecd7d5ffe8fc338dc42061b",
     "grade": false,
     "grade_id": "cell-92fa2567f6455189",
     "locked": false,
     "schema_version": 3,
     "solution": true,
     "task": false
    }
   },
   "outputs": [],
   "source": [
    "def linear_forward(x, W, b):\n",
    "    \"\"\"Forward computations in the linear layer:\n",
    "        y = W x + b\n",
    "\n",
    "    Args:\n",
    "      x of shape (n_samples, xsize): Inputs .\n",
    "      W of shape (ysize, xsize): Weight matrix.\n",
    "      b of shape (ysize,): Bias term.\n",
    "\n",
    "    Returns:\n",
    "      y of shape (n_samples, ysize): Outputs.\n",
    "    \"\"\"\n",
    "    #np.dot(W, x.T)\n",
    "    np.dot(x, W.T) + b\n",
    "    y = np.dot(x, W.T) + b\n",
    "    return y\n",
    "    \n",
    "def linear_backward(dy, x, W, b):\n",
    "    \"\"\"Backward computations in the linear layer.\n",
    "\n",
    "    Args:\n",
    "      dy of shape (n_samples, ysize): Gradient of a loss wrt outputs.\n",
    "      x of (n_samples, xsize): Input of shape.\n",
    "      W of shape (ysize, xsize): Weight matrix.\n",
    "      b of shape (ysize,): Bias term.\n",
    "\n",
    "    Returns:\n",
    "      dx of shape (n_samples, xsize): Gradient of a loss wrt inputs.\n",
    "      dW of shape (ysize, xsize): Gradient wrt weight matrix W.\n",
    "      db of shape (ysize,): Gradient wrt bias term b.\n",
    "    \"\"\"\n",
    "    assert dy.ndim == 2 and dy.shape[1] == W.shape[0]\n",
    "    \n",
    "    # derivative of Cost w.r.t W\n",
    "    #self.dW = np.dot(upstream_grad, self.A_prev.T)\n",
    "    # derivative of Cost w.r.t b, sum across rows\n",
    "    #self.db = np.sum(upstream_grad, axis=1, keepdims=True)\n",
    "    # derivative of Cost w.r.t A_prev\n",
    "    #self.dA_prev = np.dot(self.params['W'].T, upstream_grad)\n",
    "\n",
    "    #m = A_prev.shape[1]\n",
    "    #dW = 1./m * np.dot(dy, x.T)\n",
    "    #db = 1./m * np.sum(dy, axis=1, keepdims=True)\n",
    "    #dA_prev = np.dot(W.T, dZ)\n",
    "    \n",
    "    dW = np.dot(x.T, dy).T\n",
    "    db = np.sum(dy, axis=0)\n",
    "    dx = np.dot(W.T, dy.T).T\n",
    "    \n",
    "    return dx, dW, db"
   ]
  },
  {
   "cell_type": "code",
   "execution_count": 11,
   "metadata": {
    "deletable": false,
    "editable": false,
    "nbgrader": {
     "cell_type": "code",
     "checksum": "4e75506b30da32b7fa723a95c25a7b7c",
     "grade": false,
     "grade_id": "cell-7d17ae70e7b767ae",
     "locked": true,
     "schema_version": 3,
     "solution": false,
     "task": false
    }
   },
   "outputs": [
    {
     "output_type": "stream",
     "name": "stdout",
     "text": [
      "Success\n"
     ]
    }
   ],
   "source": [
    "# We test the shapes of the outputs\n",
    "def test_linear_shapes():\n",
    "    n_samples = 4\n",
    "    x = np.random.randn(n_samples, 2)\n",
    "    W = np.random.randn(3, 2)\n",
    "    b = np.random.randn(3)\n",
    "\n",
    "    # Test shapes\n",
    "    y = linear_forward(x, W, b)\n",
    "    dy = np.arange(n_samples * 3).reshape((n_samples, 3))\n",
    "    dx, dW, db = linear_backward(dy, x, W, b)\n",
    "    assert dx.shape == x.shape, f\"Bad dx.shape={dx.shape}, x.shape={x.shape}\"\n",
    "    assert dW.shape == W.shape, f\"Bad dW.shape={dW.shape}, W.shape={W.shape}\"\n",
    "    assert db.shape == b.shape, f\"Bad db.shape={db.shape}, b.shape={b.shape}\"\n",
    "\n",
    "    print('Success')\n",
    "\n",
    "test_linear_shapes()"
   ]
  },
  {
   "cell_type": "markdown",
   "metadata": {
    "deletable": false,
    "editable": false,
    "nbgrader": {
     "cell_type": "markdown",
     "checksum": "0675e30663ed9f4668cac970c31694ca",
     "grade": false,
     "grade_id": "cell-1f307ba68557823b",
     "locked": true,
     "schema_version": 3,
     "solution": false,
     "task": false
    }
   },
   "source": [
    "We can again test the backward computations by numerical differentiation.\n",
    "\n",
    "Note that function `numerical_gradient` imported above accepts functions `fun` that works only with *one-dimensional arrays* as inputs and outputs.\n",
    "\n",
    "Suppose we have function `fun(X)` which accepts a two-dimensional array `X` of shape `(n1, n2)` as input and produces a one-dimensional array `y` of shape `(ny,)` as output. We want to compute partial derivatives\n",
    "`d y[i] / d X[k,l]` for each output element `y[i]` and each element `X[k,l]` of the input matrix. We can to it in the following way.\n",
    "\n",
    "First, we define a function with one-dimensional inputs such that it can be passed to our `numerical_gradient`\n",
    "function. Function `fun2` reshapes a one-dimensional array passed to it and calls function `fun`:\n",
    "```\n",
    "fun2 = lambda A: fun(A.reshape(n1, n2))\n",
    "```\n",
    "\n",
    "Then we can call the `numerical_gradient` function:\n",
    "```\n",
    "A = np.random.randn(n1, n2)\n",
    "dA = numerical_gradient(fun2, A.flatten())\n",
    "```\n",
    "which will produce a two dimensional array of shape `(ny, n1*n2)` that will contain the required partial\n",
    "derivatives.\n"
   ]
  },
  {
   "cell_type": "code",
   "execution_count": 12,
   "metadata": {
    "deletable": false,
    "editable": false,
    "nbgrader": {
     "cell_type": "code",
     "checksum": "5ab42cdea4b6b41dd2fe8cb46a1d873c",
     "grade": false,
     "grade_id": "cell-00b350d6c7ada8e3",
     "locked": true,
     "schema_version": 3,
     "solution": false,
     "task": false
    }
   },
   "outputs": [
    {
     "output_type": "stream",
     "name": "stdout",
     "text": [
      "Analytical gradient:\n [[ -7.12815962  18.38367999]\n [ -8.82975952  19.96901968]\n [-10.53135942  21.55435936]]\nNumerical gradient:\n [[ -7.12815962  18.38367999]\n [ -8.82975952  19.96901968]\n [-10.53135942  21.55435936]]\nSuccess\n"
     ]
    }
   ],
   "source": [
    "# We test the backward computations of d/dW by numerical differentiation\n",
    "def test_linear_numerically():\n",
    "    n_samples = 4\n",
    "    x = np.random.randn(n_samples, 2)\n",
    "    W = np.random.randn(3, 2)\n",
    "    b = np.random.randn(3)\n",
    "\n",
    "    y = linear_forward(x, W, b)\n",
    "    dy = np.arange(n_samples * 3).reshape((n_samples, 3))\n",
    "    dx, dW, db = linear_backward(dy, x, W, b)\n",
    "\n",
    "    print('Analytical gradient:\\n', dW)\n",
    "    dW_num = numerical_gradient(lambda W: linear_forward(x, W.reshape(3, 2), b).flatten(), W.flatten())\n",
    "    dW_num = dW_num.reshape(y.shape + W.shape)\n",
    "    expected = (dy[:, :, None, None] * dW_num).sum(axis=(0,1))\n",
    "    print('Numerical gradient:\\n', expected)\n",
    "    assert np.allclose(dW, expected), 'Analytical and numerical results differ'\n",
    "    print('Success')\n",
    "\n",
    "test_linear_numerically()"
   ]
  },
  {
   "cell_type": "markdown",
   "metadata": {
    "deletable": false,
    "editable": false,
    "nbgrader": {
     "cell_type": "markdown",
     "checksum": "4137e6ce36250cf8abafae53b40c87c7",
     "grade": false,
     "grade_id": "cell-91d19db375ecd0d5",
     "locked": true,
     "schema_version": 3,
     "solution": false,
     "task": false
    }
   },
   "source": [
    "We recommend you to compare analytical and numerical computations of the gradients also wrt input `x` and bias term `b`."
   ]
  },
  {
   "cell_type": "code",
   "execution_count": 13,
   "metadata": {
    "deletable": false,
    "editable": false,
    "nbgrader": {
     "cell_type": "code",
     "checksum": "7bd9775725d04e74cef35241eb570f99",
     "grade": true,
     "grade_id": "linear_batch_Wb",
     "locked": true,
     "points": 1,
     "schema_version": 3,
     "solution": false,
     "task": false
    }
   },
   "outputs": [],
   "source": [
    "# This cell tests linear_forward and linear_backward"
   ]
  },
  {
   "cell_type": "code",
   "execution_count": 14,
   "metadata": {
    "deletable": false,
    "editable": false,
    "nbgrader": {
     "cell_type": "code",
     "checksum": "a77743a622413602365f3d776e550013",
     "grade": true,
     "grade_id": "cell-6bad54818463363a",
     "locked": true,
     "points": 0.5,
     "schema_version": 3,
     "solution": false,
     "task": false
    }
   },
   "outputs": [],
   "source": [
    "# This cell tests linear_forward and linear_backward"
   ]
  },
  {
   "cell_type": "code",
   "execution_count": 15,
   "metadata": {
    "deletable": false,
    "editable": false,
    "nbgrader": {
     "cell_type": "code",
     "checksum": "1316dccf770021830b55f35740560574",
     "grade": true,
     "grade_id": "linear_batch_x",
     "locked": true,
     "points": 1,
     "schema_version": 3,
     "solution": false,
     "task": false
    }
   },
   "outputs": [],
   "source": [
    "# This cell tests linear_forward and linear_backward"
   ]
  },
  {
   "cell_type": "markdown",
   "metadata": {
    "deletable": false,
    "editable": false,
    "nbgrader": {
     "cell_type": "markdown",
     "checksum": "c0e0dbbc7008220c348ff24e28fc9785",
     "grade": false,
     "grade_id": "cell-f6dc372ec175c898",
     "locked": true,
     "schema_version": 3,
     "solution": false,
     "task": false
    }
   },
   "source": [
    "## 3. The Tanh activation function\n",
    "\n",
    "Next we implement the Tanh activation function. The activation function is applied *element-wise* to input vector $\\mathbf{x}$ to produce outputs $\\mathbf{y}$:\n",
    "$$\n",
    "\\mathbf{y} = \\text{tanh}(\\mathbf{x}) \\quad \\text{such that} \\quad y_i = \\text{tanh}(x_i).\n",
    "$$\n",
    "\n",
    "When we backpropagate through that block, we need to transform the gradients $\\frac{\\partial c}{\\partial \\mathbf{y}}$ wrt to the outputs into the gradients wrt the inputs $\\frac{\\partial c}{\\partial \\mathbf{x}}$. Your task is to implement the forward and backward computations.\n",
    "\n",
    "Notes:\n",
    "* We recommend you to compare analytical and numerical computations of the gradient.\n",
    "* If you use function `numerical_gradient` to differentiate numerically `Tanh.forward()` using a one-dimensional array `x` as input, the output of `numerical_gradient` is a two-dimensional array (Jacobian matrix). We are interested only in the diagonal elements of that array because the nonlinearity is applied *element-wise*."
   ]
  },
  {
   "cell_type": "code",
   "execution_count": 16,
   "metadata": {
    "deletable": false,
    "nbgrader": {
     "cell_type": "code",
     "checksum": "620b72703d6c8524017b696f71a8ad85",
     "grade": false,
     "grade_id": "cell-15a2ce86bee8cd17",
     "locked": false,
     "schema_version": 3,
     "solution": true,
     "task": false
    }
   },
   "outputs": [],
   "source": [
    "class Tanh:\n",
    "    def forward(self, x):\n",
    "        \"\"\"\n",
    "        Args:\n",
    "          x (array): Input of shape (n_features,).\n",
    "        \n",
    "        Returns:\n",
    "          y (array): Output of shape (n_features,).\n",
    "        \"\"\"\n",
    "        tanh = np.tanh(x)\n",
    "        self.x = x\n",
    "        return np.tanh(x)\n",
    "        \n",
    "\n",
    "    def backward(self, dy):\n",
    "        \"\"\"\n",
    "        Args:\n",
    "          dy (array): Gradient of a loss wrt outputs, shape (n_features,).\n",
    "        \n",
    "        Returns:\n",
    "          dx (array): Gradient of a loss wrt inputs, shape (n_features,).\n",
    "        \"\"\"\n",
    "        assert hasattr(self, 'x'), \"Need to call forward() first.\"        \n",
    "        return dy * (1 - np.tanh(self.x)**2)"
   ]
  },
  {
   "cell_type": "code",
   "execution_count": 17,
   "metadata": {
    "deletable": false,
    "editable": false,
    "nbgrader": {
     "cell_type": "code",
     "checksum": "79d03a6c844168fa1c36d7b63b4ad33a",
     "grade": false,
     "grade_id": "cell-a2624334df2e830f",
     "locked": true,
     "schema_version": 3,
     "solution": false,
     "task": false
    }
   },
   "outputs": [
    {
     "output_type": "stream",
     "name": "stdout",
     "text": [
      "Success\n"
     ]
    }
   ],
   "source": [
    "def test_Tanh_shapes():\n",
    "    x = np.random.randn(3)\n",
    "    act_fn = Tanh()\n",
    "    y = act_fn.forward(x)\n",
    "    dy = np.arange(1, 4)\n",
    "    dx = act_fn.backward(dy)\n",
    "    assert dx.shape == x.shape, f\"Bad dx.shape: {dx.shape}\"\n",
    "    print('Success')\n",
    "\n",
    "test_Tanh_shapes()"
   ]
  },
  {
   "cell_type": "markdown",
   "metadata": {
    "deletable": false,
    "editable": false,
    "nbgrader": {
     "cell_type": "markdown",
     "checksum": "7f3e52bc9f308d8c95157d35a24ba623",
     "grade": false,
     "grade_id": "cell-15e28241c83862b3",
     "locked": true,
     "schema_version": 3,
     "solution": false
    }
   },
   "source": [
    "## 4. Multilayer Perceptron (MLP)\n",
    "\n",
    "In the cell below, you need to implement an MLP with two hidden layers and `Tanh` nonlinearity. Use instances of classes `Linear` and `Tanh` in your implementation.\n",
    "\n",
    "Note:\n",
    "* For testing purposes, the instances of `Linear` and `Tanh` classes should be attributes of class `MLP` such as attribute `fc1` in the example below:\n",
    "```\n",
    "    def __init__(self, in_features, hidden_size1, hidden_size2, out_features):\n",
    "        self.fc1 = Linear(...)\n",
    "```"
   ]
  },
  {
   "cell_type": "code",
   "execution_count": 18,
   "metadata": {
    "deletable": false,
    "nbgrader": {
     "cell_type": "code",
     "checksum": "e1a778e3751d9cba4470e79d054d4bbb",
     "grade": false,
     "grade_id": "MLPBatch",
     "locked": false,
     "schema_version": 3,
     "solution": true
    }
   },
   "outputs": [],
   "source": [
    "class MLP:\n",
    "    def __init__(self, in_features, hidden_size1, hidden_size2, out_features):\n",
    "        \"\"\"\n",
    "        Args:\n",
    "          in_features (int): Number of inputs which should be equal to xsize.\n",
    "          hidden_size1 (int): Number of units in the first hidden layer.\n",
    "          hidden_size2 (int): Number of units in the second hidden layer.\n",
    "          out_features (int): Number of outputs which should be equal to ysize.\n",
    "        \"\"\"\n",
    "        # YOUR CODE HERE\n",
    "        \n",
    "        self.fc1 = Linear(in_features, hidden_size1)\n",
    "        self.fc2 = Linear(hidden_size1, hidden_size2)\n",
    "        self.fc3 = Linear(hidden_size2, out_features)\n",
    "        \n",
    "        self.tanh1 = Tanh()\n",
    "        self.tanh2 = Tanh()\n",
    "        \n",
    "\n",
    "    def forward(self, x):\n",
    "        \"\"\"\n",
    "        Args:\n",
    "          x (array): Input of shape [N, xsize].\n",
    "        \n",
    "        Returns:\n",
    "          y (array): Output of shape [N, ysize].\n",
    "        \"\"\"\n",
    "        # YOUR CODE HERE\n",
    "        \n",
    "        x = self.tanh1.forward(self.fc1.forward(x))\n",
    "        x = self.tanh2.forward(self.fc2.forward(x))\n",
    "        x = self.fc3.forward(x)\n",
    "        return x\n",
    "        \n",
    "\n",
    "    def backward(self, dy):\n",
    "        \"\"\"\n",
    "        Args:\n",
    "          dy (array): Gradient of a loss wrt outputs (shape [N, ysize]).\n",
    "        \n",
    "        Returns:\n",
    "          dx (array): Gradient of a loss wrt inputs (shape [N, xsize]).\n",
    "        \"\"\"\n",
    "        \n",
    "        # YOUR CODE HERE\n",
    "        dy = self.tanh2.backward(self.fc3.backward(dy))\n",
    "        dy = self.tanh1.backward(self.fc2.backward(dy))\n",
    "        dy = self.fc1.backward(dy)\n",
    "        return dy"
   ]
  },
  {
   "cell_type": "code",
   "execution_count": 19,
   "metadata": {
    "deletable": false,
    "editable": false,
    "nbgrader": {
     "cell_type": "code",
     "checksum": "2652272c9b14ad871a8b564d341ac032",
     "grade": false,
     "grade_id": "cell-07c80ef21983d673",
     "locked": true,
     "schema_version": 3,
     "solution": false,
     "task": false
    }
   },
   "outputs": [
    {
     "output_type": "stream",
     "name": "stdout",
     "text": [
      "Success\n"
     ]
    }
   ],
   "source": [
    "def test_MLP_shapes():\n",
    "    n_samples = 10\n",
    "    x = np.random.randn(n_samples, 1)\n",
    "    mlp_batch = MLP(1, 10, 20, 1)\n",
    "    y = mlp_batch.forward(x)\n",
    "\n",
    "    dy = np.arange(n_samples).reshape((n_samples, 1))   # Dummy gradient of a loss function wrt MLP's outputs.\n",
    "    dx = mlp_batch.backward(dy)\n",
    "    assert dx.shape == x.shape, f\"Bad dx.shape={dx.shape}, x.shape={x.shape}\"\n",
    "    print('Success')\n",
    "\n",
    "test_MLP_shapes()"
   ]
  },
  {
   "cell_type": "code",
   "execution_count": 20,
   "metadata": {
    "deletable": false,
    "editable": false,
    "nbgrader": {
     "cell_type": "code",
     "checksum": "7914368031d1b33de874396143d64051",
     "grade": true,
     "grade_id": "test_MLPBatch",
     "locked": true,
     "points": 1.5,
     "schema_version": 3,
     "solution": false
    }
   },
   "outputs": [],
   "source": [
    "# This cell tests MLP"
   ]
  },
  {
   "cell_type": "code",
   "execution_count": 21,
   "metadata": {
    "deletable": false,
    "editable": false,
    "nbgrader": {
     "cell_type": "code",
     "checksum": "366fa51dd0dde9f63b4a0fd2a856224f",
     "grade": false,
     "grade_id": "cell-91d50afcfcbc324d",
     "locked": true,
     "schema_version": 3,
     "solution": false
    }
   },
   "outputs": [
    {
     "output_type": "display_data",
     "data": {
      "text/plain": "<Figure size 432x288 with 1 Axes>",
      "image/svg+xml": "<?xml version=\"1.0\" encoding=\"utf-8\" standalone=\"no\"?>\n<!DOCTYPE svg PUBLIC \"-//W3C//DTD SVG 1.1//EN\"\n  \"http://www.w3.org/Graphics/SVG/1.1/DTD/svg11.dtd\">\n<!-- Created with matplotlib (https://matplotlib.org/) -->\n<svg height=\"251.755305pt\" version=\"1.1\" viewBox=\"0 0 370.942187 251.755305\" width=\"370.942187pt\" xmlns=\"http://www.w3.org/2000/svg\" xmlns:xlink=\"http://www.w3.org/1999/xlink\">\n <metadata>\n  <rdf:RDF xmlns:cc=\"http://creativecommons.org/ns#\" xmlns:dc=\"http://purl.org/dc/elements/1.1/\" xmlns:rdf=\"http://www.w3.org/1999/02/22-rdf-syntax-ns#\">\n   <cc:Work>\n    <dc:type rdf:resource=\"http://purl.org/dc/dcmitype/StillImage\"/>\n    <dc:date>2021-03-09T22:04:18.090223</dc:date>\n    <dc:format>image/svg+xml</dc:format>\n    <dc:creator>\n     <cc:Agent>\n      <dc:title>Matplotlib v3.3.4, https://matplotlib.org/</dc:title>\n     </cc:Agent>\n    </dc:creator>\n   </cc:Work>\n  </rdf:RDF>\n </metadata>\n <defs>\n  <style type=\"text/css\">*{stroke-linecap:butt;stroke-linejoin:round;}</style>\n </defs>\n <g id=\"figure_1\">\n  <g id=\"patch_1\">\n   <path d=\"M 0 251.755305 \nL 370.942187 251.755305 \nL 370.942187 0 \nL 0 0 \nz\n\" style=\"fill:none;\"/>\n  </g>\n  <g id=\"axes_1\">\n   <g id=\"patch_2\">\n    <path d=\"M 28.942188 227.87718 \nL 363.742188 227.87718 \nL 363.742188 10.43718 \nL 28.942188 10.43718 \nz\n\" style=\"fill:#ffffff;\"/>\n   </g>\n   <g id=\"matplotlib.axis_1\">\n    <g id=\"xtick_1\">\n     <g id=\"line2d_1\">\n      <path clip-path=\"url(#pb58fac34b6)\" d=\"M 44.160369 227.87718 \nL 44.160369 10.43718 \n\" style=\"fill:none;stroke:#b0b0b0;stroke-linecap:square;stroke-width:0.8;\"/>\n     </g>\n     <g id=\"line2d_2\">\n      <defs>\n       <path d=\"M 0 0 \nL 0 3.5 \n\" id=\"me4f37f6b52\" style=\"stroke:#000000;stroke-width:0.8;\"/>\n      </defs>\n      <g>\n       <use style=\"stroke:#000000;stroke-width:0.8;\" x=\"44.160369\" xlink:href=\"#me4f37f6b52\" y=\"227.87718\"/>\n      </g>\n     </g>\n     <g id=\"text_1\">\n      <!-- −10.0 -->\n      <g transform=\"translate(28.837713 242.475617)scale(0.1 -0.1)\">\n       <defs>\n        <path d=\"M 10.59375 35.5 \nL 73.1875 35.5 \nL 73.1875 27.203125 \nL 10.59375 27.203125 \nz\n\" id=\"DejaVuSans-8722\"/>\n        <path d=\"M 12.40625 8.296875 \nL 28.515625 8.296875 \nL 28.515625 63.921875 \nL 10.984375 60.40625 \nL 10.984375 69.390625 \nL 28.421875 72.90625 \nL 38.28125 72.90625 \nL 38.28125 8.296875 \nL 54.390625 8.296875 \nL 54.390625 0 \nL 12.40625 0 \nz\n\" id=\"DejaVuSans-49\"/>\n        <path d=\"M 31.78125 66.40625 \nQ 24.171875 66.40625 20.328125 58.90625 \nQ 16.5 51.421875 16.5 36.375 \nQ 16.5 21.390625 20.328125 13.890625 \nQ 24.171875 6.390625 31.78125 6.390625 \nQ 39.453125 6.390625 43.28125 13.890625 \nQ 47.125 21.390625 47.125 36.375 \nQ 47.125 51.421875 43.28125 58.90625 \nQ 39.453125 66.40625 31.78125 66.40625 \nz\nM 31.78125 74.21875 \nQ 44.046875 74.21875 50.515625 64.515625 \nQ 56.984375 54.828125 56.984375 36.375 \nQ 56.984375 17.96875 50.515625 8.265625 \nQ 44.046875 -1.421875 31.78125 -1.421875 \nQ 19.53125 -1.421875 13.0625 8.265625 \nQ 6.59375 17.96875 6.59375 36.375 \nQ 6.59375 54.828125 13.0625 64.515625 \nQ 19.53125 74.21875 31.78125 74.21875 \nz\n\" id=\"DejaVuSans-48\"/>\n        <path d=\"M 10.6875 12.40625 \nL 21 12.40625 \nL 21 0 \nL 10.6875 0 \nz\n\" id=\"DejaVuSans-46\"/>\n       </defs>\n       <use xlink:href=\"#DejaVuSans-8722\"/>\n       <use x=\"83.789062\" xlink:href=\"#DejaVuSans-49\"/>\n       <use x=\"147.412109\" xlink:href=\"#DejaVuSans-48\"/>\n       <use x=\"211.035156\" xlink:href=\"#DejaVuSans-46\"/>\n       <use x=\"242.822266\" xlink:href=\"#DejaVuSans-48\"/>\n      </g>\n     </g>\n    </g>\n    <g id=\"xtick_2\">\n     <g id=\"line2d_3\">\n      <path clip-path=\"url(#pb58fac34b6)\" d=\"M 82.205824 227.87718 \nL 82.205824 10.43718 \n\" style=\"fill:none;stroke:#b0b0b0;stroke-linecap:square;stroke-width:0.8;\"/>\n     </g>\n     <g id=\"line2d_4\">\n      <g>\n       <use style=\"stroke:#000000;stroke-width:0.8;\" x=\"82.205824\" xlink:href=\"#me4f37f6b52\" y=\"227.87718\"/>\n      </g>\n     </g>\n     <g id=\"text_2\">\n      <!-- −7.5 -->\n      <g transform=\"translate(70.064418 242.475617)scale(0.1 -0.1)\">\n       <defs>\n        <path d=\"M 8.203125 72.90625 \nL 55.078125 72.90625 \nL 55.078125 68.703125 \nL 28.609375 0 \nL 18.3125 0 \nL 43.21875 64.59375 \nL 8.203125 64.59375 \nz\n\" id=\"DejaVuSans-55\"/>\n        <path d=\"M 10.796875 72.90625 \nL 49.515625 72.90625 \nL 49.515625 64.59375 \nL 19.828125 64.59375 \nL 19.828125 46.734375 \nQ 21.96875 47.46875 24.109375 47.828125 \nQ 26.265625 48.1875 28.421875 48.1875 \nQ 40.625 48.1875 47.75 41.5 \nQ 54.890625 34.8125 54.890625 23.390625 \nQ 54.890625 11.625 47.5625 5.09375 \nQ 40.234375 -1.421875 26.90625 -1.421875 \nQ 22.3125 -1.421875 17.546875 -0.640625 \nQ 12.796875 0.140625 7.71875 1.703125 \nL 7.71875 11.625 \nQ 12.109375 9.234375 16.796875 8.0625 \nQ 21.484375 6.890625 26.703125 6.890625 \nQ 35.15625 6.890625 40.078125 11.328125 \nQ 45.015625 15.765625 45.015625 23.390625 \nQ 45.015625 31 40.078125 35.4375 \nQ 35.15625 39.890625 26.703125 39.890625 \nQ 22.75 39.890625 18.8125 39.015625 \nQ 14.890625 38.140625 10.796875 36.28125 \nz\n\" id=\"DejaVuSans-53\"/>\n       </defs>\n       <use xlink:href=\"#DejaVuSans-8722\"/>\n       <use x=\"83.789062\" xlink:href=\"#DejaVuSans-55\"/>\n       <use x=\"147.412109\" xlink:href=\"#DejaVuSans-46\"/>\n       <use x=\"179.199219\" xlink:href=\"#DejaVuSans-53\"/>\n      </g>\n     </g>\n    </g>\n    <g id=\"xtick_3\">\n     <g id=\"line2d_5\">\n      <path clip-path=\"url(#pb58fac34b6)\" d=\"M 120.251278 227.87718 \nL 120.251278 10.43718 \n\" style=\"fill:none;stroke:#b0b0b0;stroke-linecap:square;stroke-width:0.8;\"/>\n     </g>\n     <g id=\"line2d_6\">\n      <g>\n       <use style=\"stroke:#000000;stroke-width:0.8;\" x=\"120.251278\" xlink:href=\"#me4f37f6b52\" y=\"227.87718\"/>\n      </g>\n     </g>\n     <g id=\"text_3\">\n      <!-- −5.0 -->\n      <g transform=\"translate(108.109872 242.475617)scale(0.1 -0.1)\">\n       <use xlink:href=\"#DejaVuSans-8722\"/>\n       <use x=\"83.789062\" xlink:href=\"#DejaVuSans-53\"/>\n       <use x=\"147.412109\" xlink:href=\"#DejaVuSans-46\"/>\n       <use x=\"179.199219\" xlink:href=\"#DejaVuSans-48\"/>\n      </g>\n     </g>\n    </g>\n    <g id=\"xtick_4\">\n     <g id=\"line2d_7\">\n      <path clip-path=\"url(#pb58fac34b6)\" d=\"M 158.296733 227.87718 \nL 158.296733 10.43718 \n\" style=\"fill:none;stroke:#b0b0b0;stroke-linecap:square;stroke-width:0.8;\"/>\n     </g>\n     <g id=\"line2d_8\">\n      <g>\n       <use style=\"stroke:#000000;stroke-width:0.8;\" x=\"158.296733\" xlink:href=\"#me4f37f6b52\" y=\"227.87718\"/>\n      </g>\n     </g>\n     <g id=\"text_4\">\n      <!-- −2.5 -->\n      <g transform=\"translate(146.155327 242.475617)scale(0.1 -0.1)\">\n       <defs>\n        <path d=\"M 19.1875 8.296875 \nL 53.609375 8.296875 \nL 53.609375 0 \nL 7.328125 0 \nL 7.328125 8.296875 \nQ 12.9375 14.109375 22.625 23.890625 \nQ 32.328125 33.6875 34.8125 36.53125 \nQ 39.546875 41.84375 41.421875 45.53125 \nQ 43.3125 49.21875 43.3125 52.78125 \nQ 43.3125 58.59375 39.234375 62.25 \nQ 35.15625 65.921875 28.609375 65.921875 \nQ 23.96875 65.921875 18.8125 64.3125 \nQ 13.671875 62.703125 7.8125 59.421875 \nL 7.8125 69.390625 \nQ 13.765625 71.78125 18.9375 73 \nQ 24.125 74.21875 28.421875 74.21875 \nQ 39.75 74.21875 46.484375 68.546875 \nQ 53.21875 62.890625 53.21875 53.421875 \nQ 53.21875 48.921875 51.53125 44.890625 \nQ 49.859375 40.875 45.40625 35.40625 \nQ 44.1875 33.984375 37.640625 27.21875 \nQ 31.109375 20.453125 19.1875 8.296875 \nz\n\" id=\"DejaVuSans-50\"/>\n       </defs>\n       <use xlink:href=\"#DejaVuSans-8722\"/>\n       <use x=\"83.789062\" xlink:href=\"#DejaVuSans-50\"/>\n       <use x=\"147.412109\" xlink:href=\"#DejaVuSans-46\"/>\n       <use x=\"179.199219\" xlink:href=\"#DejaVuSans-53\"/>\n      </g>\n     </g>\n    </g>\n    <g id=\"xtick_5\">\n     <g id=\"line2d_9\">\n      <path clip-path=\"url(#pb58fac34b6)\" d=\"M 196.342188 227.87718 \nL 196.342188 10.43718 \n\" style=\"fill:none;stroke:#b0b0b0;stroke-linecap:square;stroke-width:0.8;\"/>\n     </g>\n     <g id=\"line2d_10\">\n      <g>\n       <use style=\"stroke:#000000;stroke-width:0.8;\" x=\"196.342188\" xlink:href=\"#me4f37f6b52\" y=\"227.87718\"/>\n      </g>\n     </g>\n     <g id=\"text_5\">\n      <!-- 0.0 -->\n      <g transform=\"translate(188.390625 242.475617)scale(0.1 -0.1)\">\n       <use xlink:href=\"#DejaVuSans-48\"/>\n       <use x=\"63.623047\" xlink:href=\"#DejaVuSans-46\"/>\n       <use x=\"95.410156\" xlink:href=\"#DejaVuSans-48\"/>\n      </g>\n     </g>\n    </g>\n    <g id=\"xtick_6\">\n     <g id=\"line2d_11\">\n      <path clip-path=\"url(#pb58fac34b6)\" d=\"M 234.387642 227.87718 \nL 234.387642 10.43718 \n\" style=\"fill:none;stroke:#b0b0b0;stroke-linecap:square;stroke-width:0.8;\"/>\n     </g>\n     <g id=\"line2d_12\">\n      <g>\n       <use style=\"stroke:#000000;stroke-width:0.8;\" x=\"234.387642\" xlink:href=\"#me4f37f6b52\" y=\"227.87718\"/>\n      </g>\n     </g>\n     <g id=\"text_6\">\n      <!-- 2.5 -->\n      <g transform=\"translate(226.43608 242.475617)scale(0.1 -0.1)\">\n       <use xlink:href=\"#DejaVuSans-50\"/>\n       <use x=\"63.623047\" xlink:href=\"#DejaVuSans-46\"/>\n       <use x=\"95.410156\" xlink:href=\"#DejaVuSans-53\"/>\n      </g>\n     </g>\n    </g>\n    <g id=\"xtick_7\">\n     <g id=\"line2d_13\">\n      <path clip-path=\"url(#pb58fac34b6)\" d=\"M 272.433097 227.87718 \nL 272.433097 10.43718 \n\" style=\"fill:none;stroke:#b0b0b0;stroke-linecap:square;stroke-width:0.8;\"/>\n     </g>\n     <g id=\"line2d_14\">\n      <g>\n       <use style=\"stroke:#000000;stroke-width:0.8;\" x=\"272.433097\" xlink:href=\"#me4f37f6b52\" y=\"227.87718\"/>\n      </g>\n     </g>\n     <g id=\"text_7\">\n      <!-- 5.0 -->\n      <g transform=\"translate(264.481534 242.475617)scale(0.1 -0.1)\">\n       <use xlink:href=\"#DejaVuSans-53\"/>\n       <use x=\"63.623047\" xlink:href=\"#DejaVuSans-46\"/>\n       <use x=\"95.410156\" xlink:href=\"#DejaVuSans-48\"/>\n      </g>\n     </g>\n    </g>\n    <g id=\"xtick_8\">\n     <g id=\"line2d_15\">\n      <path clip-path=\"url(#pb58fac34b6)\" d=\"M 310.478551 227.87718 \nL 310.478551 10.43718 \n\" style=\"fill:none;stroke:#b0b0b0;stroke-linecap:square;stroke-width:0.8;\"/>\n     </g>\n     <g id=\"line2d_16\">\n      <g>\n       <use style=\"stroke:#000000;stroke-width:0.8;\" x=\"310.478551\" xlink:href=\"#me4f37f6b52\" y=\"227.87718\"/>\n      </g>\n     </g>\n     <g id=\"text_8\">\n      <!-- 7.5 -->\n      <g transform=\"translate(302.526989 242.475617)scale(0.1 -0.1)\">\n       <use xlink:href=\"#DejaVuSans-55\"/>\n       <use x=\"63.623047\" xlink:href=\"#DejaVuSans-46\"/>\n       <use x=\"95.410156\" xlink:href=\"#DejaVuSans-53\"/>\n      </g>\n     </g>\n    </g>\n    <g id=\"xtick_9\">\n     <g id=\"line2d_17\">\n      <path clip-path=\"url(#pb58fac34b6)\" d=\"M 348.524006 227.87718 \nL 348.524006 10.43718 \n\" style=\"fill:none;stroke:#b0b0b0;stroke-linecap:square;stroke-width:0.8;\"/>\n     </g>\n     <g id=\"line2d_18\">\n      <g>\n       <use style=\"stroke:#000000;stroke-width:0.8;\" x=\"348.524006\" xlink:href=\"#me4f37f6b52\" y=\"227.87718\"/>\n      </g>\n     </g>\n     <g id=\"text_9\">\n      <!-- 10.0 -->\n      <g transform=\"translate(337.391193 242.475617)scale(0.1 -0.1)\">\n       <use xlink:href=\"#DejaVuSans-49\"/>\n       <use x=\"63.623047\" xlink:href=\"#DejaVuSans-48\"/>\n       <use x=\"127.246094\" xlink:href=\"#DejaVuSans-46\"/>\n       <use x=\"159.033203\" xlink:href=\"#DejaVuSans-48\"/>\n      </g>\n     </g>\n    </g>\n   </g>\n   <g id=\"matplotlib.axis_2\">\n    <g id=\"ytick_1\">\n     <g id=\"line2d_19\">\n      <path clip-path=\"url(#pb58fac34b6)\" d=\"M 28.942188 214.158055 \nL 363.742188 214.158055 \n\" style=\"fill:none;stroke:#b0b0b0;stroke-linecap:square;stroke-width:0.8;\"/>\n     </g>\n     <g id=\"line2d_20\">\n      <defs>\n       <path d=\"M 0 0 \nL -3.5 0 \n\" id=\"mc0eed9f8bb\" style=\"stroke:#000000;stroke-width:0.8;\"/>\n      </defs>\n      <g>\n       <use style=\"stroke:#000000;stroke-width:0.8;\" x=\"28.942188\" xlink:href=\"#mc0eed9f8bb\" y=\"214.158055\"/>\n      </g>\n     </g>\n     <g id=\"text_10\">\n      <!-- −2 -->\n      <g transform=\"translate(7.2 217.957274)scale(0.1 -0.1)\">\n       <use xlink:href=\"#DejaVuSans-8722\"/>\n       <use x=\"83.789062\" xlink:href=\"#DejaVuSans-50\"/>\n      </g>\n     </g>\n    </g>\n    <g id=\"ytick_2\">\n     <g id=\"line2d_21\">\n      <path clip-path=\"url(#pb58fac34b6)\" d=\"M 28.942188 173.526288 \nL 363.742188 173.526288 \n\" style=\"fill:none;stroke:#b0b0b0;stroke-linecap:square;stroke-width:0.8;\"/>\n     </g>\n     <g id=\"line2d_22\">\n      <g>\n       <use style=\"stroke:#000000;stroke-width:0.8;\" x=\"28.942188\" xlink:href=\"#mc0eed9f8bb\" y=\"173.526288\"/>\n      </g>\n     </g>\n     <g id=\"text_11\">\n      <!-- 0 -->\n      <g transform=\"translate(15.579688 177.325506)scale(0.1 -0.1)\">\n       <use xlink:href=\"#DejaVuSans-48\"/>\n      </g>\n     </g>\n    </g>\n    <g id=\"ytick_3\">\n     <g id=\"line2d_23\">\n      <path clip-path=\"url(#pb58fac34b6)\" d=\"M 28.942188 132.89452 \nL 363.742188 132.89452 \n\" style=\"fill:none;stroke:#b0b0b0;stroke-linecap:square;stroke-width:0.8;\"/>\n     </g>\n     <g id=\"line2d_24\">\n      <g>\n       <use style=\"stroke:#000000;stroke-width:0.8;\" x=\"28.942188\" xlink:href=\"#mc0eed9f8bb\" y=\"132.89452\"/>\n      </g>\n     </g>\n     <g id=\"text_12\">\n      <!-- 2 -->\n      <g transform=\"translate(15.579688 136.693739)scale(0.1 -0.1)\">\n       <use xlink:href=\"#DejaVuSans-50\"/>\n      </g>\n     </g>\n    </g>\n    <g id=\"ytick_4\">\n     <g id=\"line2d_25\">\n      <path clip-path=\"url(#pb58fac34b6)\" d=\"M 28.942188 92.262753 \nL 363.742188 92.262753 \n\" style=\"fill:none;stroke:#b0b0b0;stroke-linecap:square;stroke-width:0.8;\"/>\n     </g>\n     <g id=\"line2d_26\">\n      <g>\n       <use style=\"stroke:#000000;stroke-width:0.8;\" x=\"28.942188\" xlink:href=\"#mc0eed9f8bb\" y=\"92.262753\"/>\n      </g>\n     </g>\n     <g id=\"text_13\">\n      <!-- 4 -->\n      <g transform=\"translate(15.579688 96.061972)scale(0.1 -0.1)\">\n       <defs>\n        <path d=\"M 37.796875 64.3125 \nL 12.890625 25.390625 \nL 37.796875 25.390625 \nz\nM 35.203125 72.90625 \nL 47.609375 72.90625 \nL 47.609375 25.390625 \nL 58.015625 25.390625 \nL 58.015625 17.1875 \nL 47.609375 17.1875 \nL 47.609375 0 \nL 37.796875 0 \nL 37.796875 17.1875 \nL 4.890625 17.1875 \nL 4.890625 26.703125 \nz\n\" id=\"DejaVuSans-52\"/>\n       </defs>\n       <use xlink:href=\"#DejaVuSans-52\"/>\n      </g>\n     </g>\n    </g>\n    <g id=\"ytick_5\">\n     <g id=\"line2d_27\">\n      <path clip-path=\"url(#pb58fac34b6)\" d=\"M 28.942188 51.630986 \nL 363.742188 51.630986 \n\" style=\"fill:none;stroke:#b0b0b0;stroke-linecap:square;stroke-width:0.8;\"/>\n     </g>\n     <g id=\"line2d_28\">\n      <g>\n       <use style=\"stroke:#000000;stroke-width:0.8;\" x=\"28.942188\" xlink:href=\"#mc0eed9f8bb\" y=\"51.630986\"/>\n      </g>\n     </g>\n     <g id=\"text_14\">\n      <!-- 6 -->\n      <g transform=\"translate(15.579688 55.430205)scale(0.1 -0.1)\">\n       <defs>\n        <path d=\"M 33.015625 40.375 \nQ 26.375 40.375 22.484375 35.828125 \nQ 18.609375 31.296875 18.609375 23.390625 \nQ 18.609375 15.53125 22.484375 10.953125 \nQ 26.375 6.390625 33.015625 6.390625 \nQ 39.65625 6.390625 43.53125 10.953125 \nQ 47.40625 15.53125 47.40625 23.390625 \nQ 47.40625 31.296875 43.53125 35.828125 \nQ 39.65625 40.375 33.015625 40.375 \nz\nM 52.59375 71.296875 \nL 52.59375 62.3125 \nQ 48.875 64.0625 45.09375 64.984375 \nQ 41.3125 65.921875 37.59375 65.921875 \nQ 27.828125 65.921875 22.671875 59.328125 \nQ 17.53125 52.734375 16.796875 39.40625 \nQ 19.671875 43.65625 24.015625 45.921875 \nQ 28.375 48.1875 33.59375 48.1875 \nQ 44.578125 48.1875 50.953125 41.515625 \nQ 57.328125 34.859375 57.328125 23.390625 \nQ 57.328125 12.15625 50.6875 5.359375 \nQ 44.046875 -1.421875 33.015625 -1.421875 \nQ 20.359375 -1.421875 13.671875 8.265625 \nQ 6.984375 17.96875 6.984375 36.375 \nQ 6.984375 53.65625 15.1875 63.9375 \nQ 23.390625 74.21875 37.203125 74.21875 \nQ 40.921875 74.21875 44.703125 73.484375 \nQ 48.484375 72.75 52.59375 71.296875 \nz\n\" id=\"DejaVuSans-54\"/>\n       </defs>\n       <use xlink:href=\"#DejaVuSans-54\"/>\n      </g>\n     </g>\n    </g>\n    <g id=\"ytick_6\">\n     <g id=\"line2d_29\">\n      <path clip-path=\"url(#pb58fac34b6)\" d=\"M 28.942188 10.999219 \nL 363.742188 10.999219 \n\" style=\"fill:none;stroke:#b0b0b0;stroke-linecap:square;stroke-width:0.8;\"/>\n     </g>\n     <g id=\"line2d_30\">\n      <g>\n       <use style=\"stroke:#000000;stroke-width:0.8;\" x=\"28.942188\" xlink:href=\"#mc0eed9f8bb\" y=\"10.999219\"/>\n      </g>\n     </g>\n     <g id=\"text_15\">\n      <!-- 8 -->\n      <g transform=\"translate(15.579688 14.798437)scale(0.1 -0.1)\">\n       <defs>\n        <path d=\"M 31.78125 34.625 \nQ 24.75 34.625 20.71875 30.859375 \nQ 16.703125 27.09375 16.703125 20.515625 \nQ 16.703125 13.921875 20.71875 10.15625 \nQ 24.75 6.390625 31.78125 6.390625 \nQ 38.8125 6.390625 42.859375 10.171875 \nQ 46.921875 13.96875 46.921875 20.515625 \nQ 46.921875 27.09375 42.890625 30.859375 \nQ 38.875 34.625 31.78125 34.625 \nz\nM 21.921875 38.8125 \nQ 15.578125 40.375 12.03125 44.71875 \nQ 8.5 49.078125 8.5 55.328125 \nQ 8.5 64.0625 14.71875 69.140625 \nQ 20.953125 74.21875 31.78125 74.21875 \nQ 42.671875 74.21875 48.875 69.140625 \nQ 55.078125 64.0625 55.078125 55.328125 \nQ 55.078125 49.078125 51.53125 44.71875 \nQ 48 40.375 41.703125 38.8125 \nQ 48.828125 37.15625 52.796875 32.3125 \nQ 56.78125 27.484375 56.78125 20.515625 \nQ 56.78125 9.90625 50.3125 4.234375 \nQ 43.84375 -1.421875 31.78125 -1.421875 \nQ 19.734375 -1.421875 13.25 4.234375 \nQ 6.78125 9.90625 6.78125 20.515625 \nQ 6.78125 27.484375 10.78125 32.3125 \nQ 14.796875 37.15625 21.921875 38.8125 \nz\nM 18.3125 54.390625 \nQ 18.3125 48.734375 21.84375 45.5625 \nQ 25.390625 42.390625 31.78125 42.390625 \nQ 38.140625 42.390625 41.71875 45.5625 \nQ 45.3125 48.734375 45.3125 54.390625 \nQ 45.3125 60.0625 41.71875 63.234375 \nQ 38.140625 66.40625 31.78125 66.40625 \nQ 25.390625 66.40625 21.84375 63.234375 \nQ 18.3125 60.0625 18.3125 54.390625 \nz\n\" id=\"DejaVuSans-56\"/>\n       </defs>\n       <use xlink:href=\"#DejaVuSans-56\"/>\n      </g>\n     </g>\n    </g>\n   </g>\n   <g id=\"line2d_31\">\n    <path clip-path=\"url(#pb58fac34b6)\" d=\"M 44.160369 193.279012 \nL 47.234749 193.31222 \nL 50.30913 193.346857 \nL 53.38351 193.382978 \nL 56.45789 193.420644 \nL 59.53227 193.459916 \nL 62.60665 193.500858 \nL 65.68103 193.543536 \nL 68.755411 193.588016 \nL 71.829791 193.63437 \nL 74.904171 193.682669 \nL 77.978551 193.732987 \nL 81.052931 193.785401 \nL 84.127311 193.83999 \nL 87.201692 193.896835 \nL 90.276072 193.95602 \nL 93.350452 194.017631 \nL 96.424832 194.081757 \nL 99.499212 194.148492 \nL 102.573592 194.217931 \nL 105.647973 194.290177 \nL 108.722353 194.365338 \nL 111.796733 194.443531 \nL 114.871113 194.524884 \nL 117.945493 194.609545 \nL 121.019873 194.697686 \nL 124.094254 194.789517 \nL 127.168634 194.885305 \nL 130.243014 194.985401 \nL 133.317394 195.090284 \nL 136.391774 195.200622 \nL 139.466154 195.317372 \nL 142.540535 195.441924 \nL 145.614915 195.576322 \nL 148.689295 195.723595 \nL 151.763675 195.888253 \nL 154.838055 196.077035 \nL 157.912435 196.300029 \nL 160.986816 196.572347 \nL 164.061196 196.916647 \nL 167.135576 197.366984 \nL 170.209956 197.974872 \nL 173.284336 198.819543 \nL 176.358716 200.027089 \nL 179.433097 201.808795 \nL 182.507477 204.525658 \nL 185.581857 208.666509 \nL 188.656237 214.08244 \nL 191.730617 217.993543 \nL 194.804997 214.192929 \nL 197.879378 193.712871 \nL 200.953758 160.999965 \nL 204.028138 143.613727 \nL 207.102518 136.936107 \nL 210.176898 134.440304 \nL 213.251278 134.233625 \nL 216.325659 135.078596 \nL 219.400039 136.205192 \nL 222.474419 137.262034 \nL 225.548799 138.13933 \nL 228.623179 138.834046 \nL 231.697559 139.378833 \nL 234.77194 139.811444 \nL 237.84632 140.164112 \nL 240.9207 140.46133 \nL 243.99508 140.720648 \nL 247.06946 140.954207 \nL 250.14384 141.170221 \nL 253.218221 141.374149 \nL 256.292601 141.569563 \nL 259.366981 141.758758 \nL 262.441361 141.943178 \nL 265.515741 142.123701 \nL 268.590121 142.300836 \nL 271.664502 142.474849 \nL 274.738882 142.645854 \nL 277.813262 142.813869 \nL 280.887642 142.978856 \nL 283.962022 143.140743 \nL 287.036402 143.299446 \nL 290.110783 143.454874 \nL 293.185163 143.606944 \nL 296.259543 143.755576 \nL 299.333923 143.900704 \nL 302.408303 144.042273 \nL 305.482683 144.180239 \nL 308.557064 144.314573 \nL 311.631444 144.445258 \nL 314.705824 144.572288 \nL 317.780204 144.695669 \nL 320.854584 144.815415 \nL 323.928964 144.931554 \nL 327.003345 145.044119 \nL 330.077725 145.153151 \nL 333.152105 145.258699 \nL 336.226485 145.360818 \nL 339.300865 145.459567 \nL 342.375245 145.55501 \nL 345.449626 145.647216 \nL 348.524006 145.736255 \n\" style=\"fill:none;stroke:#1f77b4;stroke-linecap:square;stroke-width:1.5;\"/>\n   </g>\n   <g id=\"line2d_32\">\n    <path clip-path=\"url(#pb58fac34b6)\" d=\"M 44.160369 173.687228 \nL 47.234749 173.694156 \nL 50.30913 173.701364 \nL 53.38351 173.708861 \nL 56.45789 173.716658 \nL 59.53227 173.724765 \nL 62.60665 173.733191 \nL 65.68103 173.741947 \nL 68.755411 173.751044 \nL 71.829791 173.760492 \nL 74.904171 173.770303 \nL 77.978551 173.780486 \nL 81.052931 173.791054 \nL 84.127311 173.802019 \nL 87.201692 173.813391 \nL 90.276072 173.825184 \nL 93.350452 173.837412 \nL 96.424832 173.85009 \nL 99.499212 173.863237 \nL 102.573592 173.876873 \nL 105.647973 173.891027 \nL 108.722353 173.905736 \nL 111.796733 173.921051 \nL 114.871113 173.937043 \nL 117.945493 173.953817 \nL 121.019873 173.971525 \nL 124.094254 173.990396 \nL 127.168634 174.010768 \nL 130.243014 174.03315 \nL 133.317394 174.058307 \nL 136.391774 174.087391 \nL 139.466154 174.122137 \nL 142.540535 174.165163 \nL 145.614915 174.220412 \nL 148.689295 174.293823 \nL 151.763675 174.394333 \nL 154.838055 174.535373 \nL 157.912435 174.737108 \nL 160.986816 175.0298 \nL 164.061196 175.458965 \nL 167.135576 176.093644 \nL 170.209956 177.040929 \nL 173.284336 178.474952 \nL 176.358716 180.700854 \nL 179.433097 184.283796 \nL 182.507477 190.113217 \nL 185.581857 198.023935 \nL 188.656237 200.395894 \nL 191.730617 180.303469 \nL 194.804997 121.16847 \nL 197.879378 20.320816 \nL 200.953758 40.113565 \nL 204.028138 123.377238 \nL 207.102518 153.016269 \nL 210.176898 168.011959 \nL 213.251278 175.950279 \nL 216.325659 178.840191 \nL 219.400039 179.092335 \nL 222.474419 178.343508 \nL 225.548799 177.397313 \nL 228.623179 176.56217 \nL 231.697559 175.915689 \nL 234.77194 175.446451 \nL 237.84632 175.117651 \nL 240.9207 174.89173 \nL 243.99508 174.737982 \nL 247.06946 174.633509 \nL 250.14384 174.56204 \nL 253.218221 174.512322 \nL 256.292601 174.476708 \nL 259.366981 174.450065 \nL 262.441361 174.428975 \nL 265.515741 174.411188 \nL 268.590121 174.395232 \nL 271.664502 174.380161 \nL 274.738882 174.365378 \nL 277.813262 174.350516 \nL 280.887642 174.335367 \nL 283.962022 174.31982 \nL 287.036402 174.303835 \nL 290.110783 174.287414 \nL 293.185163 174.270585 \nL 296.259543 174.253395 \nL 299.333923 174.235902 \nL 302.408303 174.218166 \nL 305.482683 174.200251 \nL 308.557064 174.18222 \nL 311.631444 174.164131 \nL 314.705824 174.146044 \nL 317.780204 174.12801 \nL 320.854584 174.110079 \nL 323.928964 174.092297 \nL 327.003345 174.074702 \nL 330.077725 174.057331 \nL 333.152105 174.040216 \nL 336.226485 174.023385 \nL 339.300865 174.00686 \nL 342.375245 173.990662 \nL 345.449626 173.974808 \nL 348.524006 173.959311 \n\" style=\"fill:none;stroke:#ff7f0e;stroke-linecap:square;stroke-width:1.5;\"/>\n   </g>\n   <g id=\"patch_3\">\n    <path d=\"M 28.942188 227.87718 \nL 28.942188 10.43718 \n\" style=\"fill:none;stroke:#000000;stroke-linecap:square;stroke-linejoin:miter;stroke-width:0.8;\"/>\n   </g>\n   <g id=\"patch_4\">\n    <path d=\"M 363.742188 227.87718 \nL 363.742188 10.43718 \n\" style=\"fill:none;stroke:#000000;stroke-linecap:square;stroke-linejoin:miter;stroke-width:0.8;\"/>\n   </g>\n   <g id=\"patch_5\">\n    <path d=\"M 28.942188 227.87718 \nL 363.742188 227.87718 \n\" style=\"fill:none;stroke:#000000;stroke-linecap:square;stroke-linejoin:miter;stroke-width:0.8;\"/>\n   </g>\n   <g id=\"patch_6\">\n    <path d=\"M 28.942188 10.43718 \nL 363.742188 10.43718 \n\" style=\"fill:none;stroke:#000000;stroke-linecap:square;stroke-linejoin:miter;stroke-width:0.8;\"/>\n   </g>\n   <g id=\"legend_1\">\n    <g id=\"patch_7\">\n     <path d=\"M 295.207812 48.071555 \nL 356.742188 48.071555 \nQ 358.742188 48.071555 358.742188 46.071555 \nL 358.742188 17.43718 \nQ 358.742188 15.43718 356.742188 15.43718 \nL 295.207812 15.43718 \nQ 293.207812 15.43718 293.207812 17.43718 \nL 293.207812 46.071555 \nQ 293.207812 48.071555 295.207812 48.071555 \nz\n\" style=\"fill:#ffffff;opacity:0.8;stroke:#cccccc;stroke-linejoin:miter;\"/>\n    </g>\n    <g id=\"line2d_33\">\n     <path d=\"M 297.207812 23.535617 \nL 317.207812 23.535617 \n\" style=\"fill:none;stroke:#1f77b4;stroke-linecap:square;stroke-width:1.5;\"/>\n    </g>\n    <g id=\"line2d_34\"/>\n    <g id=\"text_16\">\n     <!-- y -->\n     <g transform=\"translate(325.207812 27.035617)scale(0.1 -0.1)\">\n      <defs>\n       <path d=\"M 32.171875 -5.078125 \nQ 28.375 -14.84375 24.75 -17.8125 \nQ 21.140625 -20.796875 15.09375 -20.796875 \nL 7.90625 -20.796875 \nL 7.90625 -13.28125 \nL 13.1875 -13.28125 \nQ 16.890625 -13.28125 18.9375 -11.515625 \nQ 21 -9.765625 23.484375 -3.21875 \nL 25.09375 0.875 \nL 2.984375 54.6875 \nL 12.5 54.6875 \nL 29.59375 11.921875 \nL 46.6875 54.6875 \nL 56.203125 54.6875 \nz\n\" id=\"DejaVuSans-121\"/>\n      </defs>\n      <use xlink:href=\"#DejaVuSans-121\"/>\n     </g>\n    </g>\n    <g id=\"line2d_35\">\n     <path d=\"M 297.207812 38.213742 \nL 317.207812 38.213742 \n\" style=\"fill:none;stroke:#ff7f0e;stroke-linecap:square;stroke-width:1.5;\"/>\n    </g>\n    <g id=\"line2d_36\"/>\n    <g id=\"text_17\">\n     <!-- dy_dx -->\n     <g transform=\"translate(325.207812 41.713742)scale(0.1 -0.1)\">\n      <defs>\n       <path d=\"M 45.40625 46.390625 \nL 45.40625 75.984375 \nL 54.390625 75.984375 \nL 54.390625 0 \nL 45.40625 0 \nL 45.40625 8.203125 \nQ 42.578125 3.328125 38.25 0.953125 \nQ 33.9375 -1.421875 27.875 -1.421875 \nQ 17.96875 -1.421875 11.734375 6.484375 \nQ 5.515625 14.40625 5.515625 27.296875 \nQ 5.515625 40.1875 11.734375 48.09375 \nQ 17.96875 56 27.875 56 \nQ 33.9375 56 38.25 53.625 \nQ 42.578125 51.265625 45.40625 46.390625 \nz\nM 14.796875 27.296875 \nQ 14.796875 17.390625 18.875 11.75 \nQ 22.953125 6.109375 30.078125 6.109375 \nQ 37.203125 6.109375 41.296875 11.75 \nQ 45.40625 17.390625 45.40625 27.296875 \nQ 45.40625 37.203125 41.296875 42.84375 \nQ 37.203125 48.484375 30.078125 48.484375 \nQ 22.953125 48.484375 18.875 42.84375 \nQ 14.796875 37.203125 14.796875 27.296875 \nz\n\" id=\"DejaVuSans-100\"/>\n       <path d=\"M 50.984375 -16.609375 \nL 50.984375 -23.578125 \nL -0.984375 -23.578125 \nL -0.984375 -16.609375 \nz\n\" id=\"DejaVuSans-95\"/>\n       <path d=\"M 54.890625 54.6875 \nL 35.109375 28.078125 \nL 55.90625 0 \nL 45.3125 0 \nL 29.390625 21.484375 \nL 13.484375 0 \nL 2.875 0 \nL 24.125 28.609375 \nL 4.6875 54.6875 \nL 15.28125 54.6875 \nL 29.78125 35.203125 \nL 44.28125 54.6875 \nz\n\" id=\"DejaVuSans-120\"/>\n      </defs>\n      <use xlink:href=\"#DejaVuSans-100\"/>\n      <use x=\"63.476562\" xlink:href=\"#DejaVuSans-121\"/>\n      <use x=\"122.65625\" xlink:href=\"#DejaVuSans-95\"/>\n      <use x=\"172.65625\" xlink:href=\"#DejaVuSans-100\"/>\n      <use x=\"236.132812\" xlink:href=\"#DejaVuSans-120\"/>\n     </g>\n    </g>\n   </g>\n  </g>\n </g>\n <defs>\n  <clipPath id=\"pb58fac34b6\">\n   <rect height=\"217.44\" width=\"334.8\" x=\"28.942188\" y=\"10.43718\"/>\n  </clipPath>\n </defs>\n</svg>\n",
      "image/png": "[encoded data removed]"
     },
     "metadata": {
      "needs_background": "light"
     }
    }
   ],
   "source": [
    "# Let's create an MLP with random weights and compute the derivative wrt the one-dimensional input\n",
    "def test_MLP_derivative():\n",
    "    n_samples = 100\n",
    "    x = np.linspace(-10, 10, n_samples)\n",
    "    mlp_batch = MLP(1, 10, 20, 1)\n",
    "    y = mlp_batch.forward(x.reshape((n_samples, 1))).flatten()\n",
    "\n",
    "    dy_dx = mlp_batch.backward(np.ones((n_samples, 1))).flatten()\n",
    "\n",
    "    fig, ax = plt.subplots()\n",
    "    ax.plot(x, y)\n",
    "    ax.plot(x, dy_dx)\n",
    "    ax.grid(True)\n",
    "    ax.legend(['y', 'dy_dx'])\n",
    "\n",
    "test_MLP_derivative()"
   ]
  },
  {
   "cell_type": "markdown",
   "metadata": {
    "deletable": false,
    "editable": false,
    "nbgrader": {
     "cell_type": "markdown",
     "checksum": "fbb865aabe7b04a79776e7f6fed6750f",
     "grade": false,
     "grade_id": "cell-d5136f1291f0c36a",
     "locked": true,
     "schema_version": 3,
     "solution": false,
     "task": false
    }
   },
   "source": [
    "You can visually inspect whether the computations of the derivative seem correct.\n",
    "\n",
    "More importantly, we can compute the gradient of a loss wrt the parameters of the MLP. The gradients can be used to update the parameters using gradient descent."
   ]
  },
  {
   "cell_type": "markdown",
   "metadata": {
    "deletable": false,
    "editable": false,
    "nbgrader": {
     "cell_type": "markdown",
     "checksum": "651b3f554cfd6e87e29e2791e44c95e0",
     "grade": false,
     "grade_id": "cell-0630dc5ad992327d",
     "locked": true,
     "schema_version": 3,
     "solution": false,
     "task": false
    }
   },
   "source": [
    "## 5. Training MLP network with backpropagation\n",
    "\n",
    "Now let us use our code to train an MLP network."
   ]
  },
  {
   "cell_type": "code",
   "execution_count": 22,
   "metadata": {
    "deletable": false,
    "editable": false,
    "nbgrader": {
     "cell_type": "code",
     "checksum": "2e0b1798b19d46a30fd9585db6867ec8",
     "grade": false,
     "grade_id": "cell-bb746d106b37391b",
     "locked": true,
     "schema_version": 3,
     "solution": false,
     "task": false
    }
   },
   "outputs": [
    {
     "output_type": "execute_result",
     "data": {
      "text/plain": [
       "[<matplotlib.lines.Line2D at 0x121a68190>]"
      ]
     },
     "metadata": {},
     "execution_count": 22
    },
    {
     "output_type": "display_data",
     "data": {
      "text/plain": "<Figure size 432x288 with 1 Axes>",
      "image/svg+xml": "<?xml version=\"1.0\" encoding=\"utf-8\" standalone=\"no\"?>\n<!DOCTYPE svg PUBLIC \"-//W3C//DTD SVG 1.1//EN\"\n  \"http://www.w3.org/Graphics/SVG/1.1/DTD/svg11.dtd\">\n<!-- Created with matplotlib (https://matplotlib.org/) -->\n<svg height=\"248.518125pt\" version=\"1.1\" viewBox=\"0 0 380.482813 248.518125\" width=\"380.482813pt\" xmlns=\"http://www.w3.org/2000/svg\" xmlns:xlink=\"http://www.w3.org/1999/xlink\">\n <metadata>\n  <rdf:RDF xmlns:cc=\"http://creativecommons.org/ns#\" xmlns:dc=\"http://purl.org/dc/elements/1.1/\" xmlns:rdf=\"http://www.w3.org/1999/02/22-rdf-syntax-ns#\">\n   <cc:Work>\n    <dc:type rdf:resource=\"http://purl.org/dc/dcmitype/StillImage\"/>\n    <dc:date>2021-03-09T22:04:18.313157</dc:date>\n    <dc:format>image/svg+xml</dc:format>\n    <dc:creator>\n     <cc:Agent>\n      <dc:title>Matplotlib v3.3.4, https://matplotlib.org/</dc:title>\n     </cc:Agent>\n    </dc:creator>\n   </cc:Work>\n  </rdf:RDF>\n </metadata>\n <defs>\n  <style type=\"text/css\">*{stroke-linecap:butt;stroke-linejoin:round;}</style>\n </defs>\n <g id=\"figure_1\">\n  <g id=\"patch_1\">\n   <path d=\"M -0 248.518125 \nL 380.482813 248.518125 \nL 380.482813 0 \nL -0 0 \nz\n\" style=\"fill:none;\"/>\n  </g>\n  <g id=\"axes_1\">\n   <g id=\"patch_2\">\n    <path d=\"M 38.482813 224.64 \nL 373.282813 224.64 \nL 373.282813 7.2 \nL 38.482813 7.2 \nz\n\" style=\"fill:#ffffff;\"/>\n   </g>\n   <g id=\"matplotlib.axis_1\">\n    <g id=\"xtick_1\">\n     <g id=\"line2d_1\">\n      <defs>\n       <path d=\"M 0 0 \nL 0 3.5 \n\" id=\"m63546b8615\" style=\"stroke:#000000;stroke-width:0.8;\"/>\n      </defs>\n      <g>\n       <use style=\"stroke:#000000;stroke-width:0.8;\" x=\"94.235388\" xlink:href=\"#m63546b8615\" y=\"224.64\"/>\n      </g>\n     </g>\n     <g id=\"text_1\">\n      <!-- −2 -->\n      <g transform=\"translate(86.864295 239.238437)scale(0.1 -0.1)\">\n       <defs>\n        <path d=\"M 10.59375 35.5 \nL 73.1875 35.5 \nL 73.1875 27.203125 \nL 10.59375 27.203125 \nz\n\" id=\"DejaVuSans-8722\"/>\n        <path d=\"M 19.1875 8.296875 \nL 53.609375 8.296875 \nL 53.609375 0 \nL 7.328125 0 \nL 7.328125 8.296875 \nQ 12.9375 14.109375 22.625 23.890625 \nQ 32.328125 33.6875 34.8125 36.53125 \nQ 39.546875 41.84375 41.421875 45.53125 \nQ 43.3125 49.21875 43.3125 52.78125 \nQ 43.3125 58.59375 39.234375 62.25 \nQ 35.15625 65.921875 28.609375 65.921875 \nQ 23.96875 65.921875 18.8125 64.3125 \nQ 13.671875 62.703125 7.8125 59.421875 \nL 7.8125 69.390625 \nQ 13.765625 71.78125 18.9375 73 \nQ 24.125 74.21875 28.421875 74.21875 \nQ 39.75 74.21875 46.484375 68.546875 \nQ 53.21875 62.890625 53.21875 53.421875 \nQ 53.21875 48.921875 51.53125 44.890625 \nQ 49.859375 40.875 45.40625 35.40625 \nQ 44.1875 33.984375 37.640625 27.21875 \nQ 31.109375 20.453125 19.1875 8.296875 \nz\n\" id=\"DejaVuSans-50\"/>\n       </defs>\n       <use xlink:href=\"#DejaVuSans-8722\"/>\n       <use x=\"83.789062\" xlink:href=\"#DejaVuSans-50\"/>\n      </g>\n     </g>\n    </g>\n    <g id=\"xtick_2\">\n     <g id=\"line2d_2\">\n      <g>\n       <use style=\"stroke:#000000;stroke-width:0.8;\" x=\"155.70241\" xlink:href=\"#m63546b8615\" y=\"224.64\"/>\n      </g>\n     </g>\n     <g id=\"text_2\">\n      <!-- −1 -->\n      <g transform=\"translate(148.331316 239.238437)scale(0.1 -0.1)\">\n       <defs>\n        <path d=\"M 12.40625 8.296875 \nL 28.515625 8.296875 \nL 28.515625 63.921875 \nL 10.984375 60.40625 \nL 10.984375 69.390625 \nL 28.421875 72.90625 \nL 38.28125 72.90625 \nL 38.28125 8.296875 \nL 54.390625 8.296875 \nL 54.390625 0 \nL 12.40625 0 \nz\n\" id=\"DejaVuSans-49\"/>\n       </defs>\n       <use xlink:href=\"#DejaVuSans-8722\"/>\n       <use x=\"83.789062\" xlink:href=\"#DejaVuSans-49\"/>\n      </g>\n     </g>\n    </g>\n    <g id=\"xtick_3\">\n     <g id=\"line2d_3\">\n      <g>\n       <use style=\"stroke:#000000;stroke-width:0.8;\" x=\"217.169431\" xlink:href=\"#m63546b8615\" y=\"224.64\"/>\n      </g>\n     </g>\n     <g id=\"text_3\">\n      <!-- 0 -->\n      <g transform=\"translate(213.988181 239.238437)scale(0.1 -0.1)\">\n       <defs>\n        <path d=\"M 31.78125 66.40625 \nQ 24.171875 66.40625 20.328125 58.90625 \nQ 16.5 51.421875 16.5 36.375 \nQ 16.5 21.390625 20.328125 13.890625 \nQ 24.171875 6.390625 31.78125 6.390625 \nQ 39.453125 6.390625 43.28125 13.890625 \nQ 47.125 21.390625 47.125 36.375 \nQ 47.125 51.421875 43.28125 58.90625 \nQ 39.453125 66.40625 31.78125 66.40625 \nz\nM 31.78125 74.21875 \nQ 44.046875 74.21875 50.515625 64.515625 \nQ 56.984375 54.828125 56.984375 36.375 \nQ 56.984375 17.96875 50.515625 8.265625 \nQ 44.046875 -1.421875 31.78125 -1.421875 \nQ 19.53125 -1.421875 13.0625 8.265625 \nQ 6.59375 17.96875 6.59375 36.375 \nQ 6.59375 54.828125 13.0625 64.515625 \nQ 19.53125 74.21875 31.78125 74.21875 \nz\n\" id=\"DejaVuSans-48\"/>\n       </defs>\n       <use xlink:href=\"#DejaVuSans-48\"/>\n      </g>\n     </g>\n    </g>\n    <g id=\"xtick_4\">\n     <g id=\"line2d_4\">\n      <g>\n       <use style=\"stroke:#000000;stroke-width:0.8;\" x=\"278.636453\" xlink:href=\"#m63546b8615\" y=\"224.64\"/>\n      </g>\n     </g>\n     <g id=\"text_4\">\n      <!-- 1 -->\n      <g transform=\"translate(275.455203 239.238437)scale(0.1 -0.1)\">\n       <use xlink:href=\"#DejaVuSans-49\"/>\n      </g>\n     </g>\n    </g>\n    <g id=\"xtick_5\">\n     <g id=\"line2d_5\">\n      <g>\n       <use style=\"stroke:#000000;stroke-width:0.8;\" x=\"340.103474\" xlink:href=\"#m63546b8615\" y=\"224.64\"/>\n      </g>\n     </g>\n     <g id=\"text_5\">\n      <!-- 2 -->\n      <g transform=\"translate(336.922224 239.238437)scale(0.1 -0.1)\">\n       <use xlink:href=\"#DejaVuSans-50\"/>\n      </g>\n     </g>\n    </g>\n   </g>\n   <g id=\"matplotlib.axis_2\">\n    <g id=\"ytick_1\">\n     <g id=\"line2d_6\">\n      <defs>\n       <path d=\"M 0 0 \nL -3.5 0 \n\" id=\"m8cc88cdc4f\" style=\"stroke:#000000;stroke-width:0.8;\"/>\n      </defs>\n      <g>\n       <use style=\"stroke:#000000;stroke-width:0.8;\" x=\"38.482813\" xlink:href=\"#m8cc88cdc4f\" y=\"193.772806\"/>\n      </g>\n     </g>\n     <g id=\"text_6\">\n      <!-- −1.0 -->\n      <g transform=\"translate(7.2 197.572025)scale(0.1 -0.1)\">\n       <defs>\n        <path d=\"M 10.6875 12.40625 \nL 21 12.40625 \nL 21 0 \nL 10.6875 0 \nz\n\" id=\"DejaVuSans-46\"/>\n       </defs>\n       <use xlink:href=\"#DejaVuSans-8722\"/>\n       <use x=\"83.789062\" xlink:href=\"#DejaVuSans-49\"/>\n       <use x=\"147.412109\" xlink:href=\"#DejaVuSans-46\"/>\n       <use x=\"179.199219\" xlink:href=\"#DejaVuSans-48\"/>\n      </g>\n     </g>\n    </g>\n    <g id=\"ytick_2\">\n     <g id=\"line2d_7\">\n      <g>\n       <use style=\"stroke:#000000;stroke-width:0.8;\" x=\"38.482813\" xlink:href=\"#m8cc88cdc4f\" y=\"158.976959\"/>\n      </g>\n     </g>\n     <g id=\"text_7\">\n      <!-- −0.5 -->\n      <g transform=\"translate(7.2 162.776178)scale(0.1 -0.1)\">\n       <defs>\n        <path d=\"M 10.796875 72.90625 \nL 49.515625 72.90625 \nL 49.515625 64.59375 \nL 19.828125 64.59375 \nL 19.828125 46.734375 \nQ 21.96875 47.46875 24.109375 47.828125 \nQ 26.265625 48.1875 28.421875 48.1875 \nQ 40.625 48.1875 47.75 41.5 \nQ 54.890625 34.8125 54.890625 23.390625 \nQ 54.890625 11.625 47.5625 5.09375 \nQ 40.234375 -1.421875 26.90625 -1.421875 \nQ 22.3125 -1.421875 17.546875 -0.640625 \nQ 12.796875 0.140625 7.71875 1.703125 \nL 7.71875 11.625 \nQ 12.109375 9.234375 16.796875 8.0625 \nQ 21.484375 6.890625 26.703125 6.890625 \nQ 35.15625 6.890625 40.078125 11.328125 \nQ 45.015625 15.765625 45.015625 23.390625 \nQ 45.015625 31 40.078125 35.4375 \nQ 35.15625 39.890625 26.703125 39.890625 \nQ 22.75 39.890625 18.8125 39.015625 \nQ 14.890625 38.140625 10.796875 36.28125 \nz\n\" id=\"DejaVuSans-53\"/>\n       </defs>\n       <use xlink:href=\"#DejaVuSans-8722\"/>\n       <use x=\"83.789062\" xlink:href=\"#DejaVuSans-48\"/>\n       <use x=\"147.412109\" xlink:href=\"#DejaVuSans-46\"/>\n       <use x=\"179.199219\" xlink:href=\"#DejaVuSans-53\"/>\n      </g>\n     </g>\n    </g>\n    <g id=\"ytick_3\">\n     <g id=\"line2d_8\">\n      <g>\n       <use style=\"stroke:#000000;stroke-width:0.8;\" x=\"38.482813\" xlink:href=\"#m8cc88cdc4f\" y=\"124.181112\"/>\n      </g>\n     </g>\n     <g id=\"text_8\">\n      <!-- 0.0 -->\n      <g transform=\"translate(15.579688 127.98033)scale(0.1 -0.1)\">\n       <use xlink:href=\"#DejaVuSans-48\"/>\n       <use x=\"63.623047\" xlink:href=\"#DejaVuSans-46\"/>\n       <use x=\"95.410156\" xlink:href=\"#DejaVuSans-48\"/>\n      </g>\n     </g>\n    </g>\n    <g id=\"ytick_4\">\n     <g id=\"line2d_9\">\n      <g>\n       <use style=\"stroke:#000000;stroke-width:0.8;\" x=\"38.482813\" xlink:href=\"#m8cc88cdc4f\" y=\"89.385264\"/>\n      </g>\n     </g>\n     <g id=\"text_9\">\n      <!-- 0.5 -->\n      <g transform=\"translate(15.579688 93.184483)scale(0.1 -0.1)\">\n       <use xlink:href=\"#DejaVuSans-48\"/>\n       <use x=\"63.623047\" xlink:href=\"#DejaVuSans-46\"/>\n       <use x=\"95.410156\" xlink:href=\"#DejaVuSans-53\"/>\n      </g>\n     </g>\n    </g>\n    <g id=\"ytick_5\">\n     <g id=\"line2d_10\">\n      <g>\n       <use style=\"stroke:#000000;stroke-width:0.8;\" x=\"38.482813\" xlink:href=\"#m8cc88cdc4f\" y=\"54.589417\"/>\n      </g>\n     </g>\n     <g id=\"text_10\">\n      <!-- 1.0 -->\n      <g transform=\"translate(15.579688 58.388636)scale(0.1 -0.1)\">\n       <use xlink:href=\"#DejaVuSans-49\"/>\n       <use x=\"63.623047\" xlink:href=\"#DejaVuSans-46\"/>\n       <use x=\"95.410156\" xlink:href=\"#DejaVuSans-48\"/>\n      </g>\n     </g>\n    </g>\n    <g id=\"ytick_6\">\n     <g id=\"line2d_11\">\n      <g>\n       <use style=\"stroke:#000000;stroke-width:0.8;\" x=\"38.482813\" xlink:href=\"#m8cc88cdc4f\" y=\"19.793569\"/>\n      </g>\n     </g>\n     <g id=\"text_11\">\n      <!-- 1.5 -->\n      <g transform=\"translate(15.579688 23.592788)scale(0.1 -0.1)\">\n       <use xlink:href=\"#DejaVuSans-49\"/>\n       <use x=\"63.623047\" xlink:href=\"#DejaVuSans-46\"/>\n       <use x=\"95.410156\" xlink:href=\"#DejaVuSans-53\"/>\n      </g>\n     </g>\n    </g>\n   </g>\n   <g id=\"line2d_12\">\n    <defs>\n     <path d=\"M 0 1.5 \nC 0.397805 1.5 0.77937 1.341951 1.06066 1.06066 \nC 1.341951 0.77937 1.5 0.397805 1.5 0 \nC 1.5 -0.397805 1.341951 -0.77937 1.06066 -1.06066 \nC 0.77937 -1.341951 0.397805 -1.5 0 -1.5 \nC -0.397805 -1.5 -0.77937 -1.341951 -1.06066 -1.06066 \nC -1.341951 -0.77937 -1.5 -0.397805 -1.5 0 \nC -1.5 0.397805 -1.341951 0.77937 -1.06066 1.06066 \nC -0.77937 1.341951 -0.397805 1.5 0 1.5 \nz\n\" id=\"m4d1635127b\" style=\"stroke:#1f77b4;\"/>\n    </defs>\n    <g clip-path=\"url(#p5f08912c0f)\">\n     <use style=\"fill:#1f77b4;stroke:#1f77b4;\" x=\"53.700994\" xlink:href=\"#m4d1635127b\" y=\"62.481301\"/>\n     <use style=\"fill:#1f77b4;stroke:#1f77b4;\" x=\"67.51152\" xlink:href=\"#m4d1635127b\" y=\"54.361851\"/>\n     <use style=\"fill:#1f77b4;stroke:#1f77b4;\" x=\"73.115124\" xlink:href=\"#m4d1635127b\" y=\"71.693763\"/>\n     <use style=\"fill:#1f77b4;stroke:#1f77b4;\" x=\"85.86382\" xlink:href=\"#m4d1635127b\" y=\"50.52893\"/>\n     <use style=\"fill:#1f77b4;stroke:#1f77b4;\" x=\"91.756851\" xlink:href=\"#m4d1635127b\" y=\"65.425008\"/>\n     <use style=\"fill:#1f77b4;stroke:#1f77b4;\" x=\"92.178299\" xlink:href=\"#m4d1635127b\" y=\"25.640991\"/>\n     <use style=\"fill:#1f77b4;stroke:#1f77b4;\" x=\"102.343463\" xlink:href=\"#m4d1635127b\" y=\"50.144792\"/>\n     <use style=\"fill:#1f77b4;stroke:#1f77b4;\" x=\"102.926064\" xlink:href=\"#m4d1635127b\" y=\"70.556281\"/>\n     <use style=\"fill:#1f77b4;stroke:#1f77b4;\" x=\"106.932288\" xlink:href=\"#m4d1635127b\" y=\"94.064851\"/>\n     <use style=\"fill:#1f77b4;stroke:#1f77b4;\" x=\"110.342237\" xlink:href=\"#m4d1635127b\" y=\"99.036144\"/>\n     <use style=\"fill:#1f77b4;stroke:#1f77b4;\" x=\"128.691402\" xlink:href=\"#m4d1635127b\" y=\"137.508527\"/>\n     <use style=\"fill:#1f77b4;stroke:#1f77b4;\" x=\"129.811441\" xlink:href=\"#m4d1635127b\" y=\"143.409398\"/>\n     <use style=\"fill:#1f77b4;stroke:#1f77b4;\" x=\"132.067193\" xlink:href=\"#m4d1635127b\" y=\"153.406948\"/>\n     <use style=\"fill:#1f77b4;stroke:#1f77b4;\" x=\"140.625282\" xlink:href=\"#m4d1635127b\" y=\"167.795371\"/>\n     <use style=\"fill:#1f77b4;stroke:#1f77b4;\" x=\"144.170441\" xlink:href=\"#m4d1635127b\" y=\"170.376826\"/>\n     <use style=\"fill:#1f77b4;stroke:#1f77b4;\" x=\"148.453884\" xlink:href=\"#m4d1635127b\" y=\"181.30773\"/>\n     <use style=\"fill:#1f77b4;stroke:#1f77b4;\" x=\"149.633221\" xlink:href=\"#m4d1635127b\" y=\"185.743838\"/>\n     <use style=\"fill:#1f77b4;stroke:#1f77b4;\" x=\"152.14026\" xlink:href=\"#m4d1635127b\" y=\"192.721555\"/>\n     <use style=\"fill:#1f77b4;stroke:#1f77b4;\" x=\"156.392128\" xlink:href=\"#m4d1635127b\" y=\"149.752447\"/>\n     <use style=\"fill:#1f77b4;stroke:#1f77b4;\" x=\"161.295441\" xlink:href=\"#m4d1635127b\" y=\"210.453415\"/>\n     <use style=\"fill:#1f77b4;stroke:#1f77b4;\" x=\"163.194755\" xlink:href=\"#m4d1635127b\" y=\"205.49926\"/>\n     <use style=\"fill:#1f77b4;stroke:#1f77b4;\" x=\"165.278129\" xlink:href=\"#m4d1635127b\" y=\"186.404174\"/>\n     <use style=\"fill:#1f77b4;stroke:#1f77b4;\" x=\"165.429728\" xlink:href=\"#m4d1635127b\" y=\"196.995663\"/>\n     <use style=\"fill:#1f77b4;stroke:#1f77b4;\" x=\"166.204955\" xlink:href=\"#m4d1635127b\" y=\"186.920217\"/>\n     <use style=\"fill:#1f77b4;stroke:#1f77b4;\" x=\"171.200032\" xlink:href=\"#m4d1635127b\" y=\"182.648857\"/>\n     <use style=\"fill:#1f77b4;stroke:#1f77b4;\" x=\"175.514732\" xlink:href=\"#m4d1635127b\" y=\"175.402458\"/>\n     <use style=\"fill:#1f77b4;stroke:#1f77b4;\" x=\"177.016083\" xlink:href=\"#m4d1635127b\" y=\"181.882876\"/>\n     <use style=\"fill:#1f77b4;stroke:#1f77b4;\" x=\"177.974677\" xlink:href=\"#m4d1635127b\" y=\"205.686755\"/>\n     <use style=\"fill:#1f77b4;stroke:#1f77b4;\" x=\"178.157585\" xlink:href=\"#m4d1635127b\" y=\"176.315395\"/>\n     <use style=\"fill:#1f77b4;stroke:#1f77b4;\" x=\"180.52527\" xlink:href=\"#m4d1635127b\" y=\"214.756364\"/>\n     <use style=\"fill:#1f77b4;stroke:#1f77b4;\" x=\"188.771339\" xlink:href=\"#m4d1635127b\" y=\"183.085137\"/>\n     <use style=\"fill:#1f77b4;stroke:#1f77b4;\" x=\"191.395296\" xlink:href=\"#m4d1635127b\" y=\"184.672633\"/>\n     <use style=\"fill:#1f77b4;stroke:#1f77b4;\" x=\"191.552568\" xlink:href=\"#m4d1635127b\" y=\"192.264545\"/>\n     <use style=\"fill:#1f77b4;stroke:#1f77b4;\" x=\"192.343377\" xlink:href=\"#m4d1635127b\" y=\"168.040685\"/>\n     <use style=\"fill:#1f77b4;stroke:#1f77b4;\" x=\"193.71875\" xlink:href=\"#m4d1635127b\" y=\"176.6075\"/>\n     <use style=\"fill:#1f77b4;stroke:#1f77b4;\" x=\"193.744809\" xlink:href=\"#m4d1635127b\" y=\"159.819075\"/>\n     <use style=\"fill:#1f77b4;stroke:#1f77b4;\" x=\"194.078151\" xlink:href=\"#m4d1635127b\" y=\"194.092272\"/>\n     <use style=\"fill:#1f77b4;stroke:#1f77b4;\" x=\"196.343054\" xlink:href=\"#m4d1635127b\" y=\"157.744388\"/>\n     <use style=\"fill:#1f77b4;stroke:#1f77b4;\" x=\"196.536345\" xlink:href=\"#m4d1635127b\" y=\"162.244466\"/>\n     <use style=\"fill:#1f77b4;stroke:#1f77b4;\" x=\"197.899016\" xlink:href=\"#m4d1635127b\" y=\"164.90161\"/>\n     <use style=\"fill:#1f77b4;stroke:#1f77b4;\" x=\"200.631301\" xlink:href=\"#m4d1635127b\" y=\"181.101567\"/>\n     <use style=\"fill:#1f77b4;stroke:#1f77b4;\" x=\"202.651902\" xlink:href=\"#m4d1635127b\" y=\"160.722988\"/>\n     <use style=\"fill:#1f77b4;stroke:#1f77b4;\" x=\"203.822773\" xlink:href=\"#m4d1635127b\" y=\"176.276617\"/>\n     <use style=\"fill:#1f77b4;stroke:#1f77b4;\" x=\"205.52332\" xlink:href=\"#m4d1635127b\" y=\"180.064705\"/>\n     <use style=\"fill:#1f77b4;stroke:#1f77b4;\" x=\"207.553889\" xlink:href=\"#m4d1635127b\" y=\"100.927438\"/>\n     <use style=\"fill:#1f77b4;stroke:#1f77b4;\" x=\"207.734539\" xlink:href=\"#m4d1635127b\" y=\"132.657271\"/>\n     <use style=\"fill:#1f77b4;stroke:#1f77b4;\" x=\"209.035568\" xlink:href=\"#m4d1635127b\" y=\"118.272497\"/>\n     <use style=\"fill:#1f77b4;stroke:#1f77b4;\" x=\"211.548111\" xlink:href=\"#m4d1635127b\" y=\"143.40036\"/>\n     <use style=\"fill:#1f77b4;stroke:#1f77b4;\" x=\"212.42303\" xlink:href=\"#m4d1635127b\" y=\"125.697008\"/>\n     <use style=\"fill:#1f77b4;stroke:#1f77b4;\" x=\"212.591935\" xlink:href=\"#m4d1635127b\" y=\"125.284581\"/>\n     <use style=\"fill:#1f77b4;stroke:#1f77b4;\" x=\"213.710877\" xlink:href=\"#m4d1635127b\" y=\"123.991073\"/>\n     <use style=\"fill:#1f77b4;stroke:#1f77b4;\" x=\"214.737167\" xlink:href=\"#m4d1635127b\" y=\"129.891039\"/>\n     <use style=\"fill:#1f77b4;stroke:#1f77b4;\" x=\"215.993537\" xlink:href=\"#m4d1635127b\" y=\"130.14551\"/>\n     <use style=\"fill:#1f77b4;stroke:#1f77b4;\" x=\"217.170031\" xlink:href=\"#m4d1635127b\" y=\"152.985254\"/>\n     <use style=\"fill:#1f77b4;stroke:#1f77b4;\" x=\"217.724187\" xlink:href=\"#m4d1635127b\" y=\"114.373545\"/>\n     <use style=\"fill:#1f77b4;stroke:#1f77b4;\" x=\"219.722734\" xlink:href=\"#m4d1635127b\" y=\"112.239902\"/>\n     <use style=\"fill:#1f77b4;stroke:#1f77b4;\" x=\"220.012621\" xlink:href=\"#m4d1635127b\" y=\"101.890668\"/>\n     <use style=\"fill:#1f77b4;stroke:#1f77b4;\" x=\"220.118041\" xlink:href=\"#m4d1635127b\" y=\"121.018029\"/>\n     <use style=\"fill:#1f77b4;stroke:#1f77b4;\" x=\"221.256313\" xlink:href=\"#m4d1635127b\" y=\"90.27833\"/>\n     <use style=\"fill:#1f77b4;stroke:#1f77b4;\" x=\"222.560717\" xlink:href=\"#m4d1635127b\" y=\"117.697376\"/>\n     <use style=\"fill:#1f77b4;stroke:#1f77b4;\" x=\"224.098394\" xlink:href=\"#m4d1635127b\" y=\"125.376615\"/>\n     <use style=\"fill:#1f77b4;stroke:#1f77b4;\" x=\"229.721488\" xlink:href=\"#m4d1635127b\" y=\"82.258747\"/>\n     <use style=\"fill:#1f77b4;stroke:#1f77b4;\" x=\"230.453439\" xlink:href=\"#m4d1635127b\" y=\"100.26488\"/>\n     <use style=\"fill:#1f77b4;stroke:#1f77b4;\" x=\"232.940053\" xlink:href=\"#m4d1635127b\" y=\"106.02285\"/>\n     <use style=\"fill:#1f77b4;stroke:#1f77b4;\" x=\"237.207891\" xlink:href=\"#m4d1635127b\" y=\"78.534738\"/>\n     <use style=\"fill:#1f77b4;stroke:#1f77b4;\" x=\"238.737502\" xlink:href=\"#m4d1635127b\" y=\"66.989769\"/>\n     <use style=\"fill:#1f77b4;stroke:#1f77b4;\" x=\"239.939554\" xlink:href=\"#m4d1635127b\" y=\"72.083644\"/>\n     <use style=\"fill:#1f77b4;stroke:#1f77b4;\" x=\"240.55591\" xlink:href=\"#m4d1635127b\" y=\"67.488302\"/>\n     <use style=\"fill:#1f77b4;stroke:#1f77b4;\" x=\"240.641611\" xlink:href=\"#m4d1635127b\" y=\"17.083636\"/>\n     <use style=\"fill:#1f77b4;stroke:#1f77b4;\" x=\"243.81516\" xlink:href=\"#m4d1635127b\" y=\"57.898846\"/>\n     <use style=\"fill:#1f77b4;stroke:#1f77b4;\" x=\"248.017099\" xlink:href=\"#m4d1635127b\" y=\"42.458487\"/>\n     <use style=\"fill:#1f77b4;stroke:#1f77b4;\" x=\"248.080054\" xlink:href=\"#m4d1635127b\" y=\"91.343722\"/>\n     <use style=\"fill:#1f77b4;stroke:#1f77b4;\" x=\"248.419034\" xlink:href=\"#m4d1635127b\" y=\"58.229461\"/>\n     <use style=\"fill:#1f77b4;stroke:#1f77b4;\" x=\"249.396371\" xlink:href=\"#m4d1635127b\" y=\"51.447144\"/>\n     <use style=\"fill:#1f77b4;stroke:#1f77b4;\" x=\"250.303741\" xlink:href=\"#m4d1635127b\" y=\"66.344169\"/>\n     <use style=\"fill:#1f77b4;stroke:#1f77b4;\" x=\"250.506229\" xlink:href=\"#m4d1635127b\" y=\"73.259611\"/>\n     <use style=\"fill:#1f77b4;stroke:#1f77b4;\" x=\"251.065669\" xlink:href=\"#m4d1635127b\" y=\"55.001128\"/>\n     <use style=\"fill:#1f77b4;stroke:#1f77b4;\" x=\"251.976696\" xlink:href=\"#m4d1635127b\" y=\"64.05715\"/>\n     <use style=\"fill:#1f77b4;stroke:#1f77b4;\" x=\"254.746728\" xlink:href=\"#m4d1635127b\" y=\"65.767496\"/>\n     <use style=\"fill:#1f77b4;stroke:#1f77b4;\" x=\"259.896363\" xlink:href=\"#m4d1635127b\" y=\"39.049477\"/>\n     <use style=\"fill:#1f77b4;stroke:#1f77b4;\" x=\"262.364877\" xlink:href=\"#m4d1635127b\" y=\"36.033625\"/>\n     <use style=\"fill:#1f77b4;stroke:#1f77b4;\" x=\"264.561226\" xlink:href=\"#m4d1635127b\" y=\"50.444694\"/>\n     <use style=\"fill:#1f77b4;stroke:#1f77b4;\" x=\"267.861469\" xlink:href=\"#m4d1635127b\" y=\"61.761545\"/>\n     <use style=\"fill:#1f77b4;stroke:#1f77b4;\" x=\"268.95271\" xlink:href=\"#m4d1635127b\" y=\"48.73088\"/>\n     <use style=\"fill:#1f77b4;stroke:#1f77b4;\" x=\"278.658943\" xlink:href=\"#m4d1635127b\" y=\"52.394935\"/>\n     <use style=\"fill:#1f77b4;stroke:#1f77b4;\" x=\"281.14578\" xlink:href=\"#m4d1635127b\" y=\"58.32736\"/>\n     <use style=\"fill:#1f77b4;stroke:#1f77b4;\" x=\"289.302917\" xlink:href=\"#m4d1635127b\" y=\"100.447926\"/>\n     <use style=\"fill:#1f77b4;stroke:#1f77b4;\" x=\"289.393257\" xlink:href=\"#m4d1635127b\" y=\"85.090423\"/>\n     <use style=\"fill:#1f77b4;stroke:#1f77b4;\" x=\"292.029234\" xlink:href=\"#m4d1635127b\" y=\"80.41481\"/>\n     <use style=\"fill:#1f77b4;stroke:#1f77b4;\" x=\"293.893362\" xlink:href=\"#m4d1635127b\" y=\"80.499659\"/>\n     <use style=\"fill:#1f77b4;stroke:#1f77b4;\" x=\"295.747595\" xlink:href=\"#m4d1635127b\" y=\"79.654291\"/>\n     <use style=\"fill:#1f77b4;stroke:#1f77b4;\" x=\"300.742075\" xlink:href=\"#m4d1635127b\" y=\"93.460562\"/>\n     <use style=\"fill:#1f77b4;stroke:#1f77b4;\" x=\"301.209321\" xlink:href=\"#m4d1635127b\" y=\"120.86657\"/>\n     <use style=\"fill:#1f77b4;stroke:#1f77b4;\" x=\"303.63486\" xlink:href=\"#m4d1635127b\" y=\"120.514366\"/>\n     <use style=\"fill:#1f77b4;stroke:#1f77b4;\" x=\"307.383227\" xlink:href=\"#m4d1635127b\" y=\"136.473963\"/>\n     <use style=\"fill:#1f77b4;stroke:#1f77b4;\" x=\"314.563131\" xlink:href=\"#m4d1635127b\" y=\"111.315833\"/>\n     <use style=\"fill:#1f77b4;stroke:#1f77b4;\" x=\"317.991992\" xlink:href=\"#m4d1635127b\" y=\"141.822103\"/>\n     <use style=\"fill:#1f77b4;stroke:#1f77b4;\" x=\"323.580197\" xlink:href=\"#m4d1635127b\" y=\"148.87646\"/>\n     <use style=\"fill:#1f77b4;stroke:#1f77b4;\" x=\"354.324902\" xlink:href=\"#m4d1635127b\" y=\"179.341771\"/>\n     <use style=\"fill:#1f77b4;stroke:#1f77b4;\" x=\"358.064631\" xlink:href=\"#m4d1635127b\" y=\"198.080235\"/>\n    </g>\n   </g>\n   <g id=\"patch_3\">\n    <path d=\"M 38.482813 224.64 \nL 38.482813 7.2 \n\" style=\"fill:none;stroke:#000000;stroke-linecap:square;stroke-linejoin:miter;stroke-width:0.8;\"/>\n   </g>\n   <g id=\"patch_4\">\n    <path d=\"M 373.282813 224.64 \nL 373.282813 7.2 \n\" style=\"fill:none;stroke:#000000;stroke-linecap:square;stroke-linejoin:miter;stroke-width:0.8;\"/>\n   </g>\n   <g id=\"patch_5\">\n    <path d=\"M 38.482813 224.64 \nL 373.282813 224.64 \n\" style=\"fill:none;stroke:#000000;stroke-linecap:square;stroke-linejoin:miter;stroke-width:0.8;\"/>\n   </g>\n   <g id=\"patch_6\">\n    <path d=\"M 38.482813 7.2 \nL 373.282813 7.2 \n\" style=\"fill:none;stroke:#000000;stroke-linecap:square;stroke-linejoin:miter;stroke-width:0.8;\"/>\n   </g>\n  </g>\n </g>\n <defs>\n  <clipPath id=\"p5f08912c0f\">\n   <rect height=\"217.44\" width=\"334.8\" x=\"38.482813\" y=\"7.2\"/>\n  </clipPath>\n </defs>\n</svg>\n",
      "image/png": "[encoded data removed]"
     },
     "metadata": {
      "needs_background": "light"
     }
    }
   ],
   "source": [
    "# Let us generate toy data\n",
    "np.random.seed(2)\n",
    "x = np.random.randn(100, 1)\n",
    "x = np.sort(x, axis=0)\n",
    "targets = np.sin(x * 2 * np.pi / 3)\n",
    "targets = targets + 0.2 * np.random.randn(*targets.shape)\n",
    "\n",
    "# Plot the data\n",
    "fig, ax = plt.subplots(1)\n",
    "ax.plot(x, targets, '.')"
   ]
  },
  {
   "cell_type": "code",
   "execution_count": 23,
   "metadata": {
    "deletable": false,
    "editable": false,
    "nbgrader": {
     "cell_type": "code",
     "checksum": "bc44ce20da9194528e14024d166764ab",
     "grade": false,
     "grade_id": "cell-b5925a7912f3191c",
     "locked": true,
     "schema_version": 3,
     "solution": false,
     "task": false
    }
   },
   "outputs": [
    {
     "output_type": "display_data",
     "data": {
      "text/plain": "<Figure size 432x288 with 1 Axes>",
      "image/svg+xml": "<?xml version=\"1.0\" encoding=\"utf-8\" standalone=\"no\"?>\n<!DOCTYPE svg PUBLIC \"-//W3C//DTD SVG 1.1//EN\"\n  \"http://www.w3.org/Graphics/SVG/1.1/DTD/svg11.dtd\">\n<!-- Created with matplotlib (https://matplotlib.org/) -->\n<svg height=\"263.63625pt\" version=\"1.1\" viewBox=\"0 0 380.482813 263.63625\" width=\"380.482813pt\" xmlns=\"http://www.w3.org/2000/svg\" xmlns:xlink=\"http://www.w3.org/1999/xlink\">\n <metadata>\n  <rdf:RDF xmlns:cc=\"http://creativecommons.org/ns#\" xmlns:dc=\"http://purl.org/dc/elements/1.1/\" xmlns:rdf=\"http://www.w3.org/1999/02/22-rdf-syntax-ns#\">\n   <cc:Work>\n    <dc:type rdf:resource=\"http://purl.org/dc/dcmitype/StillImage\"/>\n    <dc:date>2021-03-09T22:04:53.687640</dc:date>\n    <dc:format>image/svg+xml</dc:format>\n    <dc:creator>\n     <cc:Agent>\n      <dc:title>Matplotlib v3.3.4, https://matplotlib.org/</dc:title>\n     </cc:Agent>\n    </dc:creator>\n   </cc:Work>\n  </rdf:RDF>\n </metadata>\n <defs>\n  <style type=\"text/css\">*{stroke-linecap:butt;stroke-linejoin:round;}</style>\n </defs>\n <g id=\"figure_1\">\n  <g id=\"patch_1\">\n   <path d=\"M -0 263.63625 \nL 380.482813 263.63625 \nL 380.482813 0 \nL -0 0 \nz\n\" style=\"fill:none;\"/>\n  </g>\n  <g id=\"axes_1\">\n   <g id=\"patch_2\">\n    <path d=\"M 38.482813 239.758125 \nL 373.282813 239.758125 \nL 373.282813 22.318125 \nL 38.482813 22.318125 \nz\n\" style=\"fill:#ffffff;\"/>\n   </g>\n   <g id=\"matplotlib.axis_1\">\n    <g id=\"xtick_1\">\n     <g id=\"line2d_1\">\n      <path clip-path=\"url(#p22fdc28d9d)\" d=\"M 94.235388 239.758125 \nL 94.235388 22.318125 \n\" style=\"fill:none;stroke:#b0b0b0;stroke-linecap:square;stroke-width:0.8;\"/>\n     </g>\n     <g id=\"line2d_2\">\n      <defs>\n       <path d=\"M 0 0 \nL 0 3.5 \n\" id=\"mc5d53b8816\" style=\"stroke:#000000;stroke-width:0.8;\"/>\n      </defs>\n      <g>\n       <use style=\"stroke:#000000;stroke-width:0.8;\" x=\"94.235388\" xlink:href=\"#mc5d53b8816\" y=\"239.758125\"/>\n      </g>\n     </g>\n     <g id=\"text_1\">\n      <!-- −2 -->\n      <g transform=\"translate(86.864295 254.356563)scale(0.1 -0.1)\">\n       <defs>\n        <path d=\"M 10.59375 35.5 \nL 73.1875 35.5 \nL 73.1875 27.203125 \nL 10.59375 27.203125 \nz\n\" id=\"DejaVuSans-8722\"/>\n        <path d=\"M 19.1875 8.296875 \nL 53.609375 8.296875 \nL 53.609375 0 \nL 7.328125 0 \nL 7.328125 8.296875 \nQ 12.9375 14.109375 22.625 23.890625 \nQ 32.328125 33.6875 34.8125 36.53125 \nQ 39.546875 41.84375 41.421875 45.53125 \nQ 43.3125 49.21875 43.3125 52.78125 \nQ 43.3125 58.59375 39.234375 62.25 \nQ 35.15625 65.921875 28.609375 65.921875 \nQ 23.96875 65.921875 18.8125 64.3125 \nQ 13.671875 62.703125 7.8125 59.421875 \nL 7.8125 69.390625 \nQ 13.765625 71.78125 18.9375 73 \nQ 24.125 74.21875 28.421875 74.21875 \nQ 39.75 74.21875 46.484375 68.546875 \nQ 53.21875 62.890625 53.21875 53.421875 \nQ 53.21875 48.921875 51.53125 44.890625 \nQ 49.859375 40.875 45.40625 35.40625 \nQ 44.1875 33.984375 37.640625 27.21875 \nQ 31.109375 20.453125 19.1875 8.296875 \nz\n\" id=\"DejaVuSans-50\"/>\n       </defs>\n       <use xlink:href=\"#DejaVuSans-8722\"/>\n       <use x=\"83.789062\" xlink:href=\"#DejaVuSans-50\"/>\n      </g>\n     </g>\n    </g>\n    <g id=\"xtick_2\">\n     <g id=\"line2d_3\">\n      <path clip-path=\"url(#p22fdc28d9d)\" d=\"M 155.70241 239.758125 \nL 155.70241 22.318125 \n\" style=\"fill:none;stroke:#b0b0b0;stroke-linecap:square;stroke-width:0.8;\"/>\n     </g>\n     <g id=\"line2d_4\">\n      <g>\n       <use style=\"stroke:#000000;stroke-width:0.8;\" x=\"155.70241\" xlink:href=\"#mc5d53b8816\" y=\"239.758125\"/>\n      </g>\n     </g>\n     <g id=\"text_2\">\n      <!-- −1 -->\n      <g transform=\"translate(148.331316 254.356563)scale(0.1 -0.1)\">\n       <defs>\n        <path d=\"M 12.40625 8.296875 \nL 28.515625 8.296875 \nL 28.515625 63.921875 \nL 10.984375 60.40625 \nL 10.984375 69.390625 \nL 28.421875 72.90625 \nL 38.28125 72.90625 \nL 38.28125 8.296875 \nL 54.390625 8.296875 \nL 54.390625 0 \nL 12.40625 0 \nz\n\" id=\"DejaVuSans-49\"/>\n       </defs>\n       <use xlink:href=\"#DejaVuSans-8722\"/>\n       <use x=\"83.789062\" xlink:href=\"#DejaVuSans-49\"/>\n      </g>\n     </g>\n    </g>\n    <g id=\"xtick_3\">\n     <g id=\"line2d_5\">\n      <path clip-path=\"url(#p22fdc28d9d)\" d=\"M 217.169431 239.758125 \nL 217.169431 22.318125 \n\" style=\"fill:none;stroke:#b0b0b0;stroke-linecap:square;stroke-width:0.8;\"/>\n     </g>\n     <g id=\"line2d_6\">\n      <g>\n       <use style=\"stroke:#000000;stroke-width:0.8;\" x=\"217.169431\" xlink:href=\"#mc5d53b8816\" y=\"239.758125\"/>\n      </g>\n     </g>\n     <g id=\"text_3\">\n      <!-- 0 -->\n      <g transform=\"translate(213.988181 254.356563)scale(0.1 -0.1)\">\n       <defs>\n        <path d=\"M 31.78125 66.40625 \nQ 24.171875 66.40625 20.328125 58.90625 \nQ 16.5 51.421875 16.5 36.375 \nQ 16.5 21.390625 20.328125 13.890625 \nQ 24.171875 6.390625 31.78125 6.390625 \nQ 39.453125 6.390625 43.28125 13.890625 \nQ 47.125 21.390625 47.125 36.375 \nQ 47.125 51.421875 43.28125 58.90625 \nQ 39.453125 66.40625 31.78125 66.40625 \nz\nM 31.78125 74.21875 \nQ 44.046875 74.21875 50.515625 64.515625 \nQ 56.984375 54.828125 56.984375 36.375 \nQ 56.984375 17.96875 50.515625 8.265625 \nQ 44.046875 -1.421875 31.78125 -1.421875 \nQ 19.53125 -1.421875 13.0625 8.265625 \nQ 6.59375 17.96875 6.59375 36.375 \nQ 6.59375 54.828125 13.0625 64.515625 \nQ 19.53125 74.21875 31.78125 74.21875 \nz\n\" id=\"DejaVuSans-48\"/>\n       </defs>\n       <use xlink:href=\"#DejaVuSans-48\"/>\n      </g>\n     </g>\n    </g>\n    <g id=\"xtick_4\">\n     <g id=\"line2d_7\">\n      <path clip-path=\"url(#p22fdc28d9d)\" d=\"M 278.636453 239.758125 \nL 278.636453 22.318125 \n\" style=\"fill:none;stroke:#b0b0b0;stroke-linecap:square;stroke-width:0.8;\"/>\n     </g>\n     <g id=\"line2d_8\">\n      <g>\n       <use style=\"stroke:#000000;stroke-width:0.8;\" x=\"278.636453\" xlink:href=\"#mc5d53b8816\" y=\"239.758125\"/>\n      </g>\n     </g>\n     <g id=\"text_4\">\n      <!-- 1 -->\n      <g transform=\"translate(275.455203 254.356563)scale(0.1 -0.1)\">\n       <use xlink:href=\"#DejaVuSans-49\"/>\n      </g>\n     </g>\n    </g>\n    <g id=\"xtick_5\">\n     <g id=\"line2d_9\">\n      <path clip-path=\"url(#p22fdc28d9d)\" d=\"M 340.103474 239.758125 \nL 340.103474 22.318125 \n\" style=\"fill:none;stroke:#b0b0b0;stroke-linecap:square;stroke-width:0.8;\"/>\n     </g>\n     <g id=\"line2d_10\">\n      <g>\n       <use style=\"stroke:#000000;stroke-width:0.8;\" x=\"340.103474\" xlink:href=\"#mc5d53b8816\" y=\"239.758125\"/>\n      </g>\n     </g>\n     <g id=\"text_5\">\n      <!-- 2 -->\n      <g transform=\"translate(336.922224 254.356563)scale(0.1 -0.1)\">\n       <use xlink:href=\"#DejaVuSans-50\"/>\n      </g>\n     </g>\n    </g>\n   </g>\n   <g id=\"matplotlib.axis_2\">\n    <g id=\"ytick_1\">\n     <g id=\"line2d_11\">\n      <path clip-path=\"url(#p22fdc28d9d)\" d=\"M 38.482813 208.890931 \nL 373.282813 208.890931 \n\" style=\"fill:none;stroke:#b0b0b0;stroke-linecap:square;stroke-width:0.8;\"/>\n     </g>\n     <g id=\"line2d_12\">\n      <defs>\n       <path d=\"M 0 0 \nL -3.5 0 \n\" id=\"m07db98e8ea\" style=\"stroke:#000000;stroke-width:0.8;\"/>\n      </defs>\n      <g>\n       <use style=\"stroke:#000000;stroke-width:0.8;\" x=\"38.482813\" xlink:href=\"#m07db98e8ea\" y=\"208.890931\"/>\n      </g>\n     </g>\n     <g id=\"text_6\">\n      <!-- −1.0 -->\n      <g transform=\"translate(7.2 212.69015)scale(0.1 -0.1)\">\n       <defs>\n        <path d=\"M 10.6875 12.40625 \nL 21 12.40625 \nL 21 0 \nL 10.6875 0 \nz\n\" id=\"DejaVuSans-46\"/>\n       </defs>\n       <use xlink:href=\"#DejaVuSans-8722\"/>\n       <use x=\"83.789062\" xlink:href=\"#DejaVuSans-49\"/>\n       <use x=\"147.412109\" xlink:href=\"#DejaVuSans-46\"/>\n       <use x=\"179.199219\" xlink:href=\"#DejaVuSans-48\"/>\n      </g>\n     </g>\n    </g>\n    <g id=\"ytick_2\">\n     <g id=\"line2d_13\">\n      <path clip-path=\"url(#p22fdc28d9d)\" d=\"M 38.482813 174.095084 \nL 373.282813 174.095084 \n\" style=\"fill:none;stroke:#b0b0b0;stroke-linecap:square;stroke-width:0.8;\"/>\n     </g>\n     <g id=\"line2d_14\">\n      <g>\n       <use style=\"stroke:#000000;stroke-width:0.8;\" x=\"38.482813\" xlink:href=\"#m07db98e8ea\" y=\"174.095084\"/>\n      </g>\n     </g>\n     <g id=\"text_7\">\n      <!-- −0.5 -->\n      <g transform=\"translate(7.2 177.894303)scale(0.1 -0.1)\">\n       <defs>\n        <path d=\"M 10.796875 72.90625 \nL 49.515625 72.90625 \nL 49.515625 64.59375 \nL 19.828125 64.59375 \nL 19.828125 46.734375 \nQ 21.96875 47.46875 24.109375 47.828125 \nQ 26.265625 48.1875 28.421875 48.1875 \nQ 40.625 48.1875 47.75 41.5 \nQ 54.890625 34.8125 54.890625 23.390625 \nQ 54.890625 11.625 47.5625 5.09375 \nQ 40.234375 -1.421875 26.90625 -1.421875 \nQ 22.3125 -1.421875 17.546875 -0.640625 \nQ 12.796875 0.140625 7.71875 1.703125 \nL 7.71875 11.625 \nQ 12.109375 9.234375 16.796875 8.0625 \nQ 21.484375 6.890625 26.703125 6.890625 \nQ 35.15625 6.890625 40.078125 11.328125 \nQ 45.015625 15.765625 45.015625 23.390625 \nQ 45.015625 31 40.078125 35.4375 \nQ 35.15625 39.890625 26.703125 39.890625 \nQ 22.75 39.890625 18.8125 39.015625 \nQ 14.890625 38.140625 10.796875 36.28125 \nz\n\" id=\"DejaVuSans-53\"/>\n       </defs>\n       <use xlink:href=\"#DejaVuSans-8722\"/>\n       <use x=\"83.789062\" xlink:href=\"#DejaVuSans-48\"/>\n       <use x=\"147.412109\" xlink:href=\"#DejaVuSans-46\"/>\n       <use x=\"179.199219\" xlink:href=\"#DejaVuSans-53\"/>\n      </g>\n     </g>\n    </g>\n    <g id=\"ytick_3\">\n     <g id=\"line2d_15\">\n      <path clip-path=\"url(#p22fdc28d9d)\" d=\"M 38.482813 139.299237 \nL 373.282813 139.299237 \n\" style=\"fill:none;stroke:#b0b0b0;stroke-linecap:square;stroke-width:0.8;\"/>\n     </g>\n     <g id=\"line2d_16\">\n      <g>\n       <use style=\"stroke:#000000;stroke-width:0.8;\" x=\"38.482813\" xlink:href=\"#m07db98e8ea\" y=\"139.299237\"/>\n      </g>\n     </g>\n     <g id=\"text_8\">\n      <!-- 0.0 -->\n      <g transform=\"translate(15.579688 143.098455)scale(0.1 -0.1)\">\n       <use xlink:href=\"#DejaVuSans-48\"/>\n       <use x=\"63.623047\" xlink:href=\"#DejaVuSans-46\"/>\n       <use x=\"95.410156\" xlink:href=\"#DejaVuSans-48\"/>\n      </g>\n     </g>\n    </g>\n    <g id=\"ytick_4\">\n     <g id=\"line2d_17\">\n      <path clip-path=\"url(#p22fdc28d9d)\" d=\"M 38.482813 104.503389 \nL 373.282813 104.503389 \n\" style=\"fill:none;stroke:#b0b0b0;stroke-linecap:square;stroke-width:0.8;\"/>\n     </g>\n     <g id=\"line2d_18\">\n      <g>\n       <use style=\"stroke:#000000;stroke-width:0.8;\" x=\"38.482813\" xlink:href=\"#m07db98e8ea\" y=\"104.503389\"/>\n      </g>\n     </g>\n     <g id=\"text_9\">\n      <!-- 0.5 -->\n      <g transform=\"translate(15.579688 108.302608)scale(0.1 -0.1)\">\n       <use xlink:href=\"#DejaVuSans-48\"/>\n       <use x=\"63.623047\" xlink:href=\"#DejaVuSans-46\"/>\n       <use x=\"95.410156\" xlink:href=\"#DejaVuSans-53\"/>\n      </g>\n     </g>\n    </g>\n    <g id=\"ytick_5\">\n     <g id=\"line2d_19\">\n      <path clip-path=\"url(#p22fdc28d9d)\" d=\"M 38.482813 69.707542 \nL 373.282813 69.707542 \n\" style=\"fill:none;stroke:#b0b0b0;stroke-linecap:square;stroke-width:0.8;\"/>\n     </g>\n     <g id=\"line2d_20\">\n      <g>\n       <use style=\"stroke:#000000;stroke-width:0.8;\" x=\"38.482813\" xlink:href=\"#m07db98e8ea\" y=\"69.707542\"/>\n      </g>\n     </g>\n     <g id=\"text_10\">\n      <!-- 1.0 -->\n      <g transform=\"translate(15.579688 73.506761)scale(0.1 -0.1)\">\n       <use xlink:href=\"#DejaVuSans-49\"/>\n       <use x=\"63.623047\" xlink:href=\"#DejaVuSans-46\"/>\n       <use x=\"95.410156\" xlink:href=\"#DejaVuSans-48\"/>\n      </g>\n     </g>\n    </g>\n    <g id=\"ytick_6\">\n     <g id=\"line2d_21\">\n      <path clip-path=\"url(#p22fdc28d9d)\" d=\"M 38.482813 34.911694 \nL 373.282813 34.911694 \n\" style=\"fill:none;stroke:#b0b0b0;stroke-linecap:square;stroke-width:0.8;\"/>\n     </g>\n     <g id=\"line2d_22\">\n      <g>\n       <use style=\"stroke:#000000;stroke-width:0.8;\" x=\"38.482813\" xlink:href=\"#m07db98e8ea\" y=\"34.911694\"/>\n      </g>\n     </g>\n     <g id=\"text_11\">\n      <!-- 1.5 -->\n      <g transform=\"translate(15.579688 38.710913)scale(0.1 -0.1)\">\n       <use xlink:href=\"#DejaVuSans-49\"/>\n       <use x=\"63.623047\" xlink:href=\"#DejaVuSans-46\"/>\n       <use x=\"95.410156\" xlink:href=\"#DejaVuSans-53\"/>\n      </g>\n     </g>\n    </g>\n   </g>\n   <g id=\"line2d_23\">\n    <defs>\n     <path d=\"M 0 1.5 \nC 0.397805 1.5 0.77937 1.341951 1.06066 1.06066 \nC 1.341951 0.77937 1.5 0.397805 1.5 0 \nC 1.5 -0.397805 1.341951 -0.77937 1.06066 -1.06066 \nC 0.77937 -1.341951 0.397805 -1.5 0 -1.5 \nC -0.397805 -1.5 -0.77937 -1.341951 -1.06066 -1.06066 \nC -1.341951 -0.77937 -1.5 -0.397805 -1.5 0 \nC -1.5 0.397805 -1.341951 0.77937 -1.06066 1.06066 \nC -0.77937 1.341951 -0.397805 1.5 0 1.5 \nz\n\" id=\"m7a76093bf1\" style=\"stroke:#1f77b4;\"/>\n    </defs>\n    <g clip-path=\"url(#p22fdc28d9d)\">\n     <use style=\"fill:#1f77b4;stroke:#1f77b4;\" x=\"53.700994\" xlink:href=\"#m7a76093bf1\" y=\"77.599426\"/>\n     <use style=\"fill:#1f77b4;stroke:#1f77b4;\" x=\"67.51152\" xlink:href=\"#m7a76093bf1\" y=\"69.479976\"/>\n     <use style=\"fill:#1f77b4;stroke:#1f77b4;\" x=\"73.115124\" xlink:href=\"#m7a76093bf1\" y=\"86.811888\"/>\n     <use style=\"fill:#1f77b4;stroke:#1f77b4;\" x=\"85.86382\" xlink:href=\"#m7a76093bf1\" y=\"65.647055\"/>\n     <use style=\"fill:#1f77b4;stroke:#1f77b4;\" x=\"91.756851\" xlink:href=\"#m7a76093bf1\" y=\"80.543133\"/>\n     <use style=\"fill:#1f77b4;stroke:#1f77b4;\" x=\"92.178299\" xlink:href=\"#m7a76093bf1\" y=\"40.759116\"/>\n     <use style=\"fill:#1f77b4;stroke:#1f77b4;\" x=\"102.343463\" xlink:href=\"#m7a76093bf1\" y=\"65.262917\"/>\n     <use style=\"fill:#1f77b4;stroke:#1f77b4;\" x=\"102.926064\" xlink:href=\"#m7a76093bf1\" y=\"85.674406\"/>\n     <use style=\"fill:#1f77b4;stroke:#1f77b4;\" x=\"106.932288\" xlink:href=\"#m7a76093bf1\" y=\"109.182976\"/>\n     <use style=\"fill:#1f77b4;stroke:#1f77b4;\" x=\"110.342237\" xlink:href=\"#m7a76093bf1\" y=\"114.154269\"/>\n     <use style=\"fill:#1f77b4;stroke:#1f77b4;\" x=\"128.691402\" xlink:href=\"#m7a76093bf1\" y=\"152.626652\"/>\n     <use style=\"fill:#1f77b4;stroke:#1f77b4;\" x=\"129.811441\" xlink:href=\"#m7a76093bf1\" y=\"158.527523\"/>\n     <use style=\"fill:#1f77b4;stroke:#1f77b4;\" x=\"132.067193\" xlink:href=\"#m7a76093bf1\" y=\"168.525073\"/>\n     <use style=\"fill:#1f77b4;stroke:#1f77b4;\" x=\"140.625282\" xlink:href=\"#m7a76093bf1\" y=\"182.913496\"/>\n     <use style=\"fill:#1f77b4;stroke:#1f77b4;\" x=\"144.170441\" xlink:href=\"#m7a76093bf1\" y=\"185.494951\"/>\n     <use style=\"fill:#1f77b4;stroke:#1f77b4;\" x=\"148.453884\" xlink:href=\"#m7a76093bf1\" y=\"196.425855\"/>\n     <use style=\"fill:#1f77b4;stroke:#1f77b4;\" x=\"149.633221\" xlink:href=\"#m7a76093bf1\" y=\"200.861963\"/>\n     <use style=\"fill:#1f77b4;stroke:#1f77b4;\" x=\"152.14026\" xlink:href=\"#m7a76093bf1\" y=\"207.83968\"/>\n     <use style=\"fill:#1f77b4;stroke:#1f77b4;\" x=\"156.392128\" xlink:href=\"#m7a76093bf1\" y=\"164.870572\"/>\n     <use style=\"fill:#1f77b4;stroke:#1f77b4;\" x=\"161.295441\" xlink:href=\"#m7a76093bf1\" y=\"225.57154\"/>\n     <use style=\"fill:#1f77b4;stroke:#1f77b4;\" x=\"163.194755\" xlink:href=\"#m7a76093bf1\" y=\"220.617385\"/>\n     <use style=\"fill:#1f77b4;stroke:#1f77b4;\" x=\"165.278129\" xlink:href=\"#m7a76093bf1\" y=\"201.522299\"/>\n     <use style=\"fill:#1f77b4;stroke:#1f77b4;\" x=\"165.429728\" xlink:href=\"#m7a76093bf1\" y=\"212.113788\"/>\n     <use style=\"fill:#1f77b4;stroke:#1f77b4;\" x=\"166.204955\" xlink:href=\"#m7a76093bf1\" y=\"202.038342\"/>\n     <use style=\"fill:#1f77b4;stroke:#1f77b4;\" x=\"171.200032\" xlink:href=\"#m7a76093bf1\" y=\"197.766982\"/>\n     <use style=\"fill:#1f77b4;stroke:#1f77b4;\" x=\"175.514732\" xlink:href=\"#m7a76093bf1\" y=\"190.520583\"/>\n     <use style=\"fill:#1f77b4;stroke:#1f77b4;\" x=\"177.016083\" xlink:href=\"#m7a76093bf1\" y=\"197.001001\"/>\n     <use style=\"fill:#1f77b4;stroke:#1f77b4;\" x=\"177.974677\" xlink:href=\"#m7a76093bf1\" y=\"220.80488\"/>\n     <use style=\"fill:#1f77b4;stroke:#1f77b4;\" x=\"178.157585\" xlink:href=\"#m7a76093bf1\" y=\"191.43352\"/>\n     <use style=\"fill:#1f77b4;stroke:#1f77b4;\" x=\"180.52527\" xlink:href=\"#m7a76093bf1\" y=\"229.874489\"/>\n     <use style=\"fill:#1f77b4;stroke:#1f77b4;\" x=\"188.771339\" xlink:href=\"#m7a76093bf1\" y=\"198.203262\"/>\n     <use style=\"fill:#1f77b4;stroke:#1f77b4;\" x=\"191.395296\" xlink:href=\"#m7a76093bf1\" y=\"199.790758\"/>\n     <use style=\"fill:#1f77b4;stroke:#1f77b4;\" x=\"191.552568\" xlink:href=\"#m7a76093bf1\" y=\"207.38267\"/>\n     <use style=\"fill:#1f77b4;stroke:#1f77b4;\" x=\"192.343377\" xlink:href=\"#m7a76093bf1\" y=\"183.15881\"/>\n     <use style=\"fill:#1f77b4;stroke:#1f77b4;\" x=\"193.71875\" xlink:href=\"#m7a76093bf1\" y=\"191.725625\"/>\n     <use style=\"fill:#1f77b4;stroke:#1f77b4;\" x=\"193.744809\" xlink:href=\"#m7a76093bf1\" y=\"174.9372\"/>\n     <use style=\"fill:#1f77b4;stroke:#1f77b4;\" x=\"194.078151\" xlink:href=\"#m7a76093bf1\" y=\"209.210397\"/>\n     <use style=\"fill:#1f77b4;stroke:#1f77b4;\" x=\"196.343054\" xlink:href=\"#m7a76093bf1\" y=\"172.862513\"/>\n     <use style=\"fill:#1f77b4;stroke:#1f77b4;\" x=\"196.536345\" xlink:href=\"#m7a76093bf1\" y=\"177.362591\"/>\n     <use style=\"fill:#1f77b4;stroke:#1f77b4;\" x=\"197.899016\" xlink:href=\"#m7a76093bf1\" y=\"180.019735\"/>\n     <use style=\"fill:#1f77b4;stroke:#1f77b4;\" x=\"200.631301\" xlink:href=\"#m7a76093bf1\" y=\"196.219692\"/>\n     <use style=\"fill:#1f77b4;stroke:#1f77b4;\" x=\"202.651902\" xlink:href=\"#m7a76093bf1\" y=\"175.841113\"/>\n     <use style=\"fill:#1f77b4;stroke:#1f77b4;\" x=\"203.822773\" xlink:href=\"#m7a76093bf1\" y=\"191.394742\"/>\n     <use style=\"fill:#1f77b4;stroke:#1f77b4;\" x=\"205.52332\" xlink:href=\"#m7a76093bf1\" y=\"195.18283\"/>\n     <use style=\"fill:#1f77b4;stroke:#1f77b4;\" x=\"207.553889\" xlink:href=\"#m7a76093bf1\" y=\"116.045563\"/>\n     <use style=\"fill:#1f77b4;stroke:#1f77b4;\" x=\"207.734539\" xlink:href=\"#m7a76093bf1\" y=\"147.775396\"/>\n     <use style=\"fill:#1f77b4;stroke:#1f77b4;\" x=\"209.035568\" xlink:href=\"#m7a76093bf1\" y=\"133.390622\"/>\n     <use style=\"fill:#1f77b4;stroke:#1f77b4;\" x=\"211.548111\" xlink:href=\"#m7a76093bf1\" y=\"158.518485\"/>\n     <use style=\"fill:#1f77b4;stroke:#1f77b4;\" x=\"212.42303\" xlink:href=\"#m7a76093bf1\" y=\"140.815133\"/>\n     <use style=\"fill:#1f77b4;stroke:#1f77b4;\" x=\"212.591935\" xlink:href=\"#m7a76093bf1\" y=\"140.402706\"/>\n     <use style=\"fill:#1f77b4;stroke:#1f77b4;\" x=\"213.710877\" xlink:href=\"#m7a76093bf1\" y=\"139.109198\"/>\n     <use style=\"fill:#1f77b4;stroke:#1f77b4;\" x=\"214.737167\" xlink:href=\"#m7a76093bf1\" y=\"145.009164\"/>\n     <use style=\"fill:#1f77b4;stroke:#1f77b4;\" x=\"215.993537\" xlink:href=\"#m7a76093bf1\" y=\"145.263635\"/>\n     <use style=\"fill:#1f77b4;stroke:#1f77b4;\" x=\"217.170031\" xlink:href=\"#m7a76093bf1\" y=\"168.103379\"/>\n     <use style=\"fill:#1f77b4;stroke:#1f77b4;\" x=\"217.724187\" xlink:href=\"#m7a76093bf1\" y=\"129.49167\"/>\n     <use style=\"fill:#1f77b4;stroke:#1f77b4;\" x=\"219.722734\" xlink:href=\"#m7a76093bf1\" y=\"127.358027\"/>\n     <use style=\"fill:#1f77b4;stroke:#1f77b4;\" x=\"220.012621\" xlink:href=\"#m7a76093bf1\" y=\"117.008793\"/>\n     <use style=\"fill:#1f77b4;stroke:#1f77b4;\" x=\"220.118041\" xlink:href=\"#m7a76093bf1\" y=\"136.136154\"/>\n     <use style=\"fill:#1f77b4;stroke:#1f77b4;\" x=\"221.256313\" xlink:href=\"#m7a76093bf1\" y=\"105.396455\"/>\n     <use style=\"fill:#1f77b4;stroke:#1f77b4;\" x=\"222.560717\" xlink:href=\"#m7a76093bf1\" y=\"132.815501\"/>\n     <use style=\"fill:#1f77b4;stroke:#1f77b4;\" x=\"224.098394\" xlink:href=\"#m7a76093bf1\" y=\"140.49474\"/>\n     <use style=\"fill:#1f77b4;stroke:#1f77b4;\" x=\"229.721488\" xlink:href=\"#m7a76093bf1\" y=\"97.376872\"/>\n     <use style=\"fill:#1f77b4;stroke:#1f77b4;\" x=\"230.453439\" xlink:href=\"#m7a76093bf1\" y=\"115.383005\"/>\n     <use style=\"fill:#1f77b4;stroke:#1f77b4;\" x=\"232.940053\" xlink:href=\"#m7a76093bf1\" y=\"121.140975\"/>\n     <use style=\"fill:#1f77b4;stroke:#1f77b4;\" x=\"237.207891\" xlink:href=\"#m7a76093bf1\" y=\"93.652863\"/>\n     <use style=\"fill:#1f77b4;stroke:#1f77b4;\" x=\"238.737502\" xlink:href=\"#m7a76093bf1\" y=\"82.107894\"/>\n     <use style=\"fill:#1f77b4;stroke:#1f77b4;\" x=\"239.939554\" xlink:href=\"#m7a76093bf1\" y=\"87.201769\"/>\n     <use style=\"fill:#1f77b4;stroke:#1f77b4;\" x=\"240.55591\" xlink:href=\"#m7a76093bf1\" y=\"82.606427\"/>\n     <use style=\"fill:#1f77b4;stroke:#1f77b4;\" x=\"240.641611\" xlink:href=\"#m7a76093bf1\" y=\"32.201761\"/>\n     <use style=\"fill:#1f77b4;stroke:#1f77b4;\" x=\"243.81516\" xlink:href=\"#m7a76093bf1\" y=\"73.016971\"/>\n     <use style=\"fill:#1f77b4;stroke:#1f77b4;\" x=\"248.017099\" xlink:href=\"#m7a76093bf1\" y=\"57.576612\"/>\n     <use style=\"fill:#1f77b4;stroke:#1f77b4;\" x=\"248.080054\" xlink:href=\"#m7a76093bf1\" y=\"106.461847\"/>\n     <use style=\"fill:#1f77b4;stroke:#1f77b4;\" x=\"248.419034\" xlink:href=\"#m7a76093bf1\" y=\"73.347586\"/>\n     <use style=\"fill:#1f77b4;stroke:#1f77b4;\" x=\"249.396371\" xlink:href=\"#m7a76093bf1\" y=\"66.565269\"/>\n     <use style=\"fill:#1f77b4;stroke:#1f77b4;\" x=\"250.303741\" xlink:href=\"#m7a76093bf1\" y=\"81.462294\"/>\n     <use style=\"fill:#1f77b4;stroke:#1f77b4;\" x=\"250.506229\" xlink:href=\"#m7a76093bf1\" y=\"88.377736\"/>\n     <use style=\"fill:#1f77b4;stroke:#1f77b4;\" x=\"251.065669\" xlink:href=\"#m7a76093bf1\" y=\"70.119253\"/>\n     <use style=\"fill:#1f77b4;stroke:#1f77b4;\" x=\"251.976696\" xlink:href=\"#m7a76093bf1\" y=\"79.175275\"/>\n     <use style=\"fill:#1f77b4;stroke:#1f77b4;\" x=\"254.746728\" xlink:href=\"#m7a76093bf1\" y=\"80.885621\"/>\n     <use style=\"fill:#1f77b4;stroke:#1f77b4;\" x=\"259.896363\" xlink:href=\"#m7a76093bf1\" y=\"54.167602\"/>\n     <use style=\"fill:#1f77b4;stroke:#1f77b4;\" x=\"262.364877\" xlink:href=\"#m7a76093bf1\" y=\"51.15175\"/>\n     <use style=\"fill:#1f77b4;stroke:#1f77b4;\" x=\"264.561226\" xlink:href=\"#m7a76093bf1\" y=\"65.562819\"/>\n     <use style=\"fill:#1f77b4;stroke:#1f77b4;\" x=\"267.861469\" xlink:href=\"#m7a76093bf1\" y=\"76.87967\"/>\n     <use style=\"fill:#1f77b4;stroke:#1f77b4;\" x=\"268.95271\" xlink:href=\"#m7a76093bf1\" y=\"63.849005\"/>\n     <use style=\"fill:#1f77b4;stroke:#1f77b4;\" x=\"278.658943\" xlink:href=\"#m7a76093bf1\" y=\"67.51306\"/>\n     <use style=\"fill:#1f77b4;stroke:#1f77b4;\" x=\"281.14578\" xlink:href=\"#m7a76093bf1\" y=\"73.445485\"/>\n     <use style=\"fill:#1f77b4;stroke:#1f77b4;\" x=\"289.302917\" xlink:href=\"#m7a76093bf1\" y=\"115.566051\"/>\n     <use style=\"fill:#1f77b4;stroke:#1f77b4;\" x=\"289.393257\" xlink:href=\"#m7a76093bf1\" y=\"100.208548\"/>\n     <use style=\"fill:#1f77b4;stroke:#1f77b4;\" x=\"292.029234\" xlink:href=\"#m7a76093bf1\" y=\"95.532935\"/>\n     <use style=\"fill:#1f77b4;stroke:#1f77b4;\" x=\"293.893362\" xlink:href=\"#m7a76093bf1\" y=\"95.617784\"/>\n     <use style=\"fill:#1f77b4;stroke:#1f77b4;\" x=\"295.747595\" xlink:href=\"#m7a76093bf1\" y=\"94.772416\"/>\n     <use style=\"fill:#1f77b4;stroke:#1f77b4;\" x=\"300.742075\" xlink:href=\"#m7a76093bf1\" y=\"108.578687\"/>\n     <use style=\"fill:#1f77b4;stroke:#1f77b4;\" x=\"301.209321\" xlink:href=\"#m7a76093bf1\" y=\"135.984695\"/>\n     <use style=\"fill:#1f77b4;stroke:#1f77b4;\" x=\"303.63486\" xlink:href=\"#m7a76093bf1\" y=\"135.632491\"/>\n     <use style=\"fill:#1f77b4;stroke:#1f77b4;\" x=\"307.383227\" xlink:href=\"#m7a76093bf1\" y=\"151.592088\"/>\n     <use style=\"fill:#1f77b4;stroke:#1f77b4;\" x=\"314.563131\" xlink:href=\"#m7a76093bf1\" y=\"126.433958\"/>\n     <use style=\"fill:#1f77b4;stroke:#1f77b4;\" x=\"317.991992\" xlink:href=\"#m7a76093bf1\" y=\"156.940228\"/>\n     <use style=\"fill:#1f77b4;stroke:#1f77b4;\" x=\"323.580197\" xlink:href=\"#m7a76093bf1\" y=\"163.994585\"/>\n     <use style=\"fill:#1f77b4;stroke:#1f77b4;\" x=\"354.324902\" xlink:href=\"#m7a76093bf1\" y=\"194.459896\"/>\n     <use style=\"fill:#1f77b4;stroke:#1f77b4;\" x=\"358.064631\" xlink:href=\"#m7a76093bf1\" y=\"213.19836\"/>\n    </g>\n   </g>\n   <g id=\"line2d_24\">\n    <path clip-path=\"url(#p22fdc28d9d)\" d=\"M 53.700994 49.536157 \nL 67.51152 58.760163 \nL 73.115124 63.498015 \nL 85.86382 76.830837 \nL 91.756851 84.318027 \nL 92.178299 84.887322 \nL 102.343463 100.003553 \nL 102.926064 100.949688 \nL 106.932288 107.680405 \nL 110.342237 113.704589 \nL 128.691402 149.447323 \nL 129.811441 151.710553 \nL 132.067193 156.252173 \nL 140.625282 172.892266 \nL 144.170441 179.275416 \nL 148.453884 186.367374 \nL 149.633221 188.177392 \nL 152.14026 191.792276 \nL 156.392128 197.119183 \nL 161.295441 201.85228 \nL 163.194755 203.247989 \nL 165.278129 204.487282 \nL 165.429728 204.565428 \nL 166.204955 204.939409 \nL 171.200032 206.318981 \nL 175.514732 206.090685 \nL 177.016083 205.709991 \nL 177.974677 205.387149 \nL 178.157585 205.318539 \nL 180.52527 204.22959 \nL 188.771339 197.572589 \nL 191.395296 194.512641 \nL 191.552568 194.314292 \nL 192.343377 193.290834 \nL 193.71875 191.405679 \nL 193.744809 191.368653 \nL 194.078151 190.890711 \nL 196.343054 187.426648 \nL 196.536345 187.113194 \nL 197.899016 184.821791 \nL 200.631301 179.785158 \nL 202.651902 175.669025 \nL 203.822773 173.12884 \nL 205.52332 169.237207 \nL 207.553889 164.283471 \nL 207.734539 163.827136 \nL 209.035568 160.469011 \nL 211.548111 153.659179 \nL 212.42303 151.202053 \nL 212.591935 150.723397 \nL 213.710877 147.52195 \nL 214.737167 144.547176 \nL 215.993537 140.872169 \nL 217.170031 137.415261 \nL 217.724187 135.7869 \nL 219.722734 129.94575 \nL 220.012621 129.105432 \nL 220.118041 128.800409 \nL 221.256313 125.528596 \nL 222.560717 121.834935 \nL 224.098394 117.566241 \nL 229.721488 102.75847 \nL 230.453439 100.926502 \nL 232.940053 94.916122 \nL 237.207891 85.682679 \nL 238.737502 82.810149 \nL 239.939554 80.736757 \nL 240.55591 79.738287 \nL 240.641611 79.602963 \nL 243.81516 75.20002 \nL 248.017099 71.193688 \nL 248.080054 71.149417 \nL 248.419034 70.919028 \nL 249.396371 70.330173 \nL 250.303741 69.883633 \nL 250.506229 69.797132 \nL 251.065669 69.583051 \nL 251.976696 69.312546 \nL 254.746728 69.079308 \nL 259.896363 70.906208 \nL 262.364877 72.734948 \nL 264.561226 74.815159 \nL 267.861469 78.624477 \nL 268.95271 80.036403 \nL 278.658943 94.567461 \nL 281.14578 98.519005 \nL 289.302917 110.985492 \nL 289.393257 111.115906 \nL 292.029234 114.825149 \nL 293.893362 117.329642 \nL 295.747595 119.718063 \nL 300.742075 125.626595 \nL 301.209321 126.140109 \nL 303.63486 128.699733 \nL 307.383227 132.315242 \nL 314.563131 138.177506 \nL 317.991992 140.536063 \nL 323.580197 143.852375 \nL 354.324902 154.129445 \nL 358.064631 154.784458 \n\" style=\"fill:none;stroke:#ff0000;stroke-linecap:square;stroke-width:1.5;\"/>\n   </g>\n   <g id=\"patch_3\">\n    <path d=\"M 38.482813 239.758125 \nL 38.482813 22.318125 \n\" style=\"fill:none;stroke:#000000;stroke-linecap:square;stroke-linejoin:miter;stroke-width:0.8;\"/>\n   </g>\n   <g id=\"patch_4\">\n    <path d=\"M 373.282813 239.758125 \nL 373.282813 22.318125 \n\" style=\"fill:none;stroke:#000000;stroke-linecap:square;stroke-linejoin:miter;stroke-width:0.8;\"/>\n   </g>\n   <g id=\"patch_5\">\n    <path d=\"M 38.482813 239.758125 \nL 373.282813 239.758125 \n\" style=\"fill:none;stroke:#000000;stroke-linecap:square;stroke-linejoin:miter;stroke-width:0.8;\"/>\n   </g>\n   <g id=\"patch_6\">\n    <path d=\"M 38.482813 22.318125 \nL 373.282813 22.318125 \n\" style=\"fill:none;stroke:#000000;stroke-linecap:square;stroke-linejoin:miter;stroke-width:0.8;\"/>\n   </g>\n   <g id=\"text_12\">\n    <!-- Iteration 200/200 -->\n    <g transform=\"translate(153.599375 16.318125)scale(0.12 -0.12)\">\n     <defs>\n      <path d=\"M 9.8125 72.90625 \nL 19.671875 72.90625 \nL 19.671875 0 \nL 9.8125 0 \nz\n\" id=\"DejaVuSans-73\"/>\n      <path d=\"M 18.3125 70.21875 \nL 18.3125 54.6875 \nL 36.8125 54.6875 \nL 36.8125 47.703125 \nL 18.3125 47.703125 \nL 18.3125 18.015625 \nQ 18.3125 11.328125 20.140625 9.421875 \nQ 21.96875 7.515625 27.59375 7.515625 \nL 36.8125 7.515625 \nL 36.8125 0 \nL 27.59375 0 \nQ 17.1875 0 13.234375 3.875 \nQ 9.28125 7.765625 9.28125 18.015625 \nL 9.28125 47.703125 \nL 2.6875 47.703125 \nL 2.6875 54.6875 \nL 9.28125 54.6875 \nL 9.28125 70.21875 \nz\n\" id=\"DejaVuSans-116\"/>\n      <path d=\"M 56.203125 29.59375 \nL 56.203125 25.203125 \nL 14.890625 25.203125 \nQ 15.484375 15.921875 20.484375 11.0625 \nQ 25.484375 6.203125 34.421875 6.203125 \nQ 39.59375 6.203125 44.453125 7.46875 \nQ 49.3125 8.734375 54.109375 11.28125 \nL 54.109375 2.78125 \nQ 49.265625 0.734375 44.1875 -0.34375 \nQ 39.109375 -1.421875 33.890625 -1.421875 \nQ 20.796875 -1.421875 13.15625 6.1875 \nQ 5.515625 13.8125 5.515625 26.8125 \nQ 5.515625 40.234375 12.765625 48.109375 \nQ 20.015625 56 32.328125 56 \nQ 43.359375 56 49.78125 48.890625 \nQ 56.203125 41.796875 56.203125 29.59375 \nz\nM 47.21875 32.234375 \nQ 47.125 39.59375 43.09375 43.984375 \nQ 39.0625 48.390625 32.421875 48.390625 \nQ 24.90625 48.390625 20.390625 44.140625 \nQ 15.875 39.890625 15.1875 32.171875 \nz\n\" id=\"DejaVuSans-101\"/>\n      <path d=\"M 41.109375 46.296875 \nQ 39.59375 47.171875 37.8125 47.578125 \nQ 36.03125 48 33.890625 48 \nQ 26.265625 48 22.1875 43.046875 \nQ 18.109375 38.09375 18.109375 28.8125 \nL 18.109375 0 \nL 9.078125 0 \nL 9.078125 54.6875 \nL 18.109375 54.6875 \nL 18.109375 46.1875 \nQ 20.953125 51.171875 25.484375 53.578125 \nQ 30.03125 56 36.53125 56 \nQ 37.453125 56 38.578125 55.875 \nQ 39.703125 55.765625 41.0625 55.515625 \nz\n\" id=\"DejaVuSans-114\"/>\n      <path d=\"M 34.28125 27.484375 \nQ 23.390625 27.484375 19.1875 25 \nQ 14.984375 22.515625 14.984375 16.5 \nQ 14.984375 11.71875 18.140625 8.90625 \nQ 21.296875 6.109375 26.703125 6.109375 \nQ 34.1875 6.109375 38.703125 11.40625 \nQ 43.21875 16.703125 43.21875 25.484375 \nL 43.21875 27.484375 \nz\nM 52.203125 31.203125 \nL 52.203125 0 \nL 43.21875 0 \nL 43.21875 8.296875 \nQ 40.140625 3.328125 35.546875 0.953125 \nQ 30.953125 -1.421875 24.3125 -1.421875 \nQ 15.921875 -1.421875 10.953125 3.296875 \nQ 6 8.015625 6 15.921875 \nQ 6 25.140625 12.171875 29.828125 \nQ 18.359375 34.515625 30.609375 34.515625 \nL 43.21875 34.515625 \nL 43.21875 35.40625 \nQ 43.21875 41.609375 39.140625 45 \nQ 35.0625 48.390625 27.6875 48.390625 \nQ 23 48.390625 18.546875 47.265625 \nQ 14.109375 46.140625 10.015625 43.890625 \nL 10.015625 52.203125 \nQ 14.9375 54.109375 19.578125 55.046875 \nQ 24.21875 56 28.609375 56 \nQ 40.484375 56 46.34375 49.84375 \nQ 52.203125 43.703125 52.203125 31.203125 \nz\n\" id=\"DejaVuSans-97\"/>\n      <path d=\"M 9.421875 54.6875 \nL 18.40625 54.6875 \nL 18.40625 0 \nL 9.421875 0 \nz\nM 9.421875 75.984375 \nL 18.40625 75.984375 \nL 18.40625 64.59375 \nL 9.421875 64.59375 \nz\n\" id=\"DejaVuSans-105\"/>\n      <path d=\"M 30.609375 48.390625 \nQ 23.390625 48.390625 19.1875 42.75 \nQ 14.984375 37.109375 14.984375 27.296875 \nQ 14.984375 17.484375 19.15625 11.84375 \nQ 23.34375 6.203125 30.609375 6.203125 \nQ 37.796875 6.203125 41.984375 11.859375 \nQ 46.1875 17.53125 46.1875 27.296875 \nQ 46.1875 37.015625 41.984375 42.703125 \nQ 37.796875 48.390625 30.609375 48.390625 \nz\nM 30.609375 56 \nQ 42.328125 56 49.015625 48.375 \nQ 55.71875 40.765625 55.71875 27.296875 \nQ 55.71875 13.875 49.015625 6.21875 \nQ 42.328125 -1.421875 30.609375 -1.421875 \nQ 18.84375 -1.421875 12.171875 6.21875 \nQ 5.515625 13.875 5.515625 27.296875 \nQ 5.515625 40.765625 12.171875 48.375 \nQ 18.84375 56 30.609375 56 \nz\n\" id=\"DejaVuSans-111\"/>\n      <path d=\"M 54.890625 33.015625 \nL 54.890625 0 \nL 45.90625 0 \nL 45.90625 32.71875 \nQ 45.90625 40.484375 42.875 44.328125 \nQ 39.84375 48.1875 33.796875 48.1875 \nQ 26.515625 48.1875 22.3125 43.546875 \nQ 18.109375 38.921875 18.109375 30.90625 \nL 18.109375 0 \nL 9.078125 0 \nL 9.078125 54.6875 \nL 18.109375 54.6875 \nL 18.109375 46.1875 \nQ 21.34375 51.125 25.703125 53.5625 \nQ 30.078125 56 35.796875 56 \nQ 45.21875 56 50.046875 50.171875 \nQ 54.890625 44.34375 54.890625 33.015625 \nz\n\" id=\"DejaVuSans-110\"/>\n      <path id=\"DejaVuSans-32\"/>\n      <path d=\"M 25.390625 72.90625 \nL 33.6875 72.90625 \nL 8.296875 -9.28125 \nL 0 -9.28125 \nz\n\" id=\"DejaVuSans-47\"/>\n     </defs>\n     <use xlink:href=\"#DejaVuSans-73\"/>\n     <use x=\"29.492188\" xlink:href=\"#DejaVuSans-116\"/>\n     <use x=\"68.701172\" xlink:href=\"#DejaVuSans-101\"/>\n     <use x=\"130.224609\" xlink:href=\"#DejaVuSans-114\"/>\n     <use x=\"171.337891\" xlink:href=\"#DejaVuSans-97\"/>\n     <use x=\"232.617188\" xlink:href=\"#DejaVuSans-116\"/>\n     <use x=\"271.826172\" xlink:href=\"#DejaVuSans-105\"/>\n     <use x=\"299.609375\" xlink:href=\"#DejaVuSans-111\"/>\n     <use x=\"360.791016\" xlink:href=\"#DejaVuSans-110\"/>\n     <use x=\"424.169922\" xlink:href=\"#DejaVuSans-32\"/>\n     <use x=\"455.957031\" xlink:href=\"#DejaVuSans-50\"/>\n     <use x=\"519.580078\" xlink:href=\"#DejaVuSans-48\"/>\n     <use x=\"583.203125\" xlink:href=\"#DejaVuSans-48\"/>\n     <use x=\"646.826172\" xlink:href=\"#DejaVuSans-47\"/>\n     <use x=\"680.517578\" xlink:href=\"#DejaVuSans-50\"/>\n     <use x=\"744.140625\" xlink:href=\"#DejaVuSans-48\"/>\n     <use x=\"807.763672\" xlink:href=\"#DejaVuSans-48\"/>\n    </g>\n   </g>\n  </g>\n </g>\n <defs>\n  <clipPath id=\"p22fdc28d9d\">\n   <rect height=\"217.44\" width=\"334.8\" x=\"38.482813\" y=\"22.318125\"/>\n  </clipPath>\n </defs>\n</svg>\n",
      "image/png": "[encoded data removed]"
     },
     "metadata": {}
    }
   ],
   "source": [
    "# And train an MLP network using gradient descent\n",
    "from IPython import display\n",
    "\n",
    "if not skip_training:  # The trained MLP is not tested\n",
    "    mlp = MLP(1, 10, 11, 1)  # Create MLP network\n",
    "    loss = MSELoss()  # Create loss\n",
    "\n",
    "    fig, ax = plt.subplots(1)\n",
    "    ax.plot(x, targets, '.')\n",
    "    learning_rate = 0.05\n",
    "    n_epochs = 1 if skip_training else 200\n",
    "    for i in range(n_epochs):\n",
    "        # Forward computations\n",
    "        y = mlp.forward(x)\n",
    "        c = loss.forward(y, targets)\n",
    "\n",
    "        # Backward computations\n",
    "        dy = loss.backward()\n",
    "        dx = mlp.backward(dy)\n",
    "\n",
    "        # Gradient descent update\n",
    "        #learning_rate *= 0.99  # Learning rate annealing\n",
    "        for module in mlp.__dict__.values():\n",
    "            if hasattr(module, 'W'):\n",
    "                module.W = module.W - module.grad_W * learning_rate\n",
    "                module.b = module.b - module.grad_b * learning_rate\n",
    "\n",
    "        ax.clear()\n",
    "        ax.plot(x, targets, '.')\n",
    "        ax.plot(x, y, 'r-')\n",
    "        ax.grid(True)\n",
    "        ax.set_title('Iteration %d/%d' % (i+1, n_epochs))\n",
    "        display.clear_output(wait=True)\n",
    "        display.display(fig)\n",
    "        plt.pause(0.005)\n",
    "    display.clear_output(wait=True)"
   ]
  },
  {
   "cell_type": "markdown",
   "metadata": {
    "deletable": false,
    "editable": false,
    "nbgrader": {
     "cell_type": "markdown",
     "checksum": "778ff4525fa210606bebf85f115fb080",
     "grade": false,
     "grade_id": "cell-ca3ef83db74fc3f9",
     "locked": true,
     "schema_version": 3,
     "solution": false,
     "task": false
    }
   },
   "source": [
    "If you implement the MLP correctly, you will see that the learned function fits the training data."
   ]
  },
  {
   "cell_type": "markdown",
   "metadata": {
    "deletable": false,
    "editable": false,
    "nbgrader": {
     "cell_type": "markdown",
     "checksum": "295b11424526bb9dc1ea17bf141803b7",
     "grade": false,
     "grade_id": "cell-841919d678edba70",
     "locked": true,
     "schema_version": 3,
     "solution": false,
     "task": false
    }
   },
   "source": [
    "<div class=\"alert alert-block alert-info\">\n",
    "<b>Conclusions</b>\n",
    "</div>\n",
    "\n",
    "Now you have implemented backpropagation and trained an MLP network using gradient descent.\n",
    "\n",
    "PyTorch makes it easier to create neural networks with different architectures and optimize its parameters using (variants of) gradient descent:\n",
    "* It contains multiple building blocks with forward and backward computations implemented.\n",
    "* It implements optimization methods that work well for neural networks.\n",
    "* Computations can be performed either on GPU or CPU using the same code."
   ]
  }
 ],
 "metadata": {
  "kernelspec": {
   "display_name": "Python 3",
   "language": "python",
   "name": "python3"
  },
  "language_info": {
   "codemirror_mode": {
    "name": "ipython",
    "version": 3
   },
   "file_extension": ".py",
   "mimetype": "text/x-python",
   "name": "python",
   "nbconvert_exporter": "python",
   "pygments_lexer": "ipython3",
   "version": "3.9.2-final"
  },
  "toc-autonumbering": false,
  "toc-showtags": false,
  "varInspector": {
   "cols": {
    "lenName": 16,
    "lenType": 16,
    "lenVar": 40
   },
   "kernels_config": {
    "python": {
     "delete_cmd_postfix": "",
     "delete_cmd_prefix": "del ",
     "library": "var_list.py",
     "varRefreshCmd": "print(var_dic_list())"
    },
    "r": {
     "delete_cmd_postfix": ") ",
     "delete_cmd_prefix": "rm(",
     "library": "var_list.r",
     "varRefreshCmd": "cat(var_dic_list()) "
    }
   },
   "types_to_exclude": [
    "module",
    "function",
    "builtin_function_or_method",
    "instance",
    "_Feature"
   ],
   "window_display": false
  }
 },
 "nbformat": 4,
 "nbformat_minor": 4
}