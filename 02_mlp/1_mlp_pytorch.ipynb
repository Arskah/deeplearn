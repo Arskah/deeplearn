{
 "cells": [
  {
   "cell_type": "markdown",
   "metadata": {
    "deletable": false,
    "editable": false,
    "nbgrader": {
     "cell_type": "markdown",
     "checksum": "33de9c62040218c8bb988160736ec07d",
     "grade": false,
     "grade_id": "cell-0a8316b039d048ad",
     "locked": true,
     "schema_version": 3,
     "solution": false
    }
   },
   "source": [
    "<div class=\"alert alert-block alert-info\">\n",
    "<b>Number of points for this notebook:</b> 2\n",
    "<br>\n",
    "<b>Deadline:</b> March 10, 2021 (Wednesday) 23:00\n",
    "</div>\n",
    "\n",
    "# Exercise 1.1. Train a multilayer perceptron (MLP) with pytorch.\n",
    "\n",
    "The goal of this exercise is to get familiar with the basics of PyTorch and train a multilayer perceptron (MLP) model.\n",
    "\n",
    "If you are not familiar with PyTorch, there is a number of good tutorials [here](https://pytorch.org/tutorials/index.html). We recommend the following ones:\n",
    "* [What is PyTorch?](https://pytorch.org/tutorials/beginner/blitz/tensor_tutorial.html#sphx-glr-beginner-blitz-tensor-tutorial-py)\n",
    "* [Autograd: Automatic Differentiation](https://pytorch.org/tutorials/beginner/blitz/autograd_tutorial.html#sphx-glr-beginner-blitz-autograd-tutorial-py)\n",
    "* [Learning PyTorch with Examples](https://pytorch.org/tutorials/beginner/pytorch_with_examples.html)\n",
    "* [Neural Networks](https://pytorch.org/tutorials/beginner/blitz/neural_networks_tutorial.html#sphx-glr-beginner-blitz-neural-networks-tutorial-py)"
   ]
  },
  {
   "cell_type": "code",
   "execution_count": 60,
   "metadata": {},
   "outputs": [],
   "source": [
    "skip_training = False  # Set this flag to True before validation and submission"
   ]
  },
  {
   "cell_type": "code",
   "execution_count": 61,
   "metadata": {
    "deletable": false,
    "editable": false,
    "nbgrader": {
     "cell_type": "code",
     "checksum": "65e2970339980ef7d85c3754662c4ee8",
     "grade": true,
     "grade_id": "evaluation_settings",
     "locked": true,
     "points": 0,
     "schema_version": 3,
     "solution": false
    }
   },
   "outputs": [],
   "source": [
    "# During evaluation, this cell sets skip_training to True\n",
    "# skip_training = True"
   ]
  },
  {
   "cell_type": "code",
   "execution_count": 62,
   "metadata": {},
   "outputs": [],
   "source": [
    "import os\n",
    "import numpy as np\n",
    "import pandas as pd\n",
    "import matplotlib.pyplot as plt\n",
    "%matplotlib inline\n",
    "\n",
    "import torch\n",
    "import torch.nn as nn\n",
    "import torch.nn.functional as F\n",
    "\n",
    "import tools"
   ]
  },
  {
   "cell_type": "code",
   "execution_count": 63,
   "metadata": {},
   "outputs": [],
   "source": [
    "# Select device which you are going to use for training\n",
    "#device = torch.device(\"cuda:0\")\n",
    "device = torch.device(\"cpu\")"
   ]
  },
  {
   "cell_type": "code",
   "execution_count": 64,
   "metadata": {
    "deletable": false,
    "editable": false,
    "nbgrader": {
     "cell_type": "code",
     "checksum": "fc5c0195206dae40876fe429916217c4",
     "grade": false,
     "grade_id": "cell-70232a39ccf9c751",
     "locked": true,
     "schema_version": 3,
     "solution": false
    }
   },
   "outputs": [],
   "source": [
    "if skip_training:\n",
    "    # The models are always evaluated on CPU\n",
    "    device = torch.device(\"cpu\")"
   ]
  },
  {
   "cell_type": "markdown",
   "metadata": {
    "deletable": false,
    "editable": false,
    "nbgrader": {
     "cell_type": "markdown",
     "checksum": "9a2f38426fa8e74a2489b7e50ee73dae",
     "grade": false,
     "grade_id": "cell-ce13efdf413792bd",
     "locked": true,
     "schema_version": 3,
     "solution": false
    }
   },
   "source": [
    "# Data\n",
    "\n",
    "We will train the MLP on a toy regression problem."
   ]
  },
  {
   "cell_type": "code",
   "execution_count": 65,
   "metadata": {
    "deletable": false,
    "editable": false,
    "nbgrader": {
     "cell_type": "code",
     "checksum": "a6fb4fb83260a305254d339c1b7e1e5c",
     "grade": false,
     "grade_id": "cell-c1dddacb4674e7d3",
     "locked": true,
     "schema_version": 3,
     "solution": false,
     "task": false
    }
   },
   "outputs": [
    {
     "output_type": "execute_result",
     "data": {
      "text/plain": [
       "[<matplotlib.lines.Line2D at 0x12f5f95e0>]"
      ]
     },
     "metadata": {},
     "execution_count": 65
    },
    {
     "output_type": "display_data",
     "data": {
      "text/plain": "<Figure size 432x288 with 1 Axes>",
      "image/svg+xml": "<?xml version=\"1.0\" encoding=\"utf-8\" standalone=\"no\"?>\n<!DOCTYPE svg PUBLIC \"-//W3C//DTD SVG 1.1//EN\"\n  \"http://www.w3.org/Graphics/SVG/1.1/DTD/svg11.dtd\">\n<!-- Created with matplotlib (https://matplotlib.org/) -->\n<svg height=\"248.518125pt\" version=\"1.1\" viewBox=\"0 0 380.482812 248.518125\" width=\"380.482812pt\" xmlns=\"http://www.w3.org/2000/svg\" xmlns:xlink=\"http://www.w3.org/1999/xlink\">\n <metadata>\n  <rdf:RDF xmlns:cc=\"http://creativecommons.org/ns#\" xmlns:dc=\"http://purl.org/dc/elements/1.1/\" xmlns:rdf=\"http://www.w3.org/1999/02/22-rdf-syntax-ns#\">\n   <cc:Work>\n    <dc:type rdf:resource=\"http://purl.org/dc/dcmitype/StillImage\"/>\n    <dc:date>2021-03-09T22:03:27.318293</dc:date>\n    <dc:format>image/svg+xml</dc:format>\n    <dc:creator>\n     <cc:Agent>\n      <dc:title>Matplotlib v3.3.4, https://matplotlib.org/</dc:title>\n     </cc:Agent>\n    </dc:creator>\n   </cc:Work>\n  </rdf:RDF>\n </metadata>\n <defs>\n  <style type=\"text/css\">*{stroke-linecap:butt;stroke-linejoin:round;}</style>\n </defs>\n <g id=\"figure_1\">\n  <g id=\"patch_1\">\n   <path d=\"M -0 248.518125 \nL 380.482812 248.518125 \nL 380.482812 0 \nL -0 0 \nz\n\" style=\"fill:none;\"/>\n  </g>\n  <g id=\"axes_1\">\n   <g id=\"patch_2\">\n    <path d=\"M 38.482813 224.64 \nL 373.282813 224.64 \nL 373.282813 7.2 \nL 38.482813 7.2 \nz\n\" style=\"fill:#ffffff;\"/>\n   </g>\n   <g id=\"matplotlib.axis_1\">\n    <g id=\"xtick_1\">\n     <g id=\"line2d_1\">\n      <defs>\n       <path d=\"M 0 0 \nL 0 3.5 \n\" id=\"m038e33fb25\" style=\"stroke:#000000;stroke-width:0.8;\"/>\n      </defs>\n      <g>\n       <use style=\"stroke:#000000;stroke-width:0.8;\" x=\"94.235382\" xlink:href=\"#m038e33fb25\" y=\"224.64\"/>\n      </g>\n     </g>\n     <g id=\"text_1\">\n      <!-- −2 -->\n      <g transform=\"translate(86.864289 239.238437)scale(0.1 -0.1)\">\n       <defs>\n        <path d=\"M 10.59375 35.5 \nL 73.1875 35.5 \nL 73.1875 27.203125 \nL 10.59375 27.203125 \nz\n\" id=\"DejaVuSans-8722\"/>\n        <path d=\"M 19.1875 8.296875 \nL 53.609375 8.296875 \nL 53.609375 0 \nL 7.328125 0 \nL 7.328125 8.296875 \nQ 12.9375 14.109375 22.625 23.890625 \nQ 32.328125 33.6875 34.8125 36.53125 \nQ 39.546875 41.84375 41.421875 45.53125 \nQ 43.3125 49.21875 43.3125 52.78125 \nQ 43.3125 58.59375 39.234375 62.25 \nQ 35.15625 65.921875 28.609375 65.921875 \nQ 23.96875 65.921875 18.8125 64.3125 \nQ 13.671875 62.703125 7.8125 59.421875 \nL 7.8125 69.390625 \nQ 13.765625 71.78125 18.9375 73 \nQ 24.125 74.21875 28.421875 74.21875 \nQ 39.75 74.21875 46.484375 68.546875 \nQ 53.21875 62.890625 53.21875 53.421875 \nQ 53.21875 48.921875 51.53125 44.890625 \nQ 49.859375 40.875 45.40625 35.40625 \nQ 44.1875 33.984375 37.640625 27.21875 \nQ 31.109375 20.453125 19.1875 8.296875 \nz\n\" id=\"DejaVuSans-50\"/>\n       </defs>\n       <use xlink:href=\"#DejaVuSans-8722\"/>\n       <use x=\"83.789062\" xlink:href=\"#DejaVuSans-50\"/>\n      </g>\n     </g>\n    </g>\n    <g id=\"xtick_2\">\n     <g id=\"line2d_2\">\n      <g>\n       <use style=\"stroke:#000000;stroke-width:0.8;\" x=\"155.702406\" xlink:href=\"#m038e33fb25\" y=\"224.64\"/>\n      </g>\n     </g>\n     <g id=\"text_2\">\n      <!-- −1 -->\n      <g transform=\"translate(148.331312 239.238437)scale(0.1 -0.1)\">\n       <defs>\n        <path d=\"M 12.40625 8.296875 \nL 28.515625 8.296875 \nL 28.515625 63.921875 \nL 10.984375 60.40625 \nL 10.984375 69.390625 \nL 28.421875 72.90625 \nL 38.28125 72.90625 \nL 38.28125 8.296875 \nL 54.390625 8.296875 \nL 54.390625 0 \nL 12.40625 0 \nz\n\" id=\"DejaVuSans-49\"/>\n       </defs>\n       <use xlink:href=\"#DejaVuSans-8722\"/>\n       <use x=\"83.789062\" xlink:href=\"#DejaVuSans-49\"/>\n      </g>\n     </g>\n    </g>\n    <g id=\"xtick_3\">\n     <g id=\"line2d_3\">\n      <g>\n       <use style=\"stroke:#000000;stroke-width:0.8;\" x=\"217.16943\" xlink:href=\"#m038e33fb25\" y=\"224.64\"/>\n      </g>\n     </g>\n     <g id=\"text_3\">\n      <!-- 0 -->\n      <g transform=\"translate(213.98818 239.238437)scale(0.1 -0.1)\">\n       <defs>\n        <path d=\"M 31.78125 66.40625 \nQ 24.171875 66.40625 20.328125 58.90625 \nQ 16.5 51.421875 16.5 36.375 \nQ 16.5 21.390625 20.328125 13.890625 \nQ 24.171875 6.390625 31.78125 6.390625 \nQ 39.453125 6.390625 43.28125 13.890625 \nQ 47.125 21.390625 47.125 36.375 \nQ 47.125 51.421875 43.28125 58.90625 \nQ 39.453125 66.40625 31.78125 66.40625 \nz\nM 31.78125 74.21875 \nQ 44.046875 74.21875 50.515625 64.515625 \nQ 56.984375 54.828125 56.984375 36.375 \nQ 56.984375 17.96875 50.515625 8.265625 \nQ 44.046875 -1.421875 31.78125 -1.421875 \nQ 19.53125 -1.421875 13.0625 8.265625 \nQ 6.59375 17.96875 6.59375 36.375 \nQ 6.59375 54.828125 13.0625 64.515625 \nQ 19.53125 74.21875 31.78125 74.21875 \nz\n\" id=\"DejaVuSans-48\"/>\n       </defs>\n       <use xlink:href=\"#DejaVuSans-48\"/>\n      </g>\n     </g>\n    </g>\n    <g id=\"xtick_4\">\n     <g id=\"line2d_4\">\n      <g>\n       <use style=\"stroke:#000000;stroke-width:0.8;\" x=\"278.636454\" xlink:href=\"#m038e33fb25\" y=\"224.64\"/>\n      </g>\n     </g>\n     <g id=\"text_4\">\n      <!-- 1 -->\n      <g transform=\"translate(275.455204 239.238437)scale(0.1 -0.1)\">\n       <use xlink:href=\"#DejaVuSans-49\"/>\n      </g>\n     </g>\n    </g>\n    <g id=\"xtick_5\">\n     <g id=\"line2d_5\">\n      <g>\n       <use style=\"stroke:#000000;stroke-width:0.8;\" x=\"340.103477\" xlink:href=\"#m038e33fb25\" y=\"224.64\"/>\n      </g>\n     </g>\n     <g id=\"text_5\">\n      <!-- 2 -->\n      <g transform=\"translate(336.922227 239.238437)scale(0.1 -0.1)\">\n       <use xlink:href=\"#DejaVuSans-50\"/>\n      </g>\n     </g>\n    </g>\n   </g>\n   <g id=\"matplotlib.axis_2\">\n    <g id=\"ytick_1\">\n     <g id=\"line2d_6\">\n      <defs>\n       <path d=\"M 0 0 \nL -3.5 0 \n\" id=\"m2f0e0b2291\" style=\"stroke:#000000;stroke-width:0.8;\"/>\n      </defs>\n      <g>\n       <use style=\"stroke:#000000;stroke-width:0.8;\" x=\"38.482813\" xlink:href=\"#m2f0e0b2291\" y=\"193.772803\"/>\n      </g>\n     </g>\n     <g id=\"text_6\">\n      <!-- −1.0 -->\n      <g transform=\"translate(7.2 197.572022)scale(0.1 -0.1)\">\n       <defs>\n        <path d=\"M 10.6875 12.40625 \nL 21 12.40625 \nL 21 0 \nL 10.6875 0 \nz\n\" id=\"DejaVuSans-46\"/>\n       </defs>\n       <use xlink:href=\"#DejaVuSans-8722\"/>\n       <use x=\"83.789062\" xlink:href=\"#DejaVuSans-49\"/>\n       <use x=\"147.412109\" xlink:href=\"#DejaVuSans-46\"/>\n       <use x=\"179.199219\" xlink:href=\"#DejaVuSans-48\"/>\n      </g>\n     </g>\n    </g>\n    <g id=\"ytick_2\">\n     <g id=\"line2d_7\">\n      <g>\n       <use style=\"stroke:#000000;stroke-width:0.8;\" x=\"38.482813\" xlink:href=\"#m2f0e0b2291\" y=\"158.976956\"/>\n      </g>\n     </g>\n     <g id=\"text_7\">\n      <!-- −0.5 -->\n      <g transform=\"translate(7.2 162.776174)scale(0.1 -0.1)\">\n       <defs>\n        <path d=\"M 10.796875 72.90625 \nL 49.515625 72.90625 \nL 49.515625 64.59375 \nL 19.828125 64.59375 \nL 19.828125 46.734375 \nQ 21.96875 47.46875 24.109375 47.828125 \nQ 26.265625 48.1875 28.421875 48.1875 \nQ 40.625 48.1875 47.75 41.5 \nQ 54.890625 34.8125 54.890625 23.390625 \nQ 54.890625 11.625 47.5625 5.09375 \nQ 40.234375 -1.421875 26.90625 -1.421875 \nQ 22.3125 -1.421875 17.546875 -0.640625 \nQ 12.796875 0.140625 7.71875 1.703125 \nL 7.71875 11.625 \nQ 12.109375 9.234375 16.796875 8.0625 \nQ 21.484375 6.890625 26.703125 6.890625 \nQ 35.15625 6.890625 40.078125 11.328125 \nQ 45.015625 15.765625 45.015625 23.390625 \nQ 45.015625 31 40.078125 35.4375 \nQ 35.15625 39.890625 26.703125 39.890625 \nQ 22.75 39.890625 18.8125 39.015625 \nQ 14.890625 38.140625 10.796875 36.28125 \nz\n\" id=\"DejaVuSans-53\"/>\n       </defs>\n       <use xlink:href=\"#DejaVuSans-8722\"/>\n       <use x=\"83.789062\" xlink:href=\"#DejaVuSans-48\"/>\n       <use x=\"147.412109\" xlink:href=\"#DejaVuSans-46\"/>\n       <use x=\"179.199219\" xlink:href=\"#DejaVuSans-53\"/>\n      </g>\n     </g>\n    </g>\n    <g id=\"ytick_3\">\n     <g id=\"line2d_8\">\n      <g>\n       <use style=\"stroke:#000000;stroke-width:0.8;\" x=\"38.482813\" xlink:href=\"#m2f0e0b2291\" y=\"124.181108\"/>\n      </g>\n     </g>\n     <g id=\"text_8\">\n      <!-- 0.0 -->\n      <g transform=\"translate(15.579688 127.980327)scale(0.1 -0.1)\">\n       <use xlink:href=\"#DejaVuSans-48\"/>\n       <use x=\"63.623047\" xlink:href=\"#DejaVuSans-46\"/>\n       <use x=\"95.410156\" xlink:href=\"#DejaVuSans-48\"/>\n      </g>\n     </g>\n    </g>\n    <g id=\"ytick_4\">\n     <g id=\"line2d_9\">\n      <g>\n       <use style=\"stroke:#000000;stroke-width:0.8;\" x=\"38.482813\" xlink:href=\"#m2f0e0b2291\" y=\"89.385261\"/>\n      </g>\n     </g>\n     <g id=\"text_9\">\n      <!-- 0.5 -->\n      <g transform=\"translate(15.579688 93.18448)scale(0.1 -0.1)\">\n       <use xlink:href=\"#DejaVuSans-48\"/>\n       <use x=\"63.623047\" xlink:href=\"#DejaVuSans-46\"/>\n       <use x=\"95.410156\" xlink:href=\"#DejaVuSans-53\"/>\n      </g>\n     </g>\n    </g>\n    <g id=\"ytick_5\">\n     <g id=\"line2d_10\">\n      <g>\n       <use style=\"stroke:#000000;stroke-width:0.8;\" x=\"38.482813\" xlink:href=\"#m2f0e0b2291\" y=\"54.589414\"/>\n      </g>\n     </g>\n     <g id=\"text_10\">\n      <!-- 1.0 -->\n      <g transform=\"translate(15.579688 58.388633)scale(0.1 -0.1)\">\n       <use xlink:href=\"#DejaVuSans-49\"/>\n       <use x=\"63.623047\" xlink:href=\"#DejaVuSans-46\"/>\n       <use x=\"95.410156\" xlink:href=\"#DejaVuSans-48\"/>\n      </g>\n     </g>\n    </g>\n    <g id=\"ytick_6\">\n     <g id=\"line2d_11\">\n      <g>\n       <use style=\"stroke:#000000;stroke-width:0.8;\" x=\"38.482813\" xlink:href=\"#m2f0e0b2291\" y=\"19.793567\"/>\n      </g>\n     </g>\n     <g id=\"text_11\">\n      <!-- 1.5 -->\n      <g transform=\"translate(15.579688 23.592786)scale(0.1 -0.1)\">\n       <use xlink:href=\"#DejaVuSans-49\"/>\n       <use x=\"63.623047\" xlink:href=\"#DejaVuSans-46\"/>\n       <use x=\"95.410156\" xlink:href=\"#DejaVuSans-53\"/>\n      </g>\n     </g>\n    </g>\n   </g>\n   <g id=\"line2d_12\">\n    <defs>\n     <path d=\"M 0 1.5 \nC 0.397805 1.5 0.77937 1.341951 1.06066 1.06066 \nC 1.341951 0.77937 1.5 0.397805 1.5 0 \nC 1.5 -0.397805 1.341951 -0.77937 1.06066 -1.06066 \nC 0.77937 -1.341951 0.397805 -1.5 0 -1.5 \nC -0.397805 -1.5 -0.77937 -1.341951 -1.06066 -1.06066 \nC -1.341951 -0.77937 -1.5 -0.397805 -1.5 0 \nC -1.5 0.397805 -1.341951 0.77937 -1.06066 1.06066 \nC -0.77937 1.341951 -0.397805 1.5 0 1.5 \nz\n\" id=\"m4e1f5526e8\" style=\"stroke:#1f77b4;\"/>\n    </defs>\n    <g clip-path=\"url(#pa2ef811043)\">\n     <use style=\"fill:#1f77b4;stroke:#1f77b4;\" x=\"53.700994\" xlink:href=\"#m4e1f5526e8\" y=\"62.481298\"/>\n     <use style=\"fill:#1f77b4;stroke:#1f77b4;\" x=\"67.511519\" xlink:href=\"#m4e1f5526e8\" y=\"54.361847\"/>\n     <use style=\"fill:#1f77b4;stroke:#1f77b4;\" x=\"73.11512\" xlink:href=\"#m4e1f5526e8\" y=\"71.69376\"/>\n     <use style=\"fill:#1f77b4;stroke:#1f77b4;\" x=\"85.863811\" xlink:href=\"#m4e1f5526e8\" y=\"50.528923\"/>\n     <use style=\"fill:#1f77b4;stroke:#1f77b4;\" x=\"91.756847\" xlink:href=\"#m4e1f5526e8\" y=\"65.425005\"/>\n     <use style=\"fill:#1f77b4;stroke:#1f77b4;\" x=\"92.178292\" xlink:href=\"#m4e1f5526e8\" y=\"25.640986\"/>\n     <use style=\"fill:#1f77b4;stroke:#1f77b4;\" x=\"102.343459\" xlink:href=\"#m4e1f5526e8\" y=\"50.144787\"/>\n     <use style=\"fill:#1f77b4;stroke:#1f77b4;\" x=\"102.926056\" xlink:href=\"#m4e1f5526e8\" y=\"70.556278\"/>\n     <use style=\"fill:#1f77b4;stroke:#1f77b4;\" x=\"106.932283\" xlink:href=\"#m4e1f5526e8\" y=\"94.064847\"/>\n     <use style=\"fill:#1f77b4;stroke:#1f77b4;\" x=\"110.342232\" xlink:href=\"#m4e1f5526e8\" y=\"99.036141\"/>\n     <use style=\"fill:#1f77b4;stroke:#1f77b4;\" x=\"128.691395\" xlink:href=\"#m4e1f5526e8\" y=\"137.508524\"/>\n     <use style=\"fill:#1f77b4;stroke:#1f77b4;\" x=\"129.811438\" xlink:href=\"#m4e1f5526e8\" y=\"143.409394\"/>\n     <use style=\"fill:#1f77b4;stroke:#1f77b4;\" x=\"132.067191\" xlink:href=\"#m4e1f5526e8\" y=\"153.406944\"/>\n     <use style=\"fill:#1f77b4;stroke:#1f77b4;\" x=\"140.625275\" xlink:href=\"#m4e1f5526e8\" y=\"167.795367\"/>\n     <use style=\"fill:#1f77b4;stroke:#1f77b4;\" x=\"144.170437\" xlink:href=\"#m4e1f5526e8\" y=\"170.376822\"/>\n     <use style=\"fill:#1f77b4;stroke:#1f77b4;\" x=\"148.453882\" xlink:href=\"#m4e1f5526e8\" y=\"181.307725\"/>\n     <use style=\"fill:#1f77b4;stroke:#1f77b4;\" x=\"149.633219\" xlink:href=\"#m4e1f5526e8\" y=\"185.743832\"/>\n     <use style=\"fill:#1f77b4;stroke:#1f77b4;\" x=\"152.140259\" xlink:href=\"#m4e1f5526e8\" y=\"192.721553\"/>\n     <use style=\"fill:#1f77b4;stroke:#1f77b4;\" x=\"156.392123\" xlink:href=\"#m4e1f5526e8\" y=\"149.752444\"/>\n     <use style=\"fill:#1f77b4;stroke:#1f77b4;\" x=\"161.295438\" xlink:href=\"#m4e1f5526e8\" y=\"210.453415\"/>\n     <use style=\"fill:#1f77b4;stroke:#1f77b4;\" x=\"163.19475\" xlink:href=\"#m4e1f5526e8\" y=\"205.499257\"/>\n     <use style=\"fill:#1f77b4;stroke:#1f77b4;\" x=\"165.278125\" xlink:href=\"#m4e1f5526e8\" y=\"186.404171\"/>\n     <use style=\"fill:#1f77b4;stroke:#1f77b4;\" x=\"165.429726\" xlink:href=\"#m4e1f5526e8\" y=\"196.995657\"/>\n     <use style=\"fill:#1f77b4;stroke:#1f77b4;\" x=\"166.204951\" xlink:href=\"#m4e1f5526e8\" y=\"186.920214\"/>\n     <use style=\"fill:#1f77b4;stroke:#1f77b4;\" x=\"171.20003\" xlink:href=\"#m4e1f5526e8\" y=\"182.648852\"/>\n     <use style=\"fill:#1f77b4;stroke:#1f77b4;\" x=\"175.514727\" xlink:href=\"#m4e1f5526e8\" y=\"175.402454\"/>\n     <use style=\"fill:#1f77b4;stroke:#1f77b4;\" x=\"177.01608\" xlink:href=\"#m4e1f5526e8\" y=\"181.882873\"/>\n     <use style=\"fill:#1f77b4;stroke:#1f77b4;\" x=\"177.974674\" xlink:href=\"#m4e1f5526e8\" y=\"205.686754\"/>\n     <use style=\"fill:#1f77b4;stroke:#1f77b4;\" x=\"178.157581\" xlink:href=\"#m4e1f5526e8\" y=\"176.315393\"/>\n     <use style=\"fill:#1f77b4;stroke:#1f77b4;\" x=\"180.525268\" xlink:href=\"#m4e1f5526e8\" y=\"214.756364\"/>\n     <use style=\"fill:#1f77b4;stroke:#1f77b4;\" x=\"188.771336\" xlink:href=\"#m4e1f5526e8\" y=\"183.085134\"/>\n     <use style=\"fill:#1f77b4;stroke:#1f77b4;\" x=\"191.395294\" xlink:href=\"#m4e1f5526e8\" y=\"184.672631\"/>\n     <use style=\"fill:#1f77b4;stroke:#1f77b4;\" x=\"191.552565\" xlink:href=\"#m4e1f5526e8\" y=\"192.26454\"/>\n     <use style=\"fill:#1f77b4;stroke:#1f77b4;\" x=\"192.343374\" xlink:href=\"#m4e1f5526e8\" y=\"168.040683\"/>\n     <use style=\"fill:#1f77b4;stroke:#1f77b4;\" x=\"193.718747\" xlink:href=\"#m4e1f5526e8\" y=\"176.607494\"/>\n     <use style=\"fill:#1f77b4;stroke:#1f77b4;\" x=\"193.744807\" xlink:href=\"#m4e1f5526e8\" y=\"159.819072\"/>\n     <use style=\"fill:#1f77b4;stroke:#1f77b4;\" x=\"194.078149\" xlink:href=\"#m4e1f5526e8\" y=\"194.092264\"/>\n     <use style=\"fill:#1f77b4;stroke:#1f77b4;\" x=\"196.343051\" xlink:href=\"#m4e1f5526e8\" y=\"157.744385\"/>\n     <use style=\"fill:#1f77b4;stroke:#1f77b4;\" x=\"196.536344\" xlink:href=\"#m4e1f5526e8\" y=\"162.244463\"/>\n     <use style=\"fill:#1f77b4;stroke:#1f77b4;\" x=\"197.899015\" xlink:href=\"#m4e1f5526e8\" y=\"164.901606\"/>\n     <use style=\"fill:#1f77b4;stroke:#1f77b4;\" x=\"200.6313\" xlink:href=\"#m4e1f5526e8\" y=\"181.101562\"/>\n     <use style=\"fill:#1f77b4;stroke:#1f77b4;\" x=\"202.6519\" xlink:href=\"#m4e1f5526e8\" y=\"160.722985\"/>\n     <use style=\"fill:#1f77b4;stroke:#1f77b4;\" x=\"203.822771\" xlink:href=\"#m4e1f5526e8\" y=\"176.276613\"/>\n     <use style=\"fill:#1f77b4;stroke:#1f77b4;\" x=\"205.523318\" xlink:href=\"#m4e1f5526e8\" y=\"180.064701\"/>\n     <use style=\"fill:#1f77b4;stroke:#1f77b4;\" x=\"207.553887\" xlink:href=\"#m4e1f5526e8\" y=\"100.927435\"/>\n     <use style=\"fill:#1f77b4;stroke:#1f77b4;\" x=\"207.734537\" xlink:href=\"#m4e1f5526e8\" y=\"132.657267\"/>\n     <use style=\"fill:#1f77b4;stroke:#1f77b4;\" x=\"209.035566\" xlink:href=\"#m4e1f5526e8\" y=\"118.272494\"/>\n     <use style=\"fill:#1f77b4;stroke:#1f77b4;\" x=\"211.548109\" xlink:href=\"#m4e1f5526e8\" y=\"143.400358\"/>\n     <use style=\"fill:#1f77b4;stroke:#1f77b4;\" x=\"212.423028\" xlink:href=\"#m4e1f5526e8\" y=\"125.697005\"/>\n     <use style=\"fill:#1f77b4;stroke:#1f77b4;\" x=\"212.591934\" xlink:href=\"#m4e1f5526e8\" y=\"125.284577\"/>\n     <use style=\"fill:#1f77b4;stroke:#1f77b4;\" x=\"213.710876\" xlink:href=\"#m4e1f5526e8\" y=\"123.99107\"/>\n     <use style=\"fill:#1f77b4;stroke:#1f77b4;\" x=\"214.737165\" xlink:href=\"#m4e1f5526e8\" y=\"129.891036\"/>\n     <use style=\"fill:#1f77b4;stroke:#1f77b4;\" x=\"215.993535\" xlink:href=\"#m4e1f5526e8\" y=\"130.145507\"/>\n     <use style=\"fill:#1f77b4;stroke:#1f77b4;\" x=\"217.17003\" xlink:href=\"#m4e1f5526e8\" y=\"152.985251\"/>\n     <use style=\"fill:#1f77b4;stroke:#1f77b4;\" x=\"217.724185\" xlink:href=\"#m4e1f5526e8\" y=\"114.373542\"/>\n     <use style=\"fill:#1f77b4;stroke:#1f77b4;\" x=\"219.722733\" xlink:href=\"#m4e1f5526e8\" y=\"112.2399\"/>\n     <use style=\"fill:#1f77b4;stroke:#1f77b4;\" x=\"220.012619\" xlink:href=\"#m4e1f5526e8\" y=\"101.890664\"/>\n     <use style=\"fill:#1f77b4;stroke:#1f77b4;\" x=\"220.118039\" xlink:href=\"#m4e1f5526e8\" y=\"121.018026\"/>\n     <use style=\"fill:#1f77b4;stroke:#1f77b4;\" x=\"221.256312\" xlink:href=\"#m4e1f5526e8\" y=\"90.278327\"/>\n     <use style=\"fill:#1f77b4;stroke:#1f77b4;\" x=\"222.560716\" xlink:href=\"#m4e1f5526e8\" y=\"117.697373\"/>\n     <use style=\"fill:#1f77b4;stroke:#1f77b4;\" x=\"224.098392\" xlink:href=\"#m4e1f5526e8\" y=\"125.376612\"/>\n     <use style=\"fill:#1f77b4;stroke:#1f77b4;\" x=\"229.721486\" xlink:href=\"#m4e1f5526e8\" y=\"82.258744\"/>\n     <use style=\"fill:#1f77b4;stroke:#1f77b4;\" x=\"230.453438\" xlink:href=\"#m4e1f5526e8\" y=\"100.264876\"/>\n     <use style=\"fill:#1f77b4;stroke:#1f77b4;\" x=\"232.940052\" xlink:href=\"#m4e1f5526e8\" y=\"106.022846\"/>\n     <use style=\"fill:#1f77b4;stroke:#1f77b4;\" x=\"237.207891\" xlink:href=\"#m4e1f5526e8\" y=\"78.534734\"/>\n     <use style=\"fill:#1f77b4;stroke:#1f77b4;\" x=\"238.737501\" xlink:href=\"#m4e1f5526e8\" y=\"66.989767\"/>\n     <use style=\"fill:#1f77b4;stroke:#1f77b4;\" x=\"239.939553\" xlink:href=\"#m4e1f5526e8\" y=\"72.083641\"/>\n     <use style=\"fill:#1f77b4;stroke:#1f77b4;\" x=\"240.55591\" xlink:href=\"#m4e1f5526e8\" y=\"67.488301\"/>\n     <use style=\"fill:#1f77b4;stroke:#1f77b4;\" x=\"240.641612\" xlink:href=\"#m4e1f5526e8\" y=\"17.083636\"/>\n     <use style=\"fill:#1f77b4;stroke:#1f77b4;\" x=\"243.815159\" xlink:href=\"#m4e1f5526e8\" y=\"57.898845\"/>\n     <use style=\"fill:#1f77b4;stroke:#1f77b4;\" x=\"248.0171\" xlink:href=\"#m4e1f5526e8\" y=\"42.458481\"/>\n     <use style=\"fill:#1f77b4;stroke:#1f77b4;\" x=\"248.080053\" xlink:href=\"#m4e1f5526e8\" y=\"91.343719\"/>\n     <use style=\"fill:#1f77b4;stroke:#1f77b4;\" x=\"248.419035\" xlink:href=\"#m4e1f5526e8\" y=\"58.229456\"/>\n     <use style=\"fill:#1f77b4;stroke:#1f77b4;\" x=\"249.396369\" xlink:href=\"#m4e1f5526e8\" y=\"51.447139\"/>\n     <use style=\"fill:#1f77b4;stroke:#1f77b4;\" x=\"250.303741\" xlink:href=\"#m4e1f5526e8\" y=\"66.344166\"/>\n     <use style=\"fill:#1f77b4;stroke:#1f77b4;\" x=\"250.506227\" xlink:href=\"#m4e1f5526e8\" y=\"73.259609\"/>\n     <use style=\"fill:#1f77b4;stroke:#1f77b4;\" x=\"251.06567\" xlink:href=\"#m4e1f5526e8\" y=\"55.001127\"/>\n     <use style=\"fill:#1f77b4;stroke:#1f77b4;\" x=\"251.976694\" xlink:href=\"#m4e1f5526e8\" y=\"64.057147\"/>\n     <use style=\"fill:#1f77b4;stroke:#1f77b4;\" x=\"254.746727\" xlink:href=\"#m4e1f5526e8\" y=\"65.767492\"/>\n     <use style=\"fill:#1f77b4;stroke:#1f77b4;\" x=\"259.896364\" xlink:href=\"#m4e1f5526e8\" y=\"39.049474\"/>\n     <use style=\"fill:#1f77b4;stroke:#1f77b4;\" x=\"262.364876\" xlink:href=\"#m4e1f5526e8\" y=\"36.033621\"/>\n     <use style=\"fill:#1f77b4;stroke:#1f77b4;\" x=\"264.561225\" xlink:href=\"#m4e1f5526e8\" y=\"50.444694\"/>\n     <use style=\"fill:#1f77b4;stroke:#1f77b4;\" x=\"267.861467\" xlink:href=\"#m4e1f5526e8\" y=\"61.761543\"/>\n     <use style=\"fill:#1f77b4;stroke:#1f77b4;\" x=\"268.95271\" xlink:href=\"#m4e1f5526e8\" y=\"48.730878\"/>\n     <use style=\"fill:#1f77b4;stroke:#1f77b4;\" x=\"278.658942\" xlink:href=\"#m4e1f5526e8\" y=\"52.394929\"/>\n     <use style=\"fill:#1f77b4;stroke:#1f77b4;\" x=\"281.145779\" xlink:href=\"#m4e1f5526e8\" y=\"58.327357\"/>\n     <use style=\"fill:#1f77b4;stroke:#1f77b4;\" x=\"289.30292\" xlink:href=\"#m4e1f5526e8\" y=\"100.447923\"/>\n     <use style=\"fill:#1f77b4;stroke:#1f77b4;\" x=\"289.39326\" xlink:href=\"#m4e1f5526e8\" y=\"85.090422\"/>\n     <use style=\"fill:#1f77b4;stroke:#1f77b4;\" x=\"292.029234\" xlink:href=\"#m4e1f5526e8\" y=\"80.414805\"/>\n     <use style=\"fill:#1f77b4;stroke:#1f77b4;\" x=\"293.893364\" xlink:href=\"#m4e1f5526e8\" y=\"80.499657\"/>\n     <use style=\"fill:#1f77b4;stroke:#1f77b4;\" x=\"295.747595\" xlink:href=\"#m4e1f5526e8\" y=\"79.654288\"/>\n     <use style=\"fill:#1f77b4;stroke:#1f77b4;\" x=\"300.742073\" xlink:href=\"#m4e1f5526e8\" y=\"93.460558\"/>\n     <use style=\"fill:#1f77b4;stroke:#1f77b4;\" x=\"301.209322\" xlink:href=\"#m4e1f5526e8\" y=\"120.866567\"/>\n     <use style=\"fill:#1f77b4;stroke:#1f77b4;\" x=\"303.634859\" xlink:href=\"#m4e1f5526e8\" y=\"120.514363\"/>\n     <use style=\"fill:#1f77b4;stroke:#1f77b4;\" x=\"307.383233\" xlink:href=\"#m4e1f5526e8\" y=\"136.47396\"/>\n     <use style=\"fill:#1f77b4;stroke:#1f77b4;\" x=\"314.563135\" xlink:href=\"#m4e1f5526e8\" y=\"111.31583\"/>\n     <use style=\"fill:#1f77b4;stroke:#1f77b4;\" x=\"317.991996\" xlink:href=\"#m4e1f5526e8\" y=\"141.8221\"/>\n     <use style=\"fill:#1f77b4;stroke:#1f77b4;\" x=\"323.580202\" xlink:href=\"#m4e1f5526e8\" y=\"148.876457\"/>\n     <use style=\"fill:#1f77b4;stroke:#1f77b4;\" x=\"354.32491\" xlink:href=\"#m4e1f5526e8\" y=\"179.341769\"/>\n     <use style=\"fill:#1f77b4;stroke:#1f77b4;\" x=\"358.064631\" xlink:href=\"#m4e1f5526e8\" y=\"198.080231\"/>\n    </g>\n   </g>\n   <g id=\"patch_3\">\n    <path d=\"M 38.482813 224.64 \nL 38.482813 7.2 \n\" style=\"fill:none;stroke:#000000;stroke-linecap:square;stroke-linejoin:miter;stroke-width:0.8;\"/>\n   </g>\n   <g id=\"patch_4\">\n    <path d=\"M 373.282813 224.64 \nL 373.282813 7.2 \n\" style=\"fill:none;stroke:#000000;stroke-linecap:square;stroke-linejoin:miter;stroke-width:0.8;\"/>\n   </g>\n   <g id=\"patch_5\">\n    <path d=\"M 38.482812 224.64 \nL 373.282812 224.64 \n\" style=\"fill:none;stroke:#000000;stroke-linecap:square;stroke-linejoin:miter;stroke-width:0.8;\"/>\n   </g>\n   <g id=\"patch_6\">\n    <path d=\"M 38.482812 7.2 \nL 373.282812 7.2 \n\" style=\"fill:none;stroke:#000000;stroke-linecap:square;stroke-linejoin:miter;stroke-width:0.8;\"/>\n   </g>\n  </g>\n </g>\n <defs>\n  <clipPath id=\"pa2ef811043\">\n   <rect height=\"217.44\" width=\"334.8\" x=\"38.482813\" y=\"7.2\"/>\n  </clipPath>\n </defs>\n</svg>\n",
      "image/png": "[encoded data removed]"
     },
     "metadata": {
      "needs_background": "light"
     }
    }
   ],
   "source": [
    "# Let us generate toy data\n",
    "def get_data():\n",
    "    np.random.seed(2)\n",
    "    x = np.random.randn(100, 1)\n",
    "    x = np.sort(x, axis=0)\n",
    "\n",
    "    targets = np.sin(x * 2 * np.pi / 3)\n",
    "    targets = targets + 0.2 * np.random.randn(*targets.shape)\n",
    "\n",
    "    # Convert to PyTorch tensors\n",
    "    x = torch.FloatTensor(x)\n",
    "    targets = torch.FloatTensor(targets)\n",
    "    \n",
    "    return x, targets\n",
    "\n",
    "x, targets = get_data()\n",
    "# Plot the data\n",
    "fig, ax = plt.subplots(1)\n",
    "ax.plot(x, targets, '.')"
   ]
  },
  {
   "cell_type": "markdown",
   "metadata": {
    "deletable": false,
    "editable": false,
    "nbgrader": {
     "cell_type": "markdown",
     "checksum": "2ac336bd40ac754a5b9052b3213d18e3",
     "grade": false,
     "grade_id": "cell-76070c68689a5242",
     "locked": true,
     "schema_version": 3,
     "solution": false
    }
   },
   "source": [
    "# Multilayer perceptron (MLP) network with two hidden layers\n",
    "\n",
    "We will create a simple multilayer perceptron (MLP) network. The model has\n",
    "- input dimensionality 1\n",
    "- one hidden layer with 10 units with Tanh nonlinearity\n",
    "- one hidden layer with 11 units with Tanh nonlinearity\n",
    "- linear output layer with output dimensionality 1 and no nonlinearity.\n",
    "\n",
    "Hints:\n",
    "* You may want to look at [this tutorial](https://pytorch.org/tutorials/beginner/blitz/neural_networks_tutorial.html#sphx-glr-beginner-blitz-neural-networks-tutorial-py) for reference.\n",
    "* You can use [`nn.Linear`](https://pytorch.org/docs/stable/nn.html?highlight=nn%20linear#torch.nn.Linear)\n",
    "module to define the fully-connected layers of the MLP.\n",
    "* Simple architectures are usually created using module [`torch.nn.Sequential`](https://pytorch.org/docs/stable/nn.html#torch.nn.Sequential). You do not have to use this module in this exercise."
   ]
  },
  {
   "cell_type": "code",
   "execution_count": 66,
   "metadata": {
    "deletable": false,
    "nbgrader": {
     "cell_type": "code",
     "checksum": "5c2e73b08c5408836f1d121167189b84",
     "grade": false,
     "grade_id": "MLP",
     "locked": false,
     "schema_version": 3,
     "solution": true
    }
   },
   "outputs": [],
   "source": [
    "class MLP(nn.Module):\n",
    "    def __init__(self, n_inputs=1):\n",
    "        super(MLP, self).__init__()\n",
    "        self.inputSize = n_inputs\n",
    "        self.layers = nn.Sequential(\n",
    "            nn.Linear(self.inputSize, 10, bias=True),\n",
    "            nn.Tanh(),\n",
    "            nn.Linear(10, 11, bias=True),\n",
    "            nn.Tanh(),\n",
    "            nn.Linear(11, 1, bias=True),\n",
    "        )\n",
    "        \n",
    "        #self.hiddenLayer1 = nn.Tanh(self.inputSize, 10)\n",
    "        #self.hiddenLayer2 = nn.Tanh(self.inputSize, 11)\n",
    "        #self.relu = nn.ReLU()\n",
    "        #self.fc2 = nn.Linear(self.hidden_size, 1)\n",
    "        #self.sigmoid = nn.Sigmoid()\n",
    "\n",
    "    def forward(self, x):\n",
    "        \"\"\"\n",
    "        Args:\n",
    "          x of shape (n_samples, n_inputs): Model inputs.\n",
    "        \n",
    "        Returns:\n",
    "          y of shape (n_samples, 1): Model outputs.\n",
    "        \"\"\"\n",
    "        return self.layers(x)\n",
    "        hidden = self.fc1(x)\n",
    "        relu = self.relu(hidden)\n",
    "        output = self.fc2(relu)\n",
    "        output = self.sigmoid(output)\n",
    "        return output"
   ]
  },
  {
   "cell_type": "code",
   "execution_count": 67,
   "metadata": {
    "deletable": false,
    "editable": false,
    "nbgrader": {
     "cell_type": "code",
     "checksum": "da9986dd90e949d8b1749a4f45ef48ff",
     "grade": false,
     "grade_id": "cell-1dcdd8e8bdecf07e",
     "locked": true,
     "schema_version": 3,
     "solution": false,
     "task": false
    }
   },
   "outputs": [
    {
     "output_type": "stream",
     "name": "stdout",
     "text": [
      "Success\n"
     ]
    }
   ],
   "source": [
    "# Let us create the network and make sure it can process a random input of the right shape\n",
    "def test_MLP_shapes():\n",
    "    n_inputs = 1\n",
    "    n_samples = 10\n",
    "    net = MLP()\n",
    "    y = net(torch.randn(n_samples, n_inputs))\n",
    "    assert y.shape == torch.Size([n_samples, 1]), f\"Bad y.shape={y.shape}\"\n",
    "    print('Success')\n",
    "\n",
    "test_MLP_shapes()"
   ]
  },
  {
   "cell_type": "markdown",
   "metadata": {
    "deletable": false,
    "editable": false,
    "nbgrader": {
     "cell_type": "markdown",
     "checksum": "36c312b3a24b530bd073e6b5996cbef2",
     "grade": false,
     "grade_id": "cell-70cbd420870116d7",
     "locked": true,
     "schema_version": 3,
     "solution": false
    }
   },
   "source": [
    "## Train the MLP network\n",
    "\n",
    "### Training loop\n",
    "\n",
    "Your task is to implement the training loop.\n",
    "You may find it useful to look at [this tutorial](https://pytorch.org/tutorials/beginner/blitz/neural_networks_tutorial.html#sphx-glr-beginner-blitz-neural-networks-tutorial-py).\n",
    "Your should have the following steps:\n",
    "* Set all gradient values to zeros.\n",
    "* Calculate the output of the model for all training examples.\n",
    "* Calculate the MSE loss (see [`mse_loss`](https://pytorch.org/docs/stable/nn.functional.html?highlight=mse_loss#torch.nn.functional.mse_loss)).\n",
    "* Backpropagate the gradients: compute the gradients of the loss wrt to all the parameters of the model.\n",
    "* Update the parameters of the model using the chosen optimizer.\n",
    "\n",
    "\n",
    "Recommended hyperparameters:\n",
    "* [Adam optimizer](https://pytorch.org/docs/stable/optim.html#torch.optim.Adam) with learning rate 0.01.\n",
    "* You can process the data in the full-batch model (computing the gradients using all training data).\n",
    "* Number of iterations (parameter updates): 200."
   ]
  },
  {
   "cell_type": "code",
   "execution_count": 54,
   "metadata": {
    "deletable": false,
    "editable": false,
    "nbgrader": {
     "cell_type": "code",
     "checksum": "2093029bcb3af8e8fed294511ebf6ce7",
     "grade": false,
     "grade_id": "cell-70f3840f16dc60f4",
     "locked": true,
     "schema_version": 3,
     "solution": false,
     "task": false
    }
   },
   "outputs": [
    {
     "output_type": "execute_result",
     "data": {
      "text/plain": [
       "MLP(\n",
       "  (layers): Sequential(\n",
       "    (0): Linear(in_features=1, out_features=10, bias=True)\n",
       "    (1): Tanh()\n",
       "    (2): Linear(in_features=10, out_features=11, bias=True)\n",
       "    (3): Tanh()\n",
       "    (4): Linear(in_features=11, out_features=1, bias=True)\n",
       "  )\n",
       ")"
      ]
     },
     "metadata": {},
     "execution_count": 54
    }
   ],
   "source": [
    "# Create the model\n",
    "model = MLP()\n",
    "model.to(device)"
   ]
  },
  {
   "cell_type": "code",
   "execution_count": 71,
   "metadata": {
    "code_folding": [],
    "deletable": false,
    "nbgrader": {
     "cell_type": "code",
     "checksum": "d9024f113b9988967e9b44d29edff745",
     "grade": false,
     "grade_id": "cell-692ef1b990bd1bbc",
     "locked": false,
     "schema_version": 3,
     "solution": true
    }
   },
   "outputs": [],
   "source": [
    "# Implement the training loop here\n",
    "if not skip_training:\n",
    "    criterion = nn.MSELoss()\n",
    "    # all gradient vals to zeros?\n",
    "    model.zero_grad()\n",
    "    # Adam\n",
    "    optimizer = torch.optim.Adam(model.parameters(), lr=0.01)\n",
    "\n",
    "    model.train()\n",
    "    loops = 200\n",
    "    for i in range(loops):\n",
    "        # in your training loop:\n",
    "        optimizer.zero_grad()   # zero the gradient buffers\n",
    "        output = model(x) # calucalte output for all training...\n",
    "        loss = criterion(output, targets) # calculate MSE loss\n",
    "        loss.backward() # Backpropogate the gradients\n",
    "        optimizer.step() # Update parameters to model\n",
    "    \n",
    "    model.eval()"
   ]
  },
  {
   "cell_type": "code",
   "execution_count": 72,
   "metadata": {},
   "outputs": [
    {
     "output_type": "stream",
     "name": "stdout",
     "text": [
      "Model saved to 2_mlp.pth.\n"
     ]
    }
   ],
   "source": [
    "# Save the model to disk (the pth-files will be submitted automatically together with your notebook)\n",
    "# Set confirm=False if you do not want to be asked for confirmation before saving.\n",
    "if not skip_training:\n",
    "    tools.save_model(model, '2_mlp.pth', confirm=True)"
   ]
  },
  {
   "cell_type": "code",
   "execution_count": 73,
   "metadata": {
    "deletable": false,
    "editable": false,
    "nbgrader": {
     "cell_type": "code",
     "checksum": "a479b450c77592013bd17b42104db2e3",
     "grade": false,
     "grade_id": "cell-1bb60a1b8347c2fd",
     "locked": true,
     "schema_version": 3,
     "solution": false,
     "task": false
    }
   },
   "outputs": [],
   "source": [
    "if skip_training:\n",
    "    model = MLP()\n",
    "    tools.load_model(model, '2_mlp.pth', device)"
   ]
  },
  {
   "cell_type": "code",
   "execution_count": 74,
   "metadata": {
    "deletable": false,
    "editable": false,
    "nbgrader": {
     "cell_type": "code",
     "checksum": "4afcb8c53237daf157efc9a2e2861672",
     "grade": false,
     "grade_id": "cell-6cc93c7d4b832ba6",
     "locked": true,
     "schema_version": 3,
     "solution": false,
     "task": false
    }
   },
   "outputs": [
    {
     "output_type": "display_data",
     "data": {
      "text/plain": "<Figure size 432x288 with 1 Axes>",
      "image/svg+xml": "<?xml version=\"1.0\" encoding=\"utf-8\" standalone=\"no\"?>\n<!DOCTYPE svg PUBLIC \"-//W3C//DTD SVG 1.1//EN\"\n  \"http://www.w3.org/Graphics/SVG/1.1/DTD/svg11.dtd\">\n<!-- Created with matplotlib (https://matplotlib.org/) -->\n<svg height=\"248.518125pt\" version=\"1.1\" viewBox=\"0 0 380.482812 248.518125\" width=\"380.482812pt\" xmlns=\"http://www.w3.org/2000/svg\" xmlns:xlink=\"http://www.w3.org/1999/xlink\">\n <metadata>\n  <rdf:RDF xmlns:cc=\"http://creativecommons.org/ns#\" xmlns:dc=\"http://purl.org/dc/elements/1.1/\" xmlns:rdf=\"http://www.w3.org/1999/02/22-rdf-syntax-ns#\">\n   <cc:Work>\n    <dc:type rdf:resource=\"http://purl.org/dc/dcmitype/StillImage\"/>\n    <dc:date>2021-03-09T22:03:56.257709</dc:date>\n    <dc:format>image/svg+xml</dc:format>\n    <dc:creator>\n     <cc:Agent>\n      <dc:title>Matplotlib v3.3.4, https://matplotlib.org/</dc:title>\n     </cc:Agent>\n    </dc:creator>\n   </cc:Work>\n  </rdf:RDF>\n </metadata>\n <defs>\n  <style type=\"text/css\">*{stroke-linecap:butt;stroke-linejoin:round;}</style>\n </defs>\n <g id=\"figure_1\">\n  <g id=\"patch_1\">\n   <path d=\"M -0 248.518125 \nL 380.482812 248.518125 \nL 380.482812 0 \nL -0 0 \nz\n\" style=\"fill:none;\"/>\n  </g>\n  <g id=\"axes_1\">\n   <g id=\"patch_2\">\n    <path d=\"M 38.482813 224.64 \nL 373.282813 224.64 \nL 373.282813 7.2 \nL 38.482813 7.2 \nz\n\" style=\"fill:#ffffff;\"/>\n   </g>\n   <g id=\"matplotlib.axis_1\">\n    <g id=\"xtick_1\">\n     <g id=\"line2d_1\">\n      <path clip-path=\"url(#p59663d4504)\" d=\"M 94.235382 224.64 \nL 94.235382 7.2 \n\" style=\"fill:none;stroke:#b0b0b0;stroke-linecap:square;stroke-width:0.8;\"/>\n     </g>\n     <g id=\"line2d_2\">\n      <defs>\n       <path d=\"M 0 0 \nL 0 3.5 \n\" id=\"m390865a53e\" style=\"stroke:#000000;stroke-width:0.8;\"/>\n      </defs>\n      <g>\n       <use style=\"stroke:#000000;stroke-width:0.8;\" x=\"94.235382\" xlink:href=\"#m390865a53e\" y=\"224.64\"/>\n      </g>\n     </g>\n     <g id=\"text_1\">\n      <!-- −2 -->\n      <g transform=\"translate(86.864289 239.238437)scale(0.1 -0.1)\">\n       <defs>\n        <path d=\"M 10.59375 35.5 \nL 73.1875 35.5 \nL 73.1875 27.203125 \nL 10.59375 27.203125 \nz\n\" id=\"DejaVuSans-8722\"/>\n        <path d=\"M 19.1875 8.296875 \nL 53.609375 8.296875 \nL 53.609375 0 \nL 7.328125 0 \nL 7.328125 8.296875 \nQ 12.9375 14.109375 22.625 23.890625 \nQ 32.328125 33.6875 34.8125 36.53125 \nQ 39.546875 41.84375 41.421875 45.53125 \nQ 43.3125 49.21875 43.3125 52.78125 \nQ 43.3125 58.59375 39.234375 62.25 \nQ 35.15625 65.921875 28.609375 65.921875 \nQ 23.96875 65.921875 18.8125 64.3125 \nQ 13.671875 62.703125 7.8125 59.421875 \nL 7.8125 69.390625 \nQ 13.765625 71.78125 18.9375 73 \nQ 24.125 74.21875 28.421875 74.21875 \nQ 39.75 74.21875 46.484375 68.546875 \nQ 53.21875 62.890625 53.21875 53.421875 \nQ 53.21875 48.921875 51.53125 44.890625 \nQ 49.859375 40.875 45.40625 35.40625 \nQ 44.1875 33.984375 37.640625 27.21875 \nQ 31.109375 20.453125 19.1875 8.296875 \nz\n\" id=\"DejaVuSans-50\"/>\n       </defs>\n       <use xlink:href=\"#DejaVuSans-8722\"/>\n       <use x=\"83.789062\" xlink:href=\"#DejaVuSans-50\"/>\n      </g>\n     </g>\n    </g>\n    <g id=\"xtick_2\">\n     <g id=\"line2d_3\">\n      <path clip-path=\"url(#p59663d4504)\" d=\"M 155.702406 224.64 \nL 155.702406 7.2 \n\" style=\"fill:none;stroke:#b0b0b0;stroke-linecap:square;stroke-width:0.8;\"/>\n     </g>\n     <g id=\"line2d_4\">\n      <g>\n       <use style=\"stroke:#000000;stroke-width:0.8;\" x=\"155.702406\" xlink:href=\"#m390865a53e\" y=\"224.64\"/>\n      </g>\n     </g>\n     <g id=\"text_2\">\n      <!-- −1 -->\n      <g transform=\"translate(148.331312 239.238437)scale(0.1 -0.1)\">\n       <defs>\n        <path d=\"M 12.40625 8.296875 \nL 28.515625 8.296875 \nL 28.515625 63.921875 \nL 10.984375 60.40625 \nL 10.984375 69.390625 \nL 28.421875 72.90625 \nL 38.28125 72.90625 \nL 38.28125 8.296875 \nL 54.390625 8.296875 \nL 54.390625 0 \nL 12.40625 0 \nz\n\" id=\"DejaVuSans-49\"/>\n       </defs>\n       <use xlink:href=\"#DejaVuSans-8722\"/>\n       <use x=\"83.789062\" xlink:href=\"#DejaVuSans-49\"/>\n      </g>\n     </g>\n    </g>\n    <g id=\"xtick_3\">\n     <g id=\"line2d_5\">\n      <path clip-path=\"url(#p59663d4504)\" d=\"M 217.16943 224.64 \nL 217.16943 7.2 \n\" style=\"fill:none;stroke:#b0b0b0;stroke-linecap:square;stroke-width:0.8;\"/>\n     </g>\n     <g id=\"line2d_6\">\n      <g>\n       <use style=\"stroke:#000000;stroke-width:0.8;\" x=\"217.16943\" xlink:href=\"#m390865a53e\" y=\"224.64\"/>\n      </g>\n     </g>\n     <g id=\"text_3\">\n      <!-- 0 -->\n      <g transform=\"translate(213.98818 239.238437)scale(0.1 -0.1)\">\n       <defs>\n        <path d=\"M 31.78125 66.40625 \nQ 24.171875 66.40625 20.328125 58.90625 \nQ 16.5 51.421875 16.5 36.375 \nQ 16.5 21.390625 20.328125 13.890625 \nQ 24.171875 6.390625 31.78125 6.390625 \nQ 39.453125 6.390625 43.28125 13.890625 \nQ 47.125 21.390625 47.125 36.375 \nQ 47.125 51.421875 43.28125 58.90625 \nQ 39.453125 66.40625 31.78125 66.40625 \nz\nM 31.78125 74.21875 \nQ 44.046875 74.21875 50.515625 64.515625 \nQ 56.984375 54.828125 56.984375 36.375 \nQ 56.984375 17.96875 50.515625 8.265625 \nQ 44.046875 -1.421875 31.78125 -1.421875 \nQ 19.53125 -1.421875 13.0625 8.265625 \nQ 6.59375 17.96875 6.59375 36.375 \nQ 6.59375 54.828125 13.0625 64.515625 \nQ 19.53125 74.21875 31.78125 74.21875 \nz\n\" id=\"DejaVuSans-48\"/>\n       </defs>\n       <use xlink:href=\"#DejaVuSans-48\"/>\n      </g>\n     </g>\n    </g>\n    <g id=\"xtick_4\">\n     <g id=\"line2d_7\">\n      <path clip-path=\"url(#p59663d4504)\" d=\"M 278.636454 224.64 \nL 278.636454 7.2 \n\" style=\"fill:none;stroke:#b0b0b0;stroke-linecap:square;stroke-width:0.8;\"/>\n     </g>\n     <g id=\"line2d_8\">\n      <g>\n       <use style=\"stroke:#000000;stroke-width:0.8;\" x=\"278.636454\" xlink:href=\"#m390865a53e\" y=\"224.64\"/>\n      </g>\n     </g>\n     <g id=\"text_4\">\n      <!-- 1 -->\n      <g transform=\"translate(275.455204 239.238437)scale(0.1 -0.1)\">\n       <use xlink:href=\"#DejaVuSans-49\"/>\n      </g>\n     </g>\n    </g>\n    <g id=\"xtick_5\">\n     <g id=\"line2d_9\">\n      <path clip-path=\"url(#p59663d4504)\" d=\"M 340.103477 224.64 \nL 340.103477 7.2 \n\" style=\"fill:none;stroke:#b0b0b0;stroke-linecap:square;stroke-width:0.8;\"/>\n     </g>\n     <g id=\"line2d_10\">\n      <g>\n       <use style=\"stroke:#000000;stroke-width:0.8;\" x=\"340.103477\" xlink:href=\"#m390865a53e\" y=\"224.64\"/>\n      </g>\n     </g>\n     <g id=\"text_5\">\n      <!-- 2 -->\n      <g transform=\"translate(336.922227 239.238437)scale(0.1 -0.1)\">\n       <use xlink:href=\"#DejaVuSans-50\"/>\n      </g>\n     </g>\n    </g>\n   </g>\n   <g id=\"matplotlib.axis_2\">\n    <g id=\"ytick_1\">\n     <g id=\"line2d_11\">\n      <path clip-path=\"url(#p59663d4504)\" d=\"M 38.482813 193.772803 \nL 373.282813 193.772803 \n\" style=\"fill:none;stroke:#b0b0b0;stroke-linecap:square;stroke-width:0.8;\"/>\n     </g>\n     <g id=\"line2d_12\">\n      <defs>\n       <path d=\"M 0 0 \nL -3.5 0 \n\" id=\"m7355081182\" style=\"stroke:#000000;stroke-width:0.8;\"/>\n      </defs>\n      <g>\n       <use style=\"stroke:#000000;stroke-width:0.8;\" x=\"38.482813\" xlink:href=\"#m7355081182\" y=\"193.772803\"/>\n      </g>\n     </g>\n     <g id=\"text_6\">\n      <!-- −1.0 -->\n      <g transform=\"translate(7.2 197.572022)scale(0.1 -0.1)\">\n       <defs>\n        <path d=\"M 10.6875 12.40625 \nL 21 12.40625 \nL 21 0 \nL 10.6875 0 \nz\n\" id=\"DejaVuSans-46\"/>\n       </defs>\n       <use xlink:href=\"#DejaVuSans-8722\"/>\n       <use x=\"83.789062\" xlink:href=\"#DejaVuSans-49\"/>\n       <use x=\"147.412109\" xlink:href=\"#DejaVuSans-46\"/>\n       <use x=\"179.199219\" xlink:href=\"#DejaVuSans-48\"/>\n      </g>\n     </g>\n    </g>\n    <g id=\"ytick_2\">\n     <g id=\"line2d_13\">\n      <path clip-path=\"url(#p59663d4504)\" d=\"M 38.482813 158.976956 \nL 373.282813 158.976956 \n\" style=\"fill:none;stroke:#b0b0b0;stroke-linecap:square;stroke-width:0.8;\"/>\n     </g>\n     <g id=\"line2d_14\">\n      <g>\n       <use style=\"stroke:#000000;stroke-width:0.8;\" x=\"38.482813\" xlink:href=\"#m7355081182\" y=\"158.976956\"/>\n      </g>\n     </g>\n     <g id=\"text_7\">\n      <!-- −0.5 -->\n      <g transform=\"translate(7.2 162.776174)scale(0.1 -0.1)\">\n       <defs>\n        <path d=\"M 10.796875 72.90625 \nL 49.515625 72.90625 \nL 49.515625 64.59375 \nL 19.828125 64.59375 \nL 19.828125 46.734375 \nQ 21.96875 47.46875 24.109375 47.828125 \nQ 26.265625 48.1875 28.421875 48.1875 \nQ 40.625 48.1875 47.75 41.5 \nQ 54.890625 34.8125 54.890625 23.390625 \nQ 54.890625 11.625 47.5625 5.09375 \nQ 40.234375 -1.421875 26.90625 -1.421875 \nQ 22.3125 -1.421875 17.546875 -0.640625 \nQ 12.796875 0.140625 7.71875 1.703125 \nL 7.71875 11.625 \nQ 12.109375 9.234375 16.796875 8.0625 \nQ 21.484375 6.890625 26.703125 6.890625 \nQ 35.15625 6.890625 40.078125 11.328125 \nQ 45.015625 15.765625 45.015625 23.390625 \nQ 45.015625 31 40.078125 35.4375 \nQ 35.15625 39.890625 26.703125 39.890625 \nQ 22.75 39.890625 18.8125 39.015625 \nQ 14.890625 38.140625 10.796875 36.28125 \nz\n\" id=\"DejaVuSans-53\"/>\n       </defs>\n       <use xlink:href=\"#DejaVuSans-8722\"/>\n       <use x=\"83.789062\" xlink:href=\"#DejaVuSans-48\"/>\n       <use x=\"147.412109\" xlink:href=\"#DejaVuSans-46\"/>\n       <use x=\"179.199219\" xlink:href=\"#DejaVuSans-53\"/>\n      </g>\n     </g>\n    </g>\n    <g id=\"ytick_3\">\n     <g id=\"line2d_15\">\n      <path clip-path=\"url(#p59663d4504)\" d=\"M 38.482813 124.181108 \nL 373.282813 124.181108 \n\" style=\"fill:none;stroke:#b0b0b0;stroke-linecap:square;stroke-width:0.8;\"/>\n     </g>\n     <g id=\"line2d_16\">\n      <g>\n       <use style=\"stroke:#000000;stroke-width:0.8;\" x=\"38.482813\" xlink:href=\"#m7355081182\" y=\"124.181108\"/>\n      </g>\n     </g>\n     <g id=\"text_8\">\n      <!-- 0.0 -->\n      <g transform=\"translate(15.579688 127.980327)scale(0.1 -0.1)\">\n       <use xlink:href=\"#DejaVuSans-48\"/>\n       <use x=\"63.623047\" xlink:href=\"#DejaVuSans-46\"/>\n       <use x=\"95.410156\" xlink:href=\"#DejaVuSans-48\"/>\n      </g>\n     </g>\n    </g>\n    <g id=\"ytick_4\">\n     <g id=\"line2d_17\">\n      <path clip-path=\"url(#p59663d4504)\" d=\"M 38.482813 89.385261 \nL 373.282813 89.385261 \n\" style=\"fill:none;stroke:#b0b0b0;stroke-linecap:square;stroke-width:0.8;\"/>\n     </g>\n     <g id=\"line2d_18\">\n      <g>\n       <use style=\"stroke:#000000;stroke-width:0.8;\" x=\"38.482813\" xlink:href=\"#m7355081182\" y=\"89.385261\"/>\n      </g>\n     </g>\n     <g id=\"text_9\">\n      <!-- 0.5 -->\n      <g transform=\"translate(15.579688 93.18448)scale(0.1 -0.1)\">\n       <use xlink:href=\"#DejaVuSans-48\"/>\n       <use x=\"63.623047\" xlink:href=\"#DejaVuSans-46\"/>\n       <use x=\"95.410156\" xlink:href=\"#DejaVuSans-53\"/>\n      </g>\n     </g>\n    </g>\n    <g id=\"ytick_5\">\n     <g id=\"line2d_19\">\n      <path clip-path=\"url(#p59663d4504)\" d=\"M 38.482813 54.589414 \nL 373.282813 54.589414 \n\" style=\"fill:none;stroke:#b0b0b0;stroke-linecap:square;stroke-width:0.8;\"/>\n     </g>\n     <g id=\"line2d_20\">\n      <g>\n       <use style=\"stroke:#000000;stroke-width:0.8;\" x=\"38.482813\" xlink:href=\"#m7355081182\" y=\"54.589414\"/>\n      </g>\n     </g>\n     <g id=\"text_10\">\n      <!-- 1.0 -->\n      <g transform=\"translate(15.579688 58.388633)scale(0.1 -0.1)\">\n       <use xlink:href=\"#DejaVuSans-49\"/>\n       <use x=\"63.623047\" xlink:href=\"#DejaVuSans-46\"/>\n       <use x=\"95.410156\" xlink:href=\"#DejaVuSans-48\"/>\n      </g>\n     </g>\n    </g>\n    <g id=\"ytick_6\">\n     <g id=\"line2d_21\">\n      <path clip-path=\"url(#p59663d4504)\" d=\"M 38.482813 19.793567 \nL 373.282813 19.793567 \n\" style=\"fill:none;stroke:#b0b0b0;stroke-linecap:square;stroke-width:0.8;\"/>\n     </g>\n     <g id=\"line2d_22\">\n      <g>\n       <use style=\"stroke:#000000;stroke-width:0.8;\" x=\"38.482813\" xlink:href=\"#m7355081182\" y=\"19.793567\"/>\n      </g>\n     </g>\n     <g id=\"text_11\">\n      <!-- 1.5 -->\n      <g transform=\"translate(15.579688 23.592786)scale(0.1 -0.1)\">\n       <use xlink:href=\"#DejaVuSans-49\"/>\n       <use x=\"63.623047\" xlink:href=\"#DejaVuSans-46\"/>\n       <use x=\"95.410156\" xlink:href=\"#DejaVuSans-53\"/>\n      </g>\n     </g>\n    </g>\n   </g>\n   <g id=\"line2d_23\">\n    <defs>\n     <path d=\"M 0 1.5 \nC 0.397805 1.5 0.77937 1.341951 1.06066 1.06066 \nC 1.341951 0.77937 1.5 0.397805 1.5 0 \nC 1.5 -0.397805 1.341951 -0.77937 1.06066 -1.06066 \nC 0.77937 -1.341951 0.397805 -1.5 0 -1.5 \nC -0.397805 -1.5 -0.77937 -1.341951 -1.06066 -1.06066 \nC -1.341951 -0.77937 -1.5 -0.397805 -1.5 0 \nC -1.5 0.397805 -1.341951 0.77937 -1.06066 1.06066 \nC -0.77937 1.341951 -0.397805 1.5 0 1.5 \nz\n\" id=\"mc6fff1182d\" style=\"stroke:#1f77b4;\"/>\n    </defs>\n    <g clip-path=\"url(#p59663d4504)\">\n     <use style=\"fill:#1f77b4;stroke:#1f77b4;\" x=\"53.700994\" xlink:href=\"#mc6fff1182d\" y=\"62.481298\"/>\n     <use style=\"fill:#1f77b4;stroke:#1f77b4;\" x=\"67.511519\" xlink:href=\"#mc6fff1182d\" y=\"54.361847\"/>\n     <use style=\"fill:#1f77b4;stroke:#1f77b4;\" x=\"73.11512\" xlink:href=\"#mc6fff1182d\" y=\"71.69376\"/>\n     <use style=\"fill:#1f77b4;stroke:#1f77b4;\" x=\"85.863811\" xlink:href=\"#mc6fff1182d\" y=\"50.528923\"/>\n     <use style=\"fill:#1f77b4;stroke:#1f77b4;\" x=\"91.756847\" xlink:href=\"#mc6fff1182d\" y=\"65.425005\"/>\n     <use style=\"fill:#1f77b4;stroke:#1f77b4;\" x=\"92.178292\" xlink:href=\"#mc6fff1182d\" y=\"25.640986\"/>\n     <use style=\"fill:#1f77b4;stroke:#1f77b4;\" x=\"102.343459\" xlink:href=\"#mc6fff1182d\" y=\"50.144787\"/>\n     <use style=\"fill:#1f77b4;stroke:#1f77b4;\" x=\"102.926056\" xlink:href=\"#mc6fff1182d\" y=\"70.556278\"/>\n     <use style=\"fill:#1f77b4;stroke:#1f77b4;\" x=\"106.932283\" xlink:href=\"#mc6fff1182d\" y=\"94.064847\"/>\n     <use style=\"fill:#1f77b4;stroke:#1f77b4;\" x=\"110.342232\" xlink:href=\"#mc6fff1182d\" y=\"99.036141\"/>\n     <use style=\"fill:#1f77b4;stroke:#1f77b4;\" x=\"128.691395\" xlink:href=\"#mc6fff1182d\" y=\"137.508524\"/>\n     <use style=\"fill:#1f77b4;stroke:#1f77b4;\" x=\"129.811438\" xlink:href=\"#mc6fff1182d\" y=\"143.409394\"/>\n     <use style=\"fill:#1f77b4;stroke:#1f77b4;\" x=\"132.067191\" xlink:href=\"#mc6fff1182d\" y=\"153.406944\"/>\n     <use style=\"fill:#1f77b4;stroke:#1f77b4;\" x=\"140.625275\" xlink:href=\"#mc6fff1182d\" y=\"167.795367\"/>\n     <use style=\"fill:#1f77b4;stroke:#1f77b4;\" x=\"144.170437\" xlink:href=\"#mc6fff1182d\" y=\"170.376822\"/>\n     <use style=\"fill:#1f77b4;stroke:#1f77b4;\" x=\"148.453882\" xlink:href=\"#mc6fff1182d\" y=\"181.307725\"/>\n     <use style=\"fill:#1f77b4;stroke:#1f77b4;\" x=\"149.633219\" xlink:href=\"#mc6fff1182d\" y=\"185.743832\"/>\n     <use style=\"fill:#1f77b4;stroke:#1f77b4;\" x=\"152.140259\" xlink:href=\"#mc6fff1182d\" y=\"192.721553\"/>\n     <use style=\"fill:#1f77b4;stroke:#1f77b4;\" x=\"156.392123\" xlink:href=\"#mc6fff1182d\" y=\"149.752444\"/>\n     <use style=\"fill:#1f77b4;stroke:#1f77b4;\" x=\"161.295438\" xlink:href=\"#mc6fff1182d\" y=\"210.453415\"/>\n     <use style=\"fill:#1f77b4;stroke:#1f77b4;\" x=\"163.19475\" xlink:href=\"#mc6fff1182d\" y=\"205.499257\"/>\n     <use style=\"fill:#1f77b4;stroke:#1f77b4;\" x=\"165.278125\" xlink:href=\"#mc6fff1182d\" y=\"186.404171\"/>\n     <use style=\"fill:#1f77b4;stroke:#1f77b4;\" x=\"165.429726\" xlink:href=\"#mc6fff1182d\" y=\"196.995657\"/>\n     <use style=\"fill:#1f77b4;stroke:#1f77b4;\" x=\"166.204951\" xlink:href=\"#mc6fff1182d\" y=\"186.920214\"/>\n     <use style=\"fill:#1f77b4;stroke:#1f77b4;\" x=\"171.20003\" xlink:href=\"#mc6fff1182d\" y=\"182.648852\"/>\n     <use style=\"fill:#1f77b4;stroke:#1f77b4;\" x=\"175.514727\" xlink:href=\"#mc6fff1182d\" y=\"175.402454\"/>\n     <use style=\"fill:#1f77b4;stroke:#1f77b4;\" x=\"177.01608\" xlink:href=\"#mc6fff1182d\" y=\"181.882873\"/>\n     <use style=\"fill:#1f77b4;stroke:#1f77b4;\" x=\"177.974674\" xlink:href=\"#mc6fff1182d\" y=\"205.686754\"/>\n     <use style=\"fill:#1f77b4;stroke:#1f77b4;\" x=\"178.157581\" xlink:href=\"#mc6fff1182d\" y=\"176.315393\"/>\n     <use style=\"fill:#1f77b4;stroke:#1f77b4;\" x=\"180.525268\" xlink:href=\"#mc6fff1182d\" y=\"214.756364\"/>\n     <use style=\"fill:#1f77b4;stroke:#1f77b4;\" x=\"188.771336\" xlink:href=\"#mc6fff1182d\" y=\"183.085134\"/>\n     <use style=\"fill:#1f77b4;stroke:#1f77b4;\" x=\"191.395294\" xlink:href=\"#mc6fff1182d\" y=\"184.672631\"/>\n     <use style=\"fill:#1f77b4;stroke:#1f77b4;\" x=\"191.552565\" xlink:href=\"#mc6fff1182d\" y=\"192.26454\"/>\n     <use style=\"fill:#1f77b4;stroke:#1f77b4;\" x=\"192.343374\" xlink:href=\"#mc6fff1182d\" y=\"168.040683\"/>\n     <use style=\"fill:#1f77b4;stroke:#1f77b4;\" x=\"193.718747\" xlink:href=\"#mc6fff1182d\" y=\"176.607494\"/>\n     <use style=\"fill:#1f77b4;stroke:#1f77b4;\" x=\"193.744807\" xlink:href=\"#mc6fff1182d\" y=\"159.819072\"/>\n     <use style=\"fill:#1f77b4;stroke:#1f77b4;\" x=\"194.078149\" xlink:href=\"#mc6fff1182d\" y=\"194.092264\"/>\n     <use style=\"fill:#1f77b4;stroke:#1f77b4;\" x=\"196.343051\" xlink:href=\"#mc6fff1182d\" y=\"157.744385\"/>\n     <use style=\"fill:#1f77b4;stroke:#1f77b4;\" x=\"196.536344\" xlink:href=\"#mc6fff1182d\" y=\"162.244463\"/>\n     <use style=\"fill:#1f77b4;stroke:#1f77b4;\" x=\"197.899015\" xlink:href=\"#mc6fff1182d\" y=\"164.901606\"/>\n     <use style=\"fill:#1f77b4;stroke:#1f77b4;\" x=\"200.6313\" xlink:href=\"#mc6fff1182d\" y=\"181.101562\"/>\n     <use style=\"fill:#1f77b4;stroke:#1f77b4;\" x=\"202.6519\" xlink:href=\"#mc6fff1182d\" y=\"160.722985\"/>\n     <use style=\"fill:#1f77b4;stroke:#1f77b4;\" x=\"203.822771\" xlink:href=\"#mc6fff1182d\" y=\"176.276613\"/>\n     <use style=\"fill:#1f77b4;stroke:#1f77b4;\" x=\"205.523318\" xlink:href=\"#mc6fff1182d\" y=\"180.064701\"/>\n     <use style=\"fill:#1f77b4;stroke:#1f77b4;\" x=\"207.553887\" xlink:href=\"#mc6fff1182d\" y=\"100.927435\"/>\n     <use style=\"fill:#1f77b4;stroke:#1f77b4;\" x=\"207.734537\" xlink:href=\"#mc6fff1182d\" y=\"132.657267\"/>\n     <use style=\"fill:#1f77b4;stroke:#1f77b4;\" x=\"209.035566\" xlink:href=\"#mc6fff1182d\" y=\"118.272494\"/>\n     <use style=\"fill:#1f77b4;stroke:#1f77b4;\" x=\"211.548109\" xlink:href=\"#mc6fff1182d\" y=\"143.400358\"/>\n     <use style=\"fill:#1f77b4;stroke:#1f77b4;\" x=\"212.423028\" xlink:href=\"#mc6fff1182d\" y=\"125.697005\"/>\n     <use style=\"fill:#1f77b4;stroke:#1f77b4;\" x=\"212.591934\" xlink:href=\"#mc6fff1182d\" y=\"125.284577\"/>\n     <use style=\"fill:#1f77b4;stroke:#1f77b4;\" x=\"213.710876\" xlink:href=\"#mc6fff1182d\" y=\"123.99107\"/>\n     <use style=\"fill:#1f77b4;stroke:#1f77b4;\" x=\"214.737165\" xlink:href=\"#mc6fff1182d\" y=\"129.891036\"/>\n     <use style=\"fill:#1f77b4;stroke:#1f77b4;\" x=\"215.993535\" xlink:href=\"#mc6fff1182d\" y=\"130.145507\"/>\n     <use style=\"fill:#1f77b4;stroke:#1f77b4;\" x=\"217.17003\" xlink:href=\"#mc6fff1182d\" y=\"152.985251\"/>\n     <use style=\"fill:#1f77b4;stroke:#1f77b4;\" x=\"217.724185\" xlink:href=\"#mc6fff1182d\" y=\"114.373542\"/>\n     <use style=\"fill:#1f77b4;stroke:#1f77b4;\" x=\"219.722733\" xlink:href=\"#mc6fff1182d\" y=\"112.2399\"/>\n     <use style=\"fill:#1f77b4;stroke:#1f77b4;\" x=\"220.012619\" xlink:href=\"#mc6fff1182d\" y=\"101.890664\"/>\n     <use style=\"fill:#1f77b4;stroke:#1f77b4;\" x=\"220.118039\" xlink:href=\"#mc6fff1182d\" y=\"121.018026\"/>\n     <use style=\"fill:#1f77b4;stroke:#1f77b4;\" x=\"221.256312\" xlink:href=\"#mc6fff1182d\" y=\"90.278327\"/>\n     <use style=\"fill:#1f77b4;stroke:#1f77b4;\" x=\"222.560716\" xlink:href=\"#mc6fff1182d\" y=\"117.697373\"/>\n     <use style=\"fill:#1f77b4;stroke:#1f77b4;\" x=\"224.098392\" xlink:href=\"#mc6fff1182d\" y=\"125.376612\"/>\n     <use style=\"fill:#1f77b4;stroke:#1f77b4;\" x=\"229.721486\" xlink:href=\"#mc6fff1182d\" y=\"82.258744\"/>\n     <use style=\"fill:#1f77b4;stroke:#1f77b4;\" x=\"230.453438\" xlink:href=\"#mc6fff1182d\" y=\"100.264876\"/>\n     <use style=\"fill:#1f77b4;stroke:#1f77b4;\" x=\"232.940052\" xlink:href=\"#mc6fff1182d\" y=\"106.022846\"/>\n     <use style=\"fill:#1f77b4;stroke:#1f77b4;\" x=\"237.207891\" xlink:href=\"#mc6fff1182d\" y=\"78.534734\"/>\n     <use style=\"fill:#1f77b4;stroke:#1f77b4;\" x=\"238.737501\" xlink:href=\"#mc6fff1182d\" y=\"66.989767\"/>\n     <use style=\"fill:#1f77b4;stroke:#1f77b4;\" x=\"239.939553\" xlink:href=\"#mc6fff1182d\" y=\"72.083641\"/>\n     <use style=\"fill:#1f77b4;stroke:#1f77b4;\" x=\"240.55591\" xlink:href=\"#mc6fff1182d\" y=\"67.488301\"/>\n     <use style=\"fill:#1f77b4;stroke:#1f77b4;\" x=\"240.641612\" xlink:href=\"#mc6fff1182d\" y=\"17.083636\"/>\n     <use style=\"fill:#1f77b4;stroke:#1f77b4;\" x=\"243.815159\" xlink:href=\"#mc6fff1182d\" y=\"57.898845\"/>\n     <use style=\"fill:#1f77b4;stroke:#1f77b4;\" x=\"248.0171\" xlink:href=\"#mc6fff1182d\" y=\"42.458481\"/>\n     <use style=\"fill:#1f77b4;stroke:#1f77b4;\" x=\"248.080053\" xlink:href=\"#mc6fff1182d\" y=\"91.343719\"/>\n     <use style=\"fill:#1f77b4;stroke:#1f77b4;\" x=\"248.419035\" xlink:href=\"#mc6fff1182d\" y=\"58.229456\"/>\n     <use style=\"fill:#1f77b4;stroke:#1f77b4;\" x=\"249.396369\" xlink:href=\"#mc6fff1182d\" y=\"51.447139\"/>\n     <use style=\"fill:#1f77b4;stroke:#1f77b4;\" x=\"250.303741\" xlink:href=\"#mc6fff1182d\" y=\"66.344166\"/>\n     <use style=\"fill:#1f77b4;stroke:#1f77b4;\" x=\"250.506227\" xlink:href=\"#mc6fff1182d\" y=\"73.259609\"/>\n     <use style=\"fill:#1f77b4;stroke:#1f77b4;\" x=\"251.06567\" xlink:href=\"#mc6fff1182d\" y=\"55.001127\"/>\n     <use style=\"fill:#1f77b4;stroke:#1f77b4;\" x=\"251.976694\" xlink:href=\"#mc6fff1182d\" y=\"64.057147\"/>\n     <use style=\"fill:#1f77b4;stroke:#1f77b4;\" x=\"254.746727\" xlink:href=\"#mc6fff1182d\" y=\"65.767492\"/>\n     <use style=\"fill:#1f77b4;stroke:#1f77b4;\" x=\"259.896364\" xlink:href=\"#mc6fff1182d\" y=\"39.049474\"/>\n     <use style=\"fill:#1f77b4;stroke:#1f77b4;\" x=\"262.364876\" xlink:href=\"#mc6fff1182d\" y=\"36.033621\"/>\n     <use style=\"fill:#1f77b4;stroke:#1f77b4;\" x=\"264.561225\" xlink:href=\"#mc6fff1182d\" y=\"50.444694\"/>\n     <use style=\"fill:#1f77b4;stroke:#1f77b4;\" x=\"267.861467\" xlink:href=\"#mc6fff1182d\" y=\"61.761543\"/>\n     <use style=\"fill:#1f77b4;stroke:#1f77b4;\" x=\"268.95271\" xlink:href=\"#mc6fff1182d\" y=\"48.730878\"/>\n     <use style=\"fill:#1f77b4;stroke:#1f77b4;\" x=\"278.658942\" xlink:href=\"#mc6fff1182d\" y=\"52.394929\"/>\n     <use style=\"fill:#1f77b4;stroke:#1f77b4;\" x=\"281.145779\" xlink:href=\"#mc6fff1182d\" y=\"58.327357\"/>\n     <use style=\"fill:#1f77b4;stroke:#1f77b4;\" x=\"289.30292\" xlink:href=\"#mc6fff1182d\" y=\"100.447923\"/>\n     <use style=\"fill:#1f77b4;stroke:#1f77b4;\" x=\"289.39326\" xlink:href=\"#mc6fff1182d\" y=\"85.090422\"/>\n     <use style=\"fill:#1f77b4;stroke:#1f77b4;\" x=\"292.029234\" xlink:href=\"#mc6fff1182d\" y=\"80.414805\"/>\n     <use style=\"fill:#1f77b4;stroke:#1f77b4;\" x=\"293.893364\" xlink:href=\"#mc6fff1182d\" y=\"80.499657\"/>\n     <use style=\"fill:#1f77b4;stroke:#1f77b4;\" x=\"295.747595\" xlink:href=\"#mc6fff1182d\" y=\"79.654288\"/>\n     <use style=\"fill:#1f77b4;stroke:#1f77b4;\" x=\"300.742073\" xlink:href=\"#mc6fff1182d\" y=\"93.460558\"/>\n     <use style=\"fill:#1f77b4;stroke:#1f77b4;\" x=\"301.209322\" xlink:href=\"#mc6fff1182d\" y=\"120.866567\"/>\n     <use style=\"fill:#1f77b4;stroke:#1f77b4;\" x=\"303.634859\" xlink:href=\"#mc6fff1182d\" y=\"120.514363\"/>\n     <use style=\"fill:#1f77b4;stroke:#1f77b4;\" x=\"307.383233\" xlink:href=\"#mc6fff1182d\" y=\"136.47396\"/>\n     <use style=\"fill:#1f77b4;stroke:#1f77b4;\" x=\"314.563135\" xlink:href=\"#mc6fff1182d\" y=\"111.31583\"/>\n     <use style=\"fill:#1f77b4;stroke:#1f77b4;\" x=\"317.991996\" xlink:href=\"#mc6fff1182d\" y=\"141.8221\"/>\n     <use style=\"fill:#1f77b4;stroke:#1f77b4;\" x=\"323.580202\" xlink:href=\"#mc6fff1182d\" y=\"148.876457\"/>\n     <use style=\"fill:#1f77b4;stroke:#1f77b4;\" x=\"354.32491\" xlink:href=\"#mc6fff1182d\" y=\"179.341769\"/>\n     <use style=\"fill:#1f77b4;stroke:#1f77b4;\" x=\"358.064631\" xlink:href=\"#mc6fff1182d\" y=\"198.080231\"/>\n    </g>\n   </g>\n   <g id=\"line2d_24\">\n    <path clip-path=\"url(#p59663d4504)\" d=\"M 53.700994 47.667981 \nL 67.511519 50.503994 \nL 73.11512 52.172265 \nL 85.863811 57.951653 \nL 91.756847 62.122563 \nL 92.178292 62.47306 \nL 102.343459 73.861801 \nL 102.926056 74.722816 \nL 106.932283 81.40084 \nL 110.342232 88.205196 \nL 128.691395 138.200205 \nL 129.811438 141.328027 \nL 132.067191 147.396635 \nL 140.625275 166.853222 \nL 144.170437 173.158143 \nL 148.453882 179.508784 \nL 149.633219 181.030295 \nL 152.140259 183.957489 \nL 156.392123 188.00836 \nL 161.295438 191.311486 \nL 163.19475 192.203511 \nL 165.278125 192.932574 \nL 165.429726 192.975377 \nL 166.204951 193.172485 \nL 171.20003 193.555469 \nL 175.514727 192.615344 \nL 177.01608 192.002657 \nL 177.974674 191.532698 \nL 178.157581 191.436013 \nL 180.525268 189.978804 \nL 188.771336 181.854741 \nL 191.395294 178.262952 \nL 191.552565 178.032332 \nL 192.343374 176.846759 \nL 193.718747 174.682214 \nL 193.744807 174.639954 \nL 194.078149 174.095348 \nL 196.343051 170.198745 \nL 196.536344 169.850637 \nL 197.899015 167.329 \nL 200.6313 161.930867 \nL 202.6519 157.665524 \nL 203.822771 155.096421 \nL 205.523318 151.248644 \nL 207.553887 146.491938 \nL 207.734537 146.061029 \nL 209.035566 142.924084 \nL 211.548109 136.721286 \nL 212.423028 134.524777 \nL 212.591934 134.098944 \nL 213.710876 131.265138 \nL 214.737165 128.649616 \nL 215.993535 125.432424 \nL 217.17003 122.410693 \nL 217.724185 120.98615 \nL 219.722733 115.853757 \nL 220.012619 115.111163 \nL 220.118039 114.841291 \nL 221.256312 111.93475 \nL 222.560716 108.625659 \nL 224.098392 104.765226 \nL 229.721486 91.224351 \nL 230.453438 89.549555 \nL 232.940052 84.049559 \nL 237.207891 75.397942 \nL 238.737501 72.571403 \nL 239.939553 70.460202 \nL 240.55591 69.416419 \nL 240.641612 69.273404 \nL 243.815159 64.350788 \nL 248.0171 58.997593 \nL 248.080053 58.927791 \nL 248.419035 58.557201 \nL 249.396369 57.539285 \nL 250.303741 56.661654 \nL 250.506227 56.474695 \nL 251.06567 55.975045 \nL 251.976694 55.214545 \nL 254.746727 53.307935 \nL 259.896364 51.388777 \nL 262.364876 51.21705 \nL 264.561225 51.470724 \nL 267.861467 52.569742 \nL 268.95271 53.122254 \nL 278.658942 62.110044 \nL 281.145779 65.55056 \nL 289.30292 79.666122 \nL 289.39326 79.843391 \nL 292.029234 85.175505 \nL 293.893364 89.108055 \nL 295.747595 93.123138 \nL 300.742073 104.242492 \nL 301.209322 105.292506 \nL 303.634859 110.733708 \nL 307.383233 119.021314 \nL 314.563135 134.000172 \nL 317.991996 140.576265 \nL 323.580202 150.372603 \nL 354.32491 185.743874 \nL 358.064631 188.417128 \n\" style=\"fill:none;stroke:#ff0000;stroke-linecap:square;stroke-width:1.5;\"/>\n   </g>\n   <g id=\"patch_3\">\n    <path d=\"M 38.482813 224.64 \nL 38.482813 7.2 \n\" style=\"fill:none;stroke:#000000;stroke-linecap:square;stroke-linejoin:miter;stroke-width:0.8;\"/>\n   </g>\n   <g id=\"patch_4\">\n    <path d=\"M 373.282813 224.64 \nL 373.282813 7.2 \n\" style=\"fill:none;stroke:#000000;stroke-linecap:square;stroke-linejoin:miter;stroke-width:0.8;\"/>\n   </g>\n   <g id=\"patch_5\">\n    <path d=\"M 38.482812 224.64 \nL 373.282812 224.64 \n\" style=\"fill:none;stroke:#000000;stroke-linecap:square;stroke-linejoin:miter;stroke-width:0.8;\"/>\n   </g>\n   <g id=\"patch_6\">\n    <path d=\"M 38.482812 7.2 \nL 373.282812 7.2 \n\" style=\"fill:none;stroke:#000000;stroke-linecap:square;stroke-linejoin:miter;stroke-width:0.8;\"/>\n   </g>\n  </g>\n </g>\n <defs>\n  <clipPath id=\"p59663d4504\">\n   <rect height=\"217.44\" width=\"334.8\" x=\"38.482813\" y=\"7.2\"/>\n  </clipPath>\n </defs>\n</svg>\n",
      "image/png": "[encoded data removed]"
     },
     "metadata": {
      "needs_background": "light"
     }
    }
   ],
   "source": [
    "# Plot the trained MLP\n",
    "with torch.no_grad():\n",
    "    fig, ax = plt.subplots(1)\n",
    "    ax.plot(x, targets, '.')\n",
    "    y = model(x)\n",
    "    ax.plot(x, y.numpy(), 'r-')\n",
    "    ax.grid(True)"
   ]
  },
  {
   "cell_type": "code",
   "execution_count": 75,
   "metadata": {
    "deletable": false,
    "editable": false,
    "nbgrader": {
     "cell_type": "code",
     "checksum": "4db197fdfaa1ae0004f814d29cf3e211",
     "grade": true,
     "grade_id": "test_MLP",
     "locked": true,
     "points": 1,
     "schema_version": 3,
     "solution": false,
     "task": false
    }
   },
   "outputs": [],
   "source": [
    "# This cell tests MLP"
   ]
  },
  {
   "cell_type": "code",
   "execution_count": 76,
   "metadata": {
    "deletable": false,
    "editable": false,
    "nbgrader": {
     "cell_type": "code",
     "checksum": "46bb2b601a135c91c987836ef9d699f5",
     "grade": true,
     "grade_id": "cell-c3f1ecd7b05a123f",
     "locked": true,
     "points": 1,
     "schema_version": 3,
     "solution": false,
     "task": false
    }
   },
   "outputs": [],
   "source": [
    "# This cell tests MLP"
   ]
  }
 ],
 "metadata": {
  "kernelspec": {
   "display_name": "Python 3",
   "language": "python",
   "name": "python3"
  },
  "language_info": {
   "codemirror_mode": {
    "name": "ipython",
    "version": 3
   },
   "file_extension": ".py",
   "mimetype": "text/x-python",
   "name": "python",
   "nbconvert_exporter": "python",
   "pygments_lexer": "ipython3",
   "version": "3.9.2-final"
  },
  "varInspector": {
   "cols": {
    "lenName": 16,
    "lenType": 16,
    "lenVar": 40
   },
   "kernels_config": {
    "python": {
     "delete_cmd_postfix": "",
     "delete_cmd_prefix": "del ",
     "library": "var_list.py",
     "varRefreshCmd": "print(var_dic_list())"
    },
    "r": {
     "delete_cmd_postfix": ") ",
     "delete_cmd_prefix": "rm(",
     "library": "var_list.r",
     "varRefreshCmd": "cat(var_dic_list()) "
    }
   },
   "types_to_exclude": [
    "module",
    "function",
    "builtin_function_or_method",
    "instance",
    "_Feature"
   ],
   "window_display": false
  }
 },
 "nbformat": 4,
 "nbformat_minor": 2
}